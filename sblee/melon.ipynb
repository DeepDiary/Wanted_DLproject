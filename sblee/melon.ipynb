{
 "cells": [
  {
   "cell_type": "markdown",
   "metadata": {},
   "source": [
    "## 멜론 트로트 가사 수집"
   ]
  },
  {
   "cell_type": "code",
   "execution_count": 2,
   "metadata": {},
   "outputs": [],
   "source": [
    "from selenium import webdriver\n",
    "from selenium.webdriver.common.keys import Keys\n",
    "from selenium.webdriver.common.by import By\n",
    "from selenium.webdriver.support.ui import WebDriverWait\n",
    "from selenium.webdriver.support import expected_conditions as EC\n",
    "from selenium.common.exceptions import TimeoutException, NoSuchElementException, StaleElementReferenceException\n",
    "from selenium.webdriver.chrome.options import Options\n",
    "import csv\n",
    "import time\n",
    "from tqdm import tqdm"
   ]
  },
  {
   "cell_type": "code",
   "execution_count": 4,
   "metadata": {},
   "outputs": [
    {
     "name": "stderr",
     "output_type": "stream",
     "text": [
      "페이지 진행 상황:   0%|          | 0/100 [00:00<?, ?it/s]"
     ]
    },
    {
     "name": "stdout",
     "output_type": "stream",
     "text": [
      "Expand button not found or not clickable.\n",
      "Title: 진정인가요, Artist: 정서주\n"
     ]
    },
    {
     "name": "stderr",
     "output_type": "stream",
     "text": []
    },
    {
     "name": "stdout",
     "output_type": "stream",
     "text": [
      "Expand button not found or not clickable.\n",
      "Title: 멘토링 (Feat. 곽범), Artist: 이지요\n"
     ]
    },
    {
     "name": "stderr",
     "output_type": "stream",
     "text": []
    },
    {
     "name": "stdout",
     "output_type": "stream",
     "text": [
      "Expand button not found or not clickable.\n",
      "Title: 사랑의삼매경, Artist: 누나둘 (Nunadool)\n"
     ]
    },
    {
     "name": "stderr",
     "output_type": "stream",
     "text": []
    },
    {
     "name": "stdout",
     "output_type": "stream",
     "text": [
      "Expand button not found or not clickable.\n",
      "Lyrics element not found.\n",
      "Title: 거문고야 (Cover Ver.), Artist: 나두리\n"
     ]
    },
    {
     "name": "stderr",
     "output_type": "stream",
     "text": []
    },
    {
     "name": "stdout",
     "output_type": "stream",
     "text": [
      "Expand button not found or not clickable.\n",
      "Title: 유리꽃 (Cover Ver.), Artist: 김준영\n"
     ]
    },
    {
     "name": "stderr",
     "output_type": "stream",
     "text": []
    },
    {
     "name": "stdout",
     "output_type": "stream",
     "text": [
      "Expand button not found or not clickable.\n",
      "Title: 제목은 당신꽃, Artist: 동후\n"
     ]
    },
    {
     "name": "stderr",
     "output_type": "stream",
     "text": []
    },
    {
     "name": "stdout",
     "output_type": "stream",
     "text": [
      "Expand button not found or not clickable.\n",
      "Lyrics element not found.\n",
      "Title: 고흥연가, Artist: 소윤\n"
     ]
    },
    {
     "name": "stderr",
     "output_type": "stream",
     "text": []
    },
    {
     "name": "stdout",
     "output_type": "stream",
     "text": [
      "Expand button not found or not clickable.\n",
      "Title: 백세인생 살아보세, Artist: 준카\n"
     ]
    },
    {
     "name": "stderr",
     "output_type": "stream",
     "text": []
    },
    {
     "name": "stdout",
     "output_type": "stream",
     "text": [
      "Expand button not found or not clickable.\n",
      "Title: 그대 그리운 밤, Artist: 김현주\n"
     ]
    },
    {
     "name": "stderr",
     "output_type": "stream",
     "text": []
    },
    {
     "name": "stdout",
     "output_type": "stream",
     "text": [
      "Expand button not found or not clickable.\n",
      "Title: 그리고 별이 되어, Artist: 안송화\n"
     ]
    },
    {
     "name": "stderr",
     "output_type": "stream",
     "text": []
    },
    {
     "name": "stdout",
     "output_type": "stream",
     "text": [
      "Expand button not found or not clickable.\n",
      "Title: 꽃피는 중년, Artist: 초아강\n"
     ]
    },
    {
     "name": "stderr",
     "output_type": "stream",
     "text": []
    },
    {
     "name": "stdout",
     "output_type": "stream",
     "text": [
      "Expand button not found or not clickable.\n",
      "Title: 뜨거운 술잔 (Ver.2), Artist: 김성봉\n"
     ]
    },
    {
     "name": "stderr",
     "output_type": "stream",
     "text": []
    },
    {
     "name": "stdout",
     "output_type": "stream",
     "text": [
      "Expand button not found or not clickable.\n",
      "Title: 너만은 믿었건만, Artist: 안재동\n"
     ]
    },
    {
     "name": "stderr",
     "output_type": "stream",
     "text": []
    },
    {
     "name": "stdout",
     "output_type": "stream",
     "text": [
      "Expand button not found or not clickable.\n",
      "Title: 사퐁당 (부제：사랑에퐁당빠져버렸네), Artist: 선연\n"
     ]
    },
    {
     "name": "stderr",
     "output_type": "stream",
     "text": []
    },
    {
     "name": "stdout",
     "output_type": "stream",
     "text": [
      "Expand button not found or not clickable.\n",
      "Lyrics element not found.\n",
      "Title: 거문고 사랑, Artist: 장성아\n"
     ]
    },
    {
     "name": "stderr",
     "output_type": "stream",
     "text": []
    },
    {
     "name": "stdout",
     "output_type": "stream",
     "text": [
      "Expand button not found or not clickable.\n",
      "Title: 허둥대지마, Artist: 허둥\n"
     ]
    },
    {
     "name": "stderr",
     "output_type": "stream",
     "text": []
    },
    {
     "name": "stdout",
     "output_type": "stream",
     "text": [
      "Expand button not found or not clickable.\n",
      "Title: 사랑 바보, Artist: 조현철\n"
     ]
    },
    {
     "name": "stderr",
     "output_type": "stream",
     "text": []
    },
    {
     "name": "stdout",
     "output_type": "stream",
     "text": [
      "Expand button not found or not clickable.\n",
      "Title: 넘버원 (Feat. 윤민수 of 바이브), Artist: 강예슬\n"
     ]
    },
    {
     "name": "stderr",
     "output_type": "stream",
     "text": []
    },
    {
     "name": "stdout",
     "output_type": "stream",
     "text": [
      "Expand button not found or not clickable.\n",
      "Title: 흥타령, Artist: 박서진\n"
     ]
    },
    {
     "name": "stderr",
     "output_type": "stream",
     "text": []
    },
    {
     "name": "stdout",
     "output_type": "stream",
     "text": [
      "Expand button not found or not clickable.\n",
      "Title: 나는유투브다, Artist: P.K\n"
     ]
    },
    {
     "name": "stderr",
     "output_type": "stream",
     "text": []
    },
    {
     "name": "stdout",
     "output_type": "stream",
     "text": [
      "Expand button not found or not clickable.\n",
      "Title: 머니, Artist: 크리스 킴\n"
     ]
    },
    {
     "name": "stderr",
     "output_type": "stream",
     "text": []
    },
    {
     "name": "stdout",
     "output_type": "stream",
     "text": [
      "Expand button not found or not clickable.\n",
      "Title: 우리네 인생, Artist: 제갈영희\n"
     ]
    },
    {
     "name": "stderr",
     "output_type": "stream",
     "text": []
    },
    {
     "name": "stdout",
     "output_type": "stream",
     "text": [
      "Expand button not found or not clickable.\n",
      "Title: 돌곶이 시장, Artist: 김민\n"
     ]
    },
    {
     "name": "stderr",
     "output_type": "stream",
     "text": []
    },
    {
     "name": "stdout",
     "output_type": "stream",
     "text": [
      "Expand button not found or not clickable.\n",
      "Title: 무소의 뿔처럼, Artist: 토불\n"
     ]
    },
    {
     "name": "stderr",
     "output_type": "stream",
     "text": []
    },
    {
     "name": "stdout",
     "output_type": "stream",
     "text": [
      "Expand button not found or not clickable.\n",
      "Title: 성공의 길, Artist: 유성\n"
     ]
    },
    {
     "name": "stderr",
     "output_type": "stream",
     "text": []
    },
    {
     "name": "stdout",
     "output_type": "stream",
     "text": [
      "Expand button not found or not clickable.\n",
      "Title: 사랑은 비가 되어, Artist: 김성봉\n"
     ]
    },
    {
     "name": "stderr",
     "output_type": "stream",
     "text": []
    },
    {
     "name": "stdout",
     "output_type": "stream",
     "text": [
      "Expand button not found or not clickable.\n",
      "Title: 사랑은 미끄러워서, Artist: 김성봉\n"
     ]
    },
    {
     "name": "stderr",
     "output_type": "stream",
     "text": []
    },
    {
     "name": "stdout",
     "output_type": "stream",
     "text": [
      "Expand button not found or not clickable.\n",
      "Title: 보고 싶은 사람아, Artist: 정수범\n"
     ]
    },
    {
     "name": "stderr",
     "output_type": "stream",
     "text": []
    },
    {
     "name": "stdout",
     "output_type": "stream",
     "text": [
      "Expand button not found or not clickable.\n",
      "Lyrics element not found.\n",
      "Title: 사랑은 늘 도망가, Artist: 권윤경\n"
     ]
    },
    {
     "name": "stderr",
     "output_type": "stream",
     "text": []
    },
    {
     "name": "stdout",
     "output_type": "stream",
     "text": [
      "Expand button not found or not clickable.\n",
      "Title: 딱풀, Artist: 성배\n"
     ]
    },
    {
     "name": "stderr",
     "output_type": "stream",
     "text": []
    },
    {
     "name": "stdout",
     "output_type": "stream",
     "text": [
      "Expand button not found or not clickable.\n",
      "Title: 한잔 두잔 세잔, Artist: 황금아이\n"
     ]
    },
    {
     "name": "stderr",
     "output_type": "stream",
     "text": []
    },
    {
     "name": "stdout",
     "output_type": "stream",
     "text": [
      "Expand button not found or not clickable.\n",
      "Lyrics element not found.\n",
      "Title: 조건없는 사랑, Artist: 윤여희\n"
     ]
    },
    {
     "name": "stderr",
     "output_type": "stream",
     "text": []
    },
    {
     "name": "stdout",
     "output_type": "stream",
     "text": [
      "Expand button not found or not clickable.\n",
      "Title: 토닥 토닥, Artist: 이백길\n"
     ]
    },
    {
     "name": "stderr",
     "output_type": "stream",
     "text": []
    },
    {
     "name": "stdout",
     "output_type": "stream",
     "text": [
      "Expand button not found or not clickable.\n",
      "Title: 내고향 뚝방길, Artist: 이재자\n"
     ]
    },
    {
     "name": "stderr",
     "output_type": "stream",
     "text": []
    },
    {
     "name": "stdout",
     "output_type": "stream",
     "text": [
      "Expand button not found or not clickable.\n",
      "Title: 영원한 등불, Artist: 최태선\n"
     ]
    },
    {
     "name": "stderr",
     "output_type": "stream",
     "text": []
    },
    {
     "name": "stdout",
     "output_type": "stream",
     "text": [
      "Expand button not found or not clickable.\n",
      "Title: 너니까, Artist: 현선아\n"
     ]
    },
    {
     "name": "stderr",
     "output_type": "stream",
     "text": []
    },
    {
     "name": "stdout",
     "output_type": "stream",
     "text": [
      "Expand button not found or not clickable.\n",
      "Title: 만남을 위하여, Artist: 안재동\n"
     ]
    },
    {
     "name": "stderr",
     "output_type": "stream",
     "text": []
    },
    {
     "name": "stdout",
     "output_type": "stream",
     "text": [
      "Expand button not found or not clickable.\n",
      "Title: 김해 사나이, Artist: 양승환\n"
     ]
    },
    {
     "name": "stderr",
     "output_type": "stream",
     "text": []
    },
    {
     "name": "stdout",
     "output_type": "stream",
     "text": [
      "Expand button not found or not clickable.\n",
      "Title: 문제와 해결, Artist: 안재동\n"
     ]
    },
    {
     "name": "stderr",
     "output_type": "stream",
     "text": []
    },
    {
     "name": "stdout",
     "output_type": "stream",
     "text": [
      "Expand button not found or not clickable.\n",
      "Title: 원인과 결과, Artist: 안재동\n"
     ]
    },
    {
     "name": "stderr",
     "output_type": "stream",
     "text": []
    },
    {
     "name": "stdout",
     "output_type": "stream",
     "text": [
      "Expand button not found or not clickable.\n",
      "Title: 논다, Artist: 현승\n"
     ]
    },
    {
     "name": "stderr",
     "output_type": "stream",
     "text": []
    },
    {
     "name": "stdout",
     "output_type": "stream",
     "text": [
      "Expand button not found or not clickable.\n",
      "Lyrics element not found.\n",
      "Title: 추억의 소야곡, Artist: 권윤경\n"
     ]
    },
    {
     "name": "stderr",
     "output_type": "stream",
     "text": []
    },
    {
     "name": "stdout",
     "output_type": "stream",
     "text": [
      "Expand button not found or not clickable.\n",
      "Title: 내 이름은 홍길동, Artist: 송나진\n"
     ]
    },
    {
     "name": "stderr",
     "output_type": "stream",
     "text": []
    },
    {
     "name": "stdout",
     "output_type": "stream",
     "text": [
      "Expand button not found or not clickable.\n",
      "Lyrics element not found.\n",
      "Title: 칠갑산, Artist: 권윤경\n"
     ]
    },
    {
     "name": "stderr",
     "output_type": "stream",
     "text": []
    },
    {
     "name": "stdout",
     "output_type": "stream",
     "text": [
      "Expand button not found or not clickable.\n",
      "Title: 옛친구(디스코 버전), Artist: 박수미\n"
     ]
    },
    {
     "name": "stderr",
     "output_type": "stream",
     "text": []
    },
    {
     "name": "stdout",
     "output_type": "stream",
     "text": [
      "Expand button not found or not clickable.\n",
      "Title: 그 사람, Artist: 설녹수\n"
     ]
    },
    {
     "name": "stderr",
     "output_type": "stream",
     "text": []
    },
    {
     "name": "stdout",
     "output_type": "stream",
     "text": [
      "Expand button not found or not clickable.\n",
      "Title: 내 청춘아, Artist: 김영래\n"
     ]
    },
    {
     "name": "stderr",
     "output_type": "stream",
     "text": []
    },
    {
     "name": "stdout",
     "output_type": "stream",
     "text": [
      "Expand button not found or not clickable.\n",
      "Title: 내가슴 적시네, Artist: 유미\n"
     ]
    },
    {
     "name": "stderr",
     "output_type": "stream",
     "text": []
    },
    {
     "name": "stdout",
     "output_type": "stream",
     "text": [
      "Expand button not found or not clickable.\n",
      "Title: 계절같은 남자, Artist: 조나영\n"
     ]
    },
    {
     "name": "stderr",
     "output_type": "stream",
     "text": []
    },
    {
     "name": "stdout",
     "output_type": "stream",
     "text": [
      "Expand button not found or not clickable.\n",
      "Title: 드루와, Artist: 김영남\n"
     ]
    },
    {
     "name": "stderr",
     "output_type": "stream",
     "text": [
      "페이지 진행 상황:   1%|          | 1/100 [11:46<19:25:20, 706.26s/it]"
     ]
    },
    {
     "name": "stdout",
     "output_type": "stream",
     "text": [
      "Expand button not found or not clickable.\n",
      "Lyrics element not found.\n",
      "Title: 먹물같은 사랑 (New Ver.), Artist: 김유라\n"
     ]
    },
    {
     "name": "stderr",
     "output_type": "stream",
     "text": []
    },
    {
     "name": "stdout",
     "output_type": "stream",
     "text": [
      "Expand button not found or not clickable.\n",
      "Lyrics element not found.\n",
      "Title: 사랑해, Artist: 봄소리\n"
     ]
    },
    {
     "name": "stderr",
     "output_type": "stream",
     "text": []
    },
    {
     "name": "stdout",
     "output_type": "stream",
     "text": [
      "Expand button not found or not clickable.\n",
      "Title: 추억의 용호사거리, Artist: 양승환\n"
     ]
    },
    {
     "name": "stderr",
     "output_type": "stream",
     "text": []
    },
    {
     "name": "stdout",
     "output_type": "stream",
     "text": [
      "Expand button not found or not clickable.\n",
      "Title: 내고향 나주장터, Artist: 황제\n"
     ]
    },
    {
     "name": "stderr",
     "output_type": "stream",
     "text": []
    },
    {
     "name": "stdout",
     "output_type": "stream",
     "text": [
      "Expand button not found or not clickable.\n",
      "Title: 마누라와 영감탱이, Artist: 상큼이와 엉큼이\n"
     ]
    },
    {
     "name": "stderr",
     "output_type": "stream",
     "text": []
    },
    {
     "name": "stdout",
     "output_type": "stream",
     "text": [
      "Expand button not found or not clickable.\n",
      "Title: 정이 뭐길래, Artist: 박승희\n"
     ]
    },
    {
     "name": "stderr",
     "output_type": "stream",
     "text": []
    },
    {
     "name": "stdout",
     "output_type": "stream",
     "text": [
      "Expand button not found or not clickable.\n",
      "Title: 깡이 있어야 날제, Artist: 연수안\n"
     ]
    },
    {
     "name": "stderr",
     "output_type": "stream",
     "text": []
    },
    {
     "name": "stdout",
     "output_type": "stream",
     "text": [
      "Expand button not found or not clickable.\n",
      "Title: 지게, Artist: 김청\n"
     ]
    },
    {
     "name": "stderr",
     "output_type": "stream",
     "text": []
    },
    {
     "name": "stdout",
     "output_type": "stream",
     "text": [
      "Expand button not found or not clickable.\n",
      "Title: 국민의 노래, Artist: 안재동\n"
     ]
    },
    {
     "name": "stderr",
     "output_type": "stream",
     "text": []
    },
    {
     "name": "stdout",
     "output_type": "stream",
     "text": [
      "Expand button not found or not clickable.\n",
      "Title: 나만의 선물, Artist: 최성\n"
     ]
    },
    {
     "name": "stderr",
     "output_type": "stream",
     "text": []
    },
    {
     "name": "stdout",
     "output_type": "stream",
     "text": [
      "Expand button not found or not clickable.\n",
      "Title: 양산 그리고 물금, Artist: 양승환\n"
     ]
    },
    {
     "name": "stderr",
     "output_type": "stream",
     "text": []
    },
    {
     "name": "stdout",
     "output_type": "stream",
     "text": [
      "Expand button not found or not clickable.\n",
      "Title: 꽃 같은 여자, Artist: 남주원\n"
     ]
    },
    {
     "name": "stderr",
     "output_type": "stream",
     "text": []
    },
    {
     "name": "stdout",
     "output_type": "stream",
     "text": [
      "Expand button not found or not clickable.\n",
      "Title: 열애, Artist: 이지훈\n"
     ]
    },
    {
     "name": "stderr",
     "output_type": "stream",
     "text": []
    },
    {
     "name": "stdout",
     "output_type": "stream",
     "text": [
      "Expand button not found or not clickable.\n",
      "Title: 연인, Artist: 김용빈\n"
     ]
    },
    {
     "name": "stderr",
     "output_type": "stream",
     "text": []
    },
    {
     "name": "stdout",
     "output_type": "stream",
     "text": [
      "Expand button not found or not clickable.\n",
      "Title: 구포 시장, Artist: 양승환\n"
     ]
    },
    {
     "name": "stderr",
     "output_type": "stream",
     "text": []
    },
    {
     "name": "stdout",
     "output_type": "stream",
     "text": [
      "Expand button not found or not clickable.\n",
      "Lyrics element not found.\n",
      "Title: 머플러 아가씨, Artist: 튠즈\n"
     ]
    },
    {
     "name": "stderr",
     "output_type": "stream",
     "text": []
    },
    {
     "name": "stdout",
     "output_type": "stream",
     "text": [
      "Expand button not found or not clickable.\n",
      "Title: 내가 바보야, Artist: 손빈아\n"
     ]
    },
    {
     "name": "stderr",
     "output_type": "stream",
     "text": []
    },
    {
     "name": "stdout",
     "output_type": "stream",
     "text": [
      "Expand button not found or not clickable.\n",
      "Title: 달려갈거야, Artist: 양양\n"
     ]
    },
    {
     "name": "stderr",
     "output_type": "stream",
     "text": []
    },
    {
     "name": "stdout",
     "output_type": "stream",
     "text": [
      "Expand button not found or not clickable.\n",
      "Title: 당신의 참사랑, Artist: 민은이\n"
     ]
    },
    {
     "name": "stderr",
     "output_type": "stream",
     "text": []
    },
    {
     "name": "stdout",
     "output_type": "stream",
     "text": [
      "Expand button not found or not clickable.\n",
      "Title: 멋진 내 인생, Artist: 장윤경\n"
     ]
    },
    {
     "name": "stderr",
     "output_type": "stream",
     "text": []
    },
    {
     "name": "stdout",
     "output_type": "stream",
     "text": [
      "Expand button not found or not clickable.\n",
      "Lyrics element not found.\n",
      "Title: 송도밤바다 (Cover Ver.), Artist: 권미희\n"
     ]
    },
    {
     "name": "stderr",
     "output_type": "stream",
     "text": []
    },
    {
     "name": "stdout",
     "output_type": "stream",
     "text": [
      "Expand button not found or not clickable.\n",
      "Title: 운명, Artist: 박미원\n"
     ]
    },
    {
     "name": "stderr",
     "output_type": "stream",
     "text": []
    },
    {
     "name": "stdout",
     "output_type": "stream",
     "text": [
      "Expand button not found or not clickable.\n",
      "Title: 능소화 내사랑 (Cover Ver.), Artist: 이원희\n"
     ]
    },
    {
     "name": "stderr",
     "output_type": "stream",
     "text": []
    },
    {
     "name": "stdout",
     "output_type": "stream",
     "text": [
      "Expand button not found or not clickable.\n",
      "Title: 인생은, Artist: 황금아이\n"
     ]
    },
    {
     "name": "stderr",
     "output_type": "stream",
     "text": []
    },
    {
     "name": "stdout",
     "output_type": "stream",
     "text": [
      "Expand button not found or not clickable.\n",
      "Title: 첫키쓰, Artist: 김진평\n"
     ]
    },
    {
     "name": "stderr",
     "output_type": "stream",
     "text": []
    },
    {
     "name": "stdout",
     "output_type": "stream",
     "text": [
      "Expand button not found or not clickable.\n",
      "Title: 내 인생은 이제부터, Artist: 김명신\n"
     ]
    },
    {
     "name": "stderr",
     "output_type": "stream",
     "text": []
    },
    {
     "name": "stdout",
     "output_type": "stream",
     "text": [
      "Expand button not found or not clickable.\n",
      "Title: 어느 부부 이야기, Artist: 이영실\n"
     ]
    },
    {
     "name": "stderr",
     "output_type": "stream",
     "text": []
    },
    {
     "name": "stdout",
     "output_type": "stream",
     "text": [
      "Expand button not found or not clickable.\n",
      "Title: 보고픈 님, Artist: 황진석\n"
     ]
    },
    {
     "name": "stderr",
     "output_type": "stream",
     "text": []
    },
    {
     "name": "stdout",
     "output_type": "stream",
     "text": [
      "Expand button not found or not clickable.\n",
      "Title: 안 속아, Artist: 안재동\n"
     ]
    },
    {
     "name": "stderr",
     "output_type": "stream",
     "text": []
    },
    {
     "name": "stdout",
     "output_type": "stream",
     "text": [
      "Expand button not found or not clickable.\n",
      "Title: 보고픈 사랑, Artist: 박수희\n"
     ]
    },
    {
     "name": "stderr",
     "output_type": "stream",
     "text": []
    },
    {
     "name": "stdout",
     "output_type": "stream",
     "text": [
      "Expand button not found or not clickable.\n",
      "Title: 남자의 사랑, Artist: 태민\n"
     ]
    },
    {
     "name": "stderr",
     "output_type": "stream",
     "text": []
    },
    {
     "name": "stdout",
     "output_type": "stream",
     "text": [
      "Expand button not found or not clickable.\n",
      "Lyrics element not found.\n",
      "Title: 주저하지말아요 (Cover Ver.), Artist: 방미\n"
     ]
    },
    {
     "name": "stderr",
     "output_type": "stream",
     "text": []
    },
    {
     "name": "stdout",
     "output_type": "stream",
     "text": [
      "Expand button not found or not clickable.\n",
      "Title: 정들여 놓고, Artist: 복순이\n"
     ]
    },
    {
     "name": "stderr",
     "output_type": "stream",
     "text": []
    },
    {
     "name": "stdout",
     "output_type": "stream",
     "text": [
      "Expand button not found or not clickable.\n",
      "Title: 청춘열차 Ver.2, Artist: 박정식\n"
     ]
    },
    {
     "name": "stderr",
     "output_type": "stream",
     "text": []
    },
    {
     "name": "stdout",
     "output_type": "stream",
     "text": [
      "Expand button not found or not clickable.\n",
      "Lyrics element not found.\n",
      "Title: 대한민국 언론들아 잘 들어라, Artist: 안재동\n"
     ]
    },
    {
     "name": "stderr",
     "output_type": "stream",
     "text": []
    },
    {
     "name": "stdout",
     "output_type": "stream",
     "text": [
      "Expand button not found or not clickable.\n",
      "Title: 놀부가 기가 막혀, Artist: 송나진\n"
     ]
    },
    {
     "name": "stderr",
     "output_type": "stream",
     "text": []
    },
    {
     "name": "stdout",
     "output_type": "stream",
     "text": [
      "Expand button not found or not clickable.\n",
      "Title: 비연(悲緣), Artist: 박성현\n"
     ]
    },
    {
     "name": "stderr",
     "output_type": "stream",
     "text": []
    },
    {
     "name": "stdout",
     "output_type": "stream",
     "text": [
      "Expand button not found or not clickable.\n",
      "Title: 땡잡은 남자, Artist: 정은경\n"
     ]
    },
    {
     "name": "stderr",
     "output_type": "stream",
     "text": []
    },
    {
     "name": "stdout",
     "output_type": "stream",
     "text": [
      "Expand button not found or not clickable.\n",
      "Title: 대전역 부르스, Artist: 에녹\n"
     ]
    },
    {
     "name": "stderr",
     "output_type": "stream",
     "text": []
    },
    {
     "name": "stdout",
     "output_type": "stream",
     "text": [
      "Expand button not found or not clickable.\n",
      "Lyrics element not found.\n",
      "Title: 일편단심 민들레야 (Cover Ver.), Artist: 주미소\n"
     ]
    },
    {
     "name": "stderr",
     "output_type": "stream",
     "text": []
    },
    {
     "name": "stdout",
     "output_type": "stream",
     "text": [
      "Expand button not found or not clickable.\n",
      "Lyrics element not found.\n",
      "Title: 당신은 누구세요 (Cover Ver.), Artist: 김미선\n"
     ]
    },
    {
     "name": "stderr",
     "output_type": "stream",
     "text": []
    },
    {
     "name": "stdout",
     "output_type": "stream",
     "text": [
      "Expand button not found or not clickable.\n",
      "Lyrics element not found.\n",
      "Title: 이렇게 좋은날 (Cover Ver.), Artist: 김향순\n"
     ]
    },
    {
     "name": "stderr",
     "output_type": "stream",
     "text": []
    },
    {
     "name": "stdout",
     "output_type": "stream",
     "text": [
      "Expand button not found or not clickable.\n",
      "Lyrics element not found.\n",
      "Title: 이 순간이 지나면 (Cover Ver.), Artist: 로드한\n"
     ]
    },
    {
     "name": "stderr",
     "output_type": "stream",
     "text": []
    },
    {
     "name": "stdout",
     "output_type": "stream",
     "text": [
      "Expand button not found or not clickable.\n",
      "Lyrics element not found.\n",
      "Title: 파도 (Cover Ver.), Artist: 장유진\n"
     ]
    },
    {
     "name": "stderr",
     "output_type": "stream",
     "text": []
    },
    {
     "name": "stdout",
     "output_type": "stream",
     "text": [
      "Expand button not found or not clickable.\n",
      "Lyrics element not found.\n",
      "Title: 애정이 꽃피던 시절 (Cover Ver.), Artist: 이창배\n"
     ]
    },
    {
     "name": "stderr",
     "output_type": "stream",
     "text": []
    },
    {
     "name": "stdout",
     "output_type": "stream",
     "text": [
      "Expand button not found or not clickable.\n",
      "Title: 한강은 흐른다, Artist: MDI(이기영, 임성수)\n"
     ]
    },
    {
     "name": "stderr",
     "output_type": "stream",
     "text": []
    },
    {
     "name": "stdout",
     "output_type": "stream",
     "text": [
      "Expand button not found or not clickable.\n",
      "Lyrics element not found.\n",
      "Title: 애수 (Cover Ver.), Artist: 김지원\n"
     ]
    },
    {
     "name": "stderr",
     "output_type": "stream",
     "text": []
    },
    {
     "name": "stdout",
     "output_type": "stream",
     "text": [
      "Expand button not found or not clickable.\n",
      "Lyrics element not found.\n",
      "Title: 백분의십 (MR) (Cover Ver.), Artist: 홍석빈\n"
     ]
    },
    {
     "name": "stderr",
     "output_type": "stream",
     "text": []
    },
    {
     "name": "stdout",
     "output_type": "stream",
     "text": [
      "Expand button not found or not clickable.\n",
      "Title: 어쩌면 좋아, Artist: 정인선\n"
     ]
    },
    {
     "name": "stderr",
     "output_type": "stream",
     "text": []
    },
    {
     "name": "stdout",
     "output_type": "stream",
     "text": [
      "Expand button not found or not clickable.\n",
      "Title: 일자상서 (Cover Ver.), Artist: 이하윤\n"
     ]
    },
    {
     "name": "stderr",
     "output_type": "stream",
     "text": [
      "페이지 진행 상황:   2%|▏         | 2/100 [24:47<20:25:25, 750.26s/it]"
     ]
    },
    {
     "name": "stdout",
     "output_type": "stream",
     "text": [
      "Expand button not found or not clickable.\n",
      "Title: 이기대 그리고 오륙도, Artist: 양승환\n"
     ]
    },
    {
     "name": "stderr",
     "output_type": "stream",
     "text": []
    },
    {
     "name": "stdout",
     "output_type": "stream",
     "text": [
      "Expand button not found or not clickable.\n",
      "Lyrics element not found.\n",
      "Title: 나는 당신편, Artist: 이향\n"
     ]
    },
    {
     "name": "stderr",
     "output_type": "stream",
     "text": []
    },
    {
     "name": "stdout",
     "output_type": "stream",
     "text": [
      "Expand button not found or not clickable.\n",
      "Title: 공지천에서 Ver.2, Artist: 박정식\n"
     ]
    },
    {
     "name": "stderr",
     "output_type": "stream",
     "text": []
    },
    {
     "name": "stdout",
     "output_type": "stream",
     "text": [
      "Expand button not found or not clickable.\n",
      "Title: 단풍잎 사랑, Artist: 송산\n"
     ]
    },
    {
     "name": "stderr",
     "output_type": "stream",
     "text": []
    },
    {
     "name": "stdout",
     "output_type": "stream",
     "text": [
      "Expand button not found or not clickable.\n",
      "Title: 청춘, 그 포스터모더니즘, Artist: 김성봉\n"
     ]
    },
    {
     "name": "stderr",
     "output_type": "stream",
     "text": []
    },
    {
     "name": "stdout",
     "output_type": "stream",
     "text": [
      "Expand button not found or not clickable.\n",
      "Title: 항구의 일번지, Artist: 동구기\n"
     ]
    },
    {
     "name": "stderr",
     "output_type": "stream",
     "text": []
    },
    {
     "name": "stdout",
     "output_type": "stream",
     "text": [
      "Expand button not found or not clickable.\n",
      "Lyrics element not found.\n",
      "Title: 상사몽, Artist: 진휘진\n"
     ]
    },
    {
     "name": "stderr",
     "output_type": "stream",
     "text": []
    },
    {
     "name": "stdout",
     "output_type": "stream",
     "text": [
      "Expand button not found or not clickable.\n",
      "Title: 고목나무, Artist: 나정호\n"
     ]
    },
    {
     "name": "stderr",
     "output_type": "stream",
     "text": []
    },
    {
     "name": "stdout",
     "output_type": "stream",
     "text": [
      "Expand button not found or not clickable.\n",
      "Title: 한강아리랑, Artist: 홍장가\n"
     ]
    },
    {
     "name": "stderr",
     "output_type": "stream",
     "text": []
    },
    {
     "name": "stdout",
     "output_type": "stream",
     "text": [
      "Expand button not found or not clickable.\n",
      "Title: 정동진에서, Artist: 이대열\n"
     ]
    },
    {
     "name": "stderr",
     "output_type": "stream",
     "text": []
    },
    {
     "name": "stdout",
     "output_type": "stream",
     "text": [
      "Expand button not found or not clickable.\n",
      "Lyrics element not found.\n",
      "Title: 어머니의 바다 (Cover Ver.), Artist: 정권옥\n"
     ]
    },
    {
     "name": "stderr",
     "output_type": "stream",
     "text": []
    },
    {
     "name": "stdout",
     "output_type": "stream",
     "text": [
      "Expand button not found or not clickable.\n",
      "Title: 그리운 사람, Artist: 강천형\n"
     ]
    },
    {
     "name": "stderr",
     "output_type": "stream",
     "text": []
    },
    {
     "name": "stdout",
     "output_type": "stream",
     "text": [
      "Expand button not found or not clickable.\n",
      "Title: 부모님 전상서(KOR), Artist: 파파금파\n"
     ]
    },
    {
     "name": "stderr",
     "output_type": "stream",
     "text": []
    },
    {
     "name": "stdout",
     "output_type": "stream",
     "text": [
      "Expand button not found or not clickable.\n",
      "Title: 당신꽃, Artist: 정달빛\n"
     ]
    },
    {
     "name": "stderr",
     "output_type": "stream",
     "text": []
    },
    {
     "name": "stdout",
     "output_type": "stream",
     "text": [
      "Expand button not found or not clickable.\n",
      "Title: 그대가최고야, Artist: 나정호\n"
     ]
    },
    {
     "name": "stderr",
     "output_type": "stream",
     "text": []
    },
    {
     "name": "stdout",
     "output_type": "stream",
     "text": [
      "Expand button not found or not clickable.\n",
      "Title: 평생친구, Artist: 한상필\n"
     ]
    },
    {
     "name": "stderr",
     "output_type": "stream",
     "text": []
    },
    {
     "name": "stdout",
     "output_type": "stream",
     "text": [
      "Expand button not found or not clickable.\n",
      "Title: 살림남, Artist: 유시진\n"
     ]
    },
    {
     "name": "stderr",
     "output_type": "stream",
     "text": []
    },
    {
     "name": "stdout",
     "output_type": "stream",
     "text": [
      "Expand button not found or not clickable.\n",
      "Title: 아픈 사랑의 그리움, Artist: 공 주 혜\n"
     ]
    },
    {
     "name": "stderr",
     "output_type": "stream",
     "text": []
    },
    {
     "name": "stdout",
     "output_type": "stream",
     "text": [
      "Expand button not found or not clickable.\n",
      "Title: 당신이 복권, Artist: 화자\n"
     ]
    },
    {
     "name": "stderr",
     "output_type": "stream",
     "text": []
    },
    {
     "name": "stdout",
     "output_type": "stream",
     "text": [
      "Expand button not found or not clickable.\n",
      "Title: 남자라면, Artist: 송우주\n"
     ]
    },
    {
     "name": "stderr",
     "output_type": "stream",
     "text": []
    },
    {
     "name": "stdout",
     "output_type": "stream",
     "text": [
      "Expand button not found or not clickable.\n",
      "Title: 위대한 약속 (Cover Ver.), Artist: 김광순\n"
     ]
    },
    {
     "name": "stderr",
     "output_type": "stream",
     "text": []
    },
    {
     "name": "stdout",
     "output_type": "stream",
     "text": [
      "Expand button not found or not clickable.\n",
      "Title: 사랑도 먼저 이별도 먼저, Artist: 송기상\n"
     ]
    },
    {
     "name": "stderr",
     "output_type": "stream",
     "text": []
    },
    {
     "name": "stdout",
     "output_type": "stream",
     "text": [
      "Expand button not found or not clickable.\n",
      "Title: 놀아보세, Artist: 희호\n"
     ]
    },
    {
     "name": "stderr",
     "output_type": "stream",
     "text": []
    },
    {
     "name": "stdout",
     "output_type": "stream",
     "text": [
      "Expand button not found or not clickable.\n",
      "Lyrics element not found.\n",
      "Title: 부산 부산아, Artist: 성준\n"
     ]
    },
    {
     "name": "stderr",
     "output_type": "stream",
     "text": []
    },
    {
     "name": "stdout",
     "output_type": "stream",
     "text": [
      "Expand button not found or not clickable.\n",
      "Title: 당신이 최고야, Artist: 나세영\n"
     ]
    },
    {
     "name": "stderr",
     "output_type": "stream",
     "text": []
    },
    {
     "name": "stdout",
     "output_type": "stream",
     "text": [
      "Expand button not found or not clickable.\n",
      "Lyrics element not found.\n",
      "Title: 원모타임, Artist: 현진우\n"
     ]
    },
    {
     "name": "stderr",
     "output_type": "stream",
     "text": []
    },
    {
     "name": "stdout",
     "output_type": "stream",
     "text": [
      "Expand button not found or not clickable.\n",
      "Title: 푹 빠졌나봐, Artist: 현숙\n"
     ]
    },
    {
     "name": "stderr",
     "output_type": "stream",
     "text": []
    },
    {
     "name": "stdout",
     "output_type": "stream",
     "text": [
      "Expand button not found or not clickable.\n",
      "Title: 외사랑, Artist: 문도\n"
     ]
    },
    {
     "name": "stderr",
     "output_type": "stream",
     "text": []
    },
    {
     "name": "stdout",
     "output_type": "stream",
     "text": [
      "Expand button not found or not clickable.\n",
      "Title: 피멍, Artist: 정초신\n"
     ]
    },
    {
     "name": "stderr",
     "output_type": "stream",
     "text": []
    },
    {
     "name": "stdout",
     "output_type": "stream",
     "text": [
      "Expand button not found or not clickable.\n",
      "Title: 둥지, Artist: 천록담\n"
     ]
    },
    {
     "name": "stderr",
     "output_type": "stream",
     "text": []
    },
    {
     "name": "stdout",
     "output_type": "stream",
     "text": [
      "Expand button not found or not clickable.\n",
      "Title: 어느 날 고백, Artist: 강보민\n"
     ]
    },
    {
     "name": "stderr",
     "output_type": "stream",
     "text": []
    },
    {
     "name": "stdout",
     "output_type": "stream",
     "text": [
      "Expand button not found or not clickable.\n",
      "Lyrics element not found.\n",
      "Title: 마음을 쏘다, Artist: 튠즈\n"
     ]
    },
    {
     "name": "stderr",
     "output_type": "stream",
     "text": []
    },
    {
     "name": "stdout",
     "output_type": "stream",
     "text": [
      "Expand button not found or not clickable.\n",
      "Title: 연인, Artist: 김용빈\n"
     ]
    },
    {
     "name": "stderr",
     "output_type": "stream",
     "text": []
    },
    {
     "name": "stdout",
     "output_type": "stream",
     "text": [
      "Expand button not found or not clickable.\n",
      "Title: 당신이기 때문에 사랑합니다 (Vocal. AI 명진, 수현), Artist: 이천우\n"
     ]
    },
    {
     "name": "stderr",
     "output_type": "stream",
     "text": []
    },
    {
     "name": "stdout",
     "output_type": "stream",
     "text": [
      "Expand button not found or not clickable.\n",
      "Title: 내 작은 종이배, Artist: 이래저래\n"
     ]
    },
    {
     "name": "stderr",
     "output_type": "stream",
     "text": []
    },
    {
     "name": "stdout",
     "output_type": "stream",
     "text": [
      "Expand button not found or not clickable.\n",
      "Title: 그리운 사람아, Artist: 참사랑\n"
     ]
    },
    {
     "name": "stderr",
     "output_type": "stream",
     "text": []
    },
    {
     "name": "stdout",
     "output_type": "stream",
     "text": [
      "Expand button not found or not clickable.\n",
      "Title: 그리운 내사랑, Artist: 아름\n"
     ]
    },
    {
     "name": "stderr",
     "output_type": "stream",
     "text": []
    },
    {
     "name": "stdout",
     "output_type": "stream",
     "text": [
      "Expand button not found or not clickable.\n",
      "Title: 내사랑, Artist: 문선아\n"
     ]
    },
    {
     "name": "stderr",
     "output_type": "stream",
     "text": []
    },
    {
     "name": "stdout",
     "output_type": "stream",
     "text": [
      "Expand button not found or not clickable.\n",
      "Lyrics element not found.\n",
      "Title: 동화사, Artist: 권정화\n"
     ]
    },
    {
     "name": "stderr",
     "output_type": "stream",
     "text": []
    },
    {
     "name": "stdout",
     "output_type": "stream",
     "text": [
      "Expand button not found or not clickable.\n",
      "Title: 시간이 약이랍니다, Artist: 김동관\n"
     ]
    },
    {
     "name": "stderr",
     "output_type": "stream",
     "text": []
    },
    {
     "name": "stdout",
     "output_type": "stream",
     "text": [
      "Expand button not found or not clickable.\n",
      "Title: 인생은 복불복, Artist: 김성봉\n"
     ]
    },
    {
     "name": "stderr",
     "output_type": "stream",
     "text": []
    },
    {
     "name": "stdout",
     "output_type": "stream",
     "text": [
      "Expand button not found or not clickable.\n",
      "Lyrics element not found.\n",
      "Title: 대구아가씨, Artist: 권정화\n"
     ]
    },
    {
     "name": "stderr",
     "output_type": "stream",
     "text": []
    },
    {
     "name": "stdout",
     "output_type": "stream",
     "text": [
      "Expand button not found or not clickable.\n",
      "Title: 사랑이 (Cover Ver.), Artist: 신강호\n"
     ]
    },
    {
     "name": "stderr",
     "output_type": "stream",
     "text": []
    },
    {
     "name": "stdout",
     "output_type": "stream",
     "text": [
      "Expand button not found or not clickable.\n",
      "Title: 우리 사랑 황혼은 없다, Artist: 김차규\n"
     ]
    },
    {
     "name": "stderr",
     "output_type": "stream",
     "text": []
    },
    {
     "name": "stdout",
     "output_type": "stream",
     "text": [
      "Expand button not found or not clickable.\n",
      "Title: 집으로 가는 길, Artist: 남일해\n"
     ]
    },
    {
     "name": "stderr",
     "output_type": "stream",
     "text": []
    },
    {
     "name": "stdout",
     "output_type": "stream",
     "text": [
      "Expand button not found or not clickable.\n",
      "Title: 사랑합니다, Artist: 초심\n"
     ]
    },
    {
     "name": "stderr",
     "output_type": "stream",
     "text": []
    },
    {
     "name": "stdout",
     "output_type": "stream",
     "text": [
      "Expand button not found or not clickable.\n",
      "Title: 늦은 인연, Artist: 정성제\n"
     ]
    },
    {
     "name": "stderr",
     "output_type": "stream",
     "text": []
    },
    {
     "name": "stdout",
     "output_type": "stream",
     "text": [
      "Expand button not found or not clickable.\n",
      "Title: 친구들아, Artist: 이글수\n"
     ]
    },
    {
     "name": "stderr",
     "output_type": "stream",
     "text": []
    },
    {
     "name": "stdout",
     "output_type": "stream",
     "text": [
      "Expand button not found or not clickable.\n",
      "Title: 모래꽃, Artist: 박천재\n"
     ]
    },
    {
     "name": "stderr",
     "output_type": "stream",
     "text": []
    },
    {
     "name": "stdout",
     "output_type": "stream",
     "text": [
      "Expand button not found or not clickable.\n",
      "Title: 뜨거운 술잔, Artist: 김성봉\n"
     ]
    },
    {
     "name": "stderr",
     "output_type": "stream",
     "text": [
      "페이지 진행 상황:   3%|▎         | 3/100 [36:43<19:47:37, 734.62s/it]"
     ]
    },
    {
     "name": "stdout",
     "output_type": "stream",
     "text": [
      "Expand button not found or not clickable.\n",
      "Title: 커피한잔 (Cover Ver.), Artist: 리븐\n"
     ]
    },
    {
     "name": "stderr",
     "output_type": "stream",
     "text": []
    },
    {
     "name": "stdout",
     "output_type": "stream",
     "text": [
      "Expand button not found or not clickable.\n",
      "Title: 회상, Artist: 김정호\n"
     ]
    },
    {
     "name": "stderr",
     "output_type": "stream",
     "text": []
    },
    {
     "name": "stdout",
     "output_type": "stream",
     "text": [
      "Expand button not found or not clickable.\n",
      "Title: 인생은 장기판, Artist: 김성봉\n"
     ]
    },
    {
     "name": "stderr",
     "output_type": "stream",
     "text": []
    },
    {
     "name": "stdout",
     "output_type": "stream",
     "text": [
      "Expand button not found or not clickable.\n",
      "Title: 사랑인가봐요, Artist: 채현서\n"
     ]
    },
    {
     "name": "stderr",
     "output_type": "stream",
     "text": []
    },
    {
     "name": "stdout",
     "output_type": "stream",
     "text": [
      "Expand button not found or not clickable.\n",
      "Title: 행복해지세요, Artist: 조순례\n"
     ]
    },
    {
     "name": "stderr",
     "output_type": "stream",
     "text": []
    },
    {
     "name": "stdout",
     "output_type": "stream",
     "text": [
      "Expand button not found or not clickable.\n",
      "Title: 가끔가다가, Artist: 방휘영\n"
     ]
    },
    {
     "name": "stderr",
     "output_type": "stream",
     "text": []
    },
    {
     "name": "stdout",
     "output_type": "stream",
     "text": [
      "Expand button not found or not clickable.\n",
      "Title: 무조건 사랑할래요, Artist: 신은미\n"
     ]
    },
    {
     "name": "stderr",
     "output_type": "stream",
     "text": []
    },
    {
     "name": "stdout",
     "output_type": "stream",
     "text": [
      "Expand button not found or not clickable.\n",
      "Lyrics element not found.\n",
      "Title: 추억의미련, Artist: 한현\n"
     ]
    },
    {
     "name": "stderr",
     "output_type": "stream",
     "text": []
    },
    {
     "name": "stdout",
     "output_type": "stream",
     "text": [
      "Expand button not found or not clickable.\n",
      "Title: 승부, Artist: 복성\n"
     ]
    },
    {
     "name": "stderr",
     "output_type": "stream",
     "text": []
    },
    {
     "name": "stdout",
     "output_type": "stream",
     "text": [
      "Expand button not found or not clickable.\n",
      "Title: 당신은 나의 희망입니다, Artist: 안재동\n"
     ]
    },
    {
     "name": "stderr",
     "output_type": "stream",
     "text": []
    },
    {
     "name": "stdout",
     "output_type": "stream",
     "text": [
      "Expand button not found or not clickable.\n",
      "Title: 사랑 그리고 감사, Artist: 윤태익\n"
     ]
    },
    {
     "name": "stderr",
     "output_type": "stream",
     "text": []
    },
    {
     "name": "stdout",
     "output_type": "stream",
     "text": [
      "Expand button not found or not clickable.\n",
      "Title: 인생길의 봄날은, Artist: 공 주 혜\n"
     ]
    },
    {
     "name": "stderr",
     "output_type": "stream",
     "text": []
    },
    {
     "name": "stdout",
     "output_type": "stream",
     "text": [
      "Expand button not found or not clickable.\n",
      "Title: 네박자, Artist: 신승태\n"
     ]
    },
    {
     "name": "stderr",
     "output_type": "stream",
     "text": []
    },
    {
     "name": "stdout",
     "output_type": "stream",
     "text": [
      "Expand button not found or not clickable.\n",
      "Lyrics element not found.\n",
      "Title: 사랑이 별건가 (Cover Ver.), Artist: 윤미자\n"
     ]
    },
    {
     "name": "stderr",
     "output_type": "stream",
     "text": []
    },
    {
     "name": "stdout",
     "output_type": "stream",
     "text": [
      "Expand button not found or not clickable.\n",
      "Title: 사랑한다 내 아들아, Artist: 백현구\n"
     ]
    },
    {
     "name": "stderr",
     "output_type": "stream",
     "text": []
    },
    {
     "name": "stdout",
     "output_type": "stream",
     "text": [
      "Expand button not found or not clickable.\n",
      "Title: 천리만리향, Artist: 고경\n"
     ]
    },
    {
     "name": "stderr",
     "output_type": "stream",
     "text": []
    },
    {
     "name": "stdout",
     "output_type": "stream",
     "text": [
      "Expand button not found or not clickable.\n",
      "Title: 사랑의 범인, Artist: 하모\n"
     ]
    },
    {
     "name": "stderr",
     "output_type": "stream",
     "text": []
    },
    {
     "name": "stdout",
     "output_type": "stream",
     "text": [
      "Expand button not found or not clickable.\n",
      "Title: 내가 여기 있는 이유, Artist: 최성\n"
     ]
    },
    {
     "name": "stderr",
     "output_type": "stream",
     "text": []
    },
    {
     "name": "stdout",
     "output_type": "stream",
     "text": [
      "Expand button not found or not clickable.\n",
      "Lyrics element not found.\n",
      "Title: 사랑은 꿈만 같아도, Artist: 해피보이\n"
     ]
    },
    {
     "name": "stderr",
     "output_type": "stream",
     "text": []
    },
    {
     "name": "stdout",
     "output_type": "stream",
     "text": [
      "Expand button not found or not clickable.\n",
      "Lyrics element not found.\n",
      "Title: 사랑은바람, Artist: 주민주\n"
     ]
    },
    {
     "name": "stderr",
     "output_type": "stream",
     "text": []
    },
    {
     "name": "stdout",
     "output_type": "stream",
     "text": [
      "Expand button not found or not clickable.\n",
      "Lyrics element not found.\n",
      "Title: 그대를사랑해요, Artist: 김귀례\n"
     ]
    },
    {
     "name": "stderr",
     "output_type": "stream",
     "text": []
    },
    {
     "name": "stdout",
     "output_type": "stream",
     "text": [
      "Expand button not found or not clickable.\n",
      "Title: 꽃피는 용두산, Artist: 김철한\n"
     ]
    },
    {
     "name": "stderr",
     "output_type": "stream",
     "text": []
    },
    {
     "name": "stdout",
     "output_type": "stream",
     "text": [
      "Expand button not found or not clickable.\n",
      "Title: 못다핀꽃한송이 (Cover Ver.), Artist: 청아\n"
     ]
    },
    {
     "name": "stderr",
     "output_type": "stream",
     "text": []
    },
    {
     "name": "stdout",
     "output_type": "stream",
     "text": [
      "Expand button not found or not clickable.\n",
      "Title: 사랑의 키오스크(Prod. Desert), Artist: 이지수\n"
     ]
    },
    {
     "name": "stderr",
     "output_type": "stream",
     "text": []
    },
    {
     "name": "stdout",
     "output_type": "stream",
     "text": [
      "Expand button not found or not clickable.\n",
      "Title: 아사달, Artist: 송가인\n"
     ]
    },
    {
     "name": "stderr",
     "output_type": "stream",
     "text": []
    },
    {
     "name": "stdout",
     "output_type": "stream",
     "text": [
      "Expand button not found or not clickable.\n",
      "Title: 우리 아버지란다, Artist: 김양\n"
     ]
    },
    {
     "name": "stderr",
     "output_type": "stream",
     "text": []
    },
    {
     "name": "stdout",
     "output_type": "stream",
     "text": [
      "Expand button not found or not clickable.\n",
      "Title: 인생2막, Artist: 준이 윤\n"
     ]
    },
    {
     "name": "stderr",
     "output_type": "stream",
     "text": []
    },
    {
     "name": "stdout",
     "output_type": "stream",
     "text": [
      "Expand button not found or not clickable.\n",
      "Lyrics element not found.\n",
      "Title: 사랑이 오려나, Artist: 해피보이\n"
     ]
    },
    {
     "name": "stderr",
     "output_type": "stream",
     "text": []
    },
    {
     "name": "stdout",
     "output_type": "stream",
     "text": [
      "Expand button not found or not clickable.\n",
      "Title: 나를울리는사랑 (Cover Ver.), Artist: 대사냥\n"
     ]
    },
    {
     "name": "stderr",
     "output_type": "stream",
     "text": []
    },
    {
     "name": "stdout",
     "output_type": "stream",
     "text": [
      "Expand button not found or not clickable.\n",
      "Title: 하늘이 맺어준 사랑, Artist: 김창아\n"
     ]
    },
    {
     "name": "stderr",
     "output_type": "stream",
     "text": []
    },
    {
     "name": "stdout",
     "output_type": "stream",
     "text": [
      "Expand button not found or not clickable.\n",
      "Title: 너에게 건넨 사랑의 초콜릿, Artist: 신선미\n"
     ]
    },
    {
     "name": "stderr",
     "output_type": "stream",
     "text": []
    },
    {
     "name": "stdout",
     "output_type": "stream",
     "text": [
      "Expand button not found or not clickable.\n",
      "Title: 새벽길 (Cover Ver.), Artist: 정정아\n"
     ]
    },
    {
     "name": "stderr",
     "output_type": "stream",
     "text": []
    },
    {
     "name": "stdout",
     "output_type": "stream",
     "text": [
      "Expand button not found or not clickable.\n",
      "Lyrics element not found.\n",
      "Title: 안면도사랑, Artist: 예지킴\n"
     ]
    },
    {
     "name": "stderr",
     "output_type": "stream",
     "text": []
    },
    {
     "name": "stdout",
     "output_type": "stream",
     "text": [
      "Expand button not found or not clickable.\n",
      "Title: 외교의 신 `서희`, Artist: 서희\n"
     ]
    },
    {
     "name": "stderr",
     "output_type": "stream",
     "text": []
    },
    {
     "name": "stdout",
     "output_type": "stream",
     "text": [
      "Expand button not found or not clickable.\n",
      "Title: 동해선, Artist: 지남진\n"
     ]
    },
    {
     "name": "stderr",
     "output_type": "stream",
     "text": []
    },
    {
     "name": "stdout",
     "output_type": "stream",
     "text": [
      "Expand button not found or not clickable.\n",
      "Title: 비껴간 얄미운 사랑, Artist: 임심철\n"
     ]
    },
    {
     "name": "stderr",
     "output_type": "stream",
     "text": []
    },
    {
     "name": "stdout",
     "output_type": "stream",
     "text": [
      "Expand button not found or not clickable.\n",
      "Title: 함께아리랑, Artist: 한대희\n"
     ]
    },
    {
     "name": "stderr",
     "output_type": "stream",
     "text": []
    },
    {
     "name": "stdout",
     "output_type": "stream",
     "text": [
      "Expand button not found or not clickable.\n",
      "Title: 월세방에서, Artist: 차오름\n"
     ]
    },
    {
     "name": "stderr",
     "output_type": "stream",
     "text": []
    },
    {
     "name": "stdout",
     "output_type": "stream",
     "text": [
      "Expand button not found or not clickable.\n",
      "Title: 내 마음의 트로트, Artist: 공 주 혜\n"
     ]
    },
    {
     "name": "stderr",
     "output_type": "stream",
     "text": []
    },
    {
     "name": "stdout",
     "output_type": "stream",
     "text": [
      "Expand button not found or not clickable.\n",
      "Title: 뽀뽀나 해주세요 (Prod. 장윤정), Artist: 김홍남\n"
     ]
    },
    {
     "name": "stderr",
     "output_type": "stream",
     "text": []
    },
    {
     "name": "stdout",
     "output_type": "stream",
     "text": [
      "Expand button not found or not clickable.\n",
      "Title: 쾌걸 여사친, Artist: 재범박\n"
     ]
    },
    {
     "name": "stderr",
     "output_type": "stream",
     "text": []
    },
    {
     "name": "stdout",
     "output_type": "stream",
     "text": [
      "Expand button not found or not clickable.\n",
      "Title: 멋진 내 당신, Artist: 장하늘\n"
     ]
    },
    {
     "name": "stderr",
     "output_type": "stream",
     "text": []
    },
    {
     "name": "stdout",
     "output_type": "stream",
     "text": [
      "Expand button not found or not clickable.\n",
      "Title: 눈도장찍어주세요, Artist: 오비향\n"
     ]
    },
    {
     "name": "stderr",
     "output_type": "stream",
     "text": []
    },
    {
     "name": "stdout",
     "output_type": "stream",
     "text": [
      "Expand button not found or not clickable.\n",
      "Title: 인생한판, Artist: 김태형\n"
     ]
    },
    {
     "name": "stderr",
     "output_type": "stream",
     "text": []
    },
    {
     "name": "stdout",
     "output_type": "stream",
     "text": [
      "Expand button not found or not clickable.\n",
      "Title: 소금꽃, Artist: 정해수\n"
     ]
    },
    {
     "name": "stderr",
     "output_type": "stream",
     "text": []
    },
    {
     "name": "stdout",
     "output_type": "stream",
     "text": [
      "Expand button not found or not clickable.\n",
      "Title: 금가락지 (Cover Ver.), Artist: 한사랑\n"
     ]
    },
    {
     "name": "stderr",
     "output_type": "stream",
     "text": []
    },
    {
     "name": "stdout",
     "output_type": "stream",
     "text": [
      "Expand button not found or not clickable.\n",
      "Title: 새옹지마, Artist: 이박사\n"
     ]
    },
    {
     "name": "stderr",
     "output_type": "stream",
     "text": []
    },
    {
     "name": "stdout",
     "output_type": "stream",
     "text": [
      "Expand button not found or not clickable.\n",
      "Title: 김치코리아, Artist: 서희\n"
     ]
    },
    {
     "name": "stderr",
     "output_type": "stream",
     "text": []
    },
    {
     "name": "stdout",
     "output_type": "stream",
     "text": [
      "Expand button not found or not clickable.\n",
      "Title: 가슴에 사랑을 심자, Artist: SunO\n"
     ]
    },
    {
     "name": "stderr",
     "output_type": "stream",
     "text": []
    },
    {
     "name": "stdout",
     "output_type": "stream",
     "text": [
      "Expand button not found or not clickable.\n",
      "Lyrics element not found.\n",
      "Title: 생일 축하해 생일 축하해, Artist: 해피걸\n"
     ]
    },
    {
     "name": "stderr",
     "output_type": "stream",
     "text": [
      "페이지 진행 상황:   4%|▍         | 4/100 [48:42<19:25:32, 728.47s/it]"
     ]
    },
    {
     "name": "stdout",
     "output_type": "stream",
     "text": [
      "Expand button not found or not clickable.\n",
      "Title: 세월길 인생길, Artist: 키보이스 앤 걸\n"
     ]
    },
    {
     "name": "stderr",
     "output_type": "stream",
     "text": []
    },
    {
     "name": "stdout",
     "output_type": "stream",
     "text": [
      "Expand button not found or not clickable.\n",
      "Title: 나그네야, Artist: 윤중식\n"
     ]
    },
    {
     "name": "stderr",
     "output_type": "stream",
     "text": []
    },
    {
     "name": "stdout",
     "output_type": "stream",
     "text": [
      "Expand button not found or not clickable.\n",
      "Title: 잊을 수 없어요, Artist: 박정현\n"
     ]
    },
    {
     "name": "stderr",
     "output_type": "stream",
     "text": []
    },
    {
     "name": "stdout",
     "output_type": "stream",
     "text": [
      "Expand button not found or not clickable.\n",
      "Title: 내 사람, Artist: 방미연\n"
     ]
    },
    {
     "name": "stderr",
     "output_type": "stream",
     "text": []
    },
    {
     "name": "stdout",
     "output_type": "stream",
     "text": [
      "Expand button not found or not clickable.\n",
      "Title: 청바지, Artist: 조아\n"
     ]
    },
    {
     "name": "stderr",
     "output_type": "stream",
     "text": []
    },
    {
     "name": "stdout",
     "output_type": "stream",
     "text": [
      "Expand button not found or not clickable.\n",
      "Title: 내 사랑이 너를 부를때, Artist: 도담\n"
     ]
    },
    {
     "name": "stderr",
     "output_type": "stream",
     "text": []
    },
    {
     "name": "stdout",
     "output_type": "stream",
     "text": [
      "Expand button not found or not clickable.\n",
      "Title: 꿈이였나, Artist: 김선호\n"
     ]
    },
    {
     "name": "stderr",
     "output_type": "stream",
     "text": []
    },
    {
     "name": "stdout",
     "output_type": "stream",
     "text": [
      "Expand button not found or not clickable.\n",
      "Lyrics element not found.\n",
      "Title: 소중한 사람, Artist: 유환중\n"
     ]
    },
    {
     "name": "stderr",
     "output_type": "stream",
     "text": []
    },
    {
     "name": "stdout",
     "output_type": "stream",
     "text": [
      "Expand button not found or not clickable.\n",
      "Title: 잡초, Artist: 천록담\n"
     ]
    },
    {
     "name": "stderr",
     "output_type": "stream",
     "text": []
    },
    {
     "name": "stdout",
     "output_type": "stream",
     "text": [
      "Expand button not found or not clickable.\n",
      "Title: 나를 외치다, Artist: 천록담\n"
     ]
    },
    {
     "name": "stderr",
     "output_type": "stream",
     "text": []
    },
    {
     "name": "stdout",
     "output_type": "stream",
     "text": [
      "Expand button not found or not clickable.\n",
      "Title: 돈대문아 열려라!, Artist: 나비드 (NAVID)\n"
     ]
    },
    {
     "name": "stderr",
     "output_type": "stream",
     "text": []
    },
    {
     "name": "stdout",
     "output_type": "stream",
     "text": [
      "Expand button not found or not clickable.\n",
      "Title: 장한가 (Cover Ver.), Artist: 경나현\n"
     ]
    },
    {
     "name": "stderr",
     "output_type": "stream",
     "text": []
    },
    {
     "name": "stdout",
     "output_type": "stream",
     "text": [
      "Expand button not found or not clickable.\n",
      "Title: 참 좋다, Artist: 김동현\n"
     ]
    },
    {
     "name": "stderr",
     "output_type": "stream",
     "text": []
    },
    {
     "name": "stdout",
     "output_type": "stream",
     "text": [
      "Expand button not found or not clickable.\n",
      "Title: 어화 내사랑, Artist: 유시원\n"
     ]
    },
    {
     "name": "stderr",
     "output_type": "stream",
     "text": []
    },
    {
     "name": "stdout",
     "output_type": "stream",
     "text": [
      "Expand button not found or not clickable.\n",
      "Lyrics element not found.\n",
      "Title: 보고싶은어머니, Artist: 최상철\n"
     ]
    },
    {
     "name": "stderr",
     "output_type": "stream",
     "text": []
    },
    {
     "name": "stdout",
     "output_type": "stream",
     "text": [
      "Expand button not found or not clickable.\n",
      "Lyrics element not found.\n",
      "Title: 고향의연가, Artist: 이종혁\n"
     ]
    },
    {
     "name": "stderr",
     "output_type": "stream",
     "text": []
    },
    {
     "name": "stdout",
     "output_type": "stream",
     "text": [
      "Expand button not found or not clickable.\n",
      "Title: 다시는, Artist: 박가희\n"
     ]
    },
    {
     "name": "stderr",
     "output_type": "stream",
     "text": []
    },
    {
     "name": "stdout",
     "output_type": "stream",
     "text": [
      "Expand button not found or not clickable.\n",
      "Title: 11월 13일, Artist: 나한\n"
     ]
    },
    {
     "name": "stderr",
     "output_type": "stream",
     "text": []
    },
    {
     "name": "stdout",
     "output_type": "stream",
     "text": [
      "Expand button not found or not clickable.\n",
      "Title: 당신 뿐이야, Artist: 김성봉\n"
     ]
    },
    {
     "name": "stderr",
     "output_type": "stream",
     "text": []
    },
    {
     "name": "stdout",
     "output_type": "stream",
     "text": [
      "Expand button not found or not clickable.\n",
      "Lyrics element not found.\n",
      "Title: 너를 바라보며, Artist: 제이에스\n"
     ]
    },
    {
     "name": "stderr",
     "output_type": "stream",
     "text": []
    },
    {
     "name": "stdout",
     "output_type": "stream",
     "text": [
      "Expand button not found or not clickable.\n",
      "Title: 바람처럼 지나가리라, Artist: SunO\n"
     ]
    },
    {
     "name": "stderr",
     "output_type": "stream",
     "text": []
    },
    {
     "name": "stdout",
     "output_type": "stream",
     "text": [
      "Expand button not found or not clickable.\n",
      "Title: 행운의 남자, Artist: 조현송\n"
     ]
    },
    {
     "name": "stderr",
     "output_type": "stream",
     "text": []
    },
    {
     "name": "stdout",
     "output_type": "stream",
     "text": [
      "Expand button not found or not clickable.\n",
      "Title: 또또또 (Dance Ver.), Artist: 김인해\n"
     ]
    },
    {
     "name": "stderr",
     "output_type": "stream",
     "text": []
    },
    {
     "name": "stdout",
     "output_type": "stream",
     "text": [
      "Expand button not found or not clickable.\n",
      "Title: 수선화, Artist: 수선아\n"
     ]
    },
    {
     "name": "stderr",
     "output_type": "stream",
     "text": []
    },
    {
     "name": "stdout",
     "output_type": "stream",
     "text": [
      "Expand button not found or not clickable.\n",
      "Title: 강변의 추억, Artist: 박인순\n"
     ]
    },
    {
     "name": "stderr",
     "output_type": "stream",
     "text": []
    },
    {
     "name": "stdout",
     "output_type": "stream",
     "text": [
      "Expand button not found or not clickable.\n",
      "Title: 꽃이 필때면, Artist: 김정의\n"
     ]
    },
    {
     "name": "stderr",
     "output_type": "stream",
     "text": []
    },
    {
     "name": "stdout",
     "output_type": "stream",
     "text": [
      "Expand button not found or not clickable.\n",
      "Title: 무정한 세월아, Artist: 김영애\n"
     ]
    },
    {
     "name": "stderr",
     "output_type": "stream",
     "text": []
    },
    {
     "name": "stdout",
     "output_type": "stream",
     "text": [
      "Expand button not found or not clickable.\n",
      "Title: 옷 한 벌, Artist: 민수현\n"
     ]
    },
    {
     "name": "stderr",
     "output_type": "stream",
     "text": []
    },
    {
     "name": "stdout",
     "output_type": "stream",
     "text": [
      "Expand button not found or not clickable.\n",
      "Title: 당신곁엔 내가있잖아, Artist: 채정숙\n"
     ]
    },
    {
     "name": "stderr",
     "output_type": "stream",
     "text": []
    },
    {
     "name": "stdout",
     "output_type": "stream",
     "text": [
      "Expand button not found or not clickable.\n",
      "Title: 내맘대로 살아볼래, Artist: 윤장미\n"
     ]
    },
    {
     "name": "stderr",
     "output_type": "stream",
     "text": []
    },
    {
     "name": "stdout",
     "output_type": "stream",
     "text": [
      "Expand button not found or not clickable.\n",
      "Title: 무서리, Artist: 이대남\n"
     ]
    },
    {
     "name": "stderr",
     "output_type": "stream",
     "text": []
    },
    {
     "name": "stdout",
     "output_type": "stream",
     "text": [
      "Expand button not found or not clickable.\n",
      "Title: 꽃등심 (Vocal. 화가), Artist: 오펜\n"
     ]
    },
    {
     "name": "stderr",
     "output_type": "stream",
     "text": []
    },
    {
     "name": "stdout",
     "output_type": "stream",
     "text": [
      "Expand button not found or not clickable.\n",
      "Lyrics element not found.\n",
      "Title: 바람 꽃, Artist: JS\n"
     ]
    },
    {
     "name": "stderr",
     "output_type": "stream",
     "text": []
    },
    {
     "name": "stdout",
     "output_type": "stream",
     "text": [
      "Expand button not found or not clickable.\n",
      "Title: 일엽편주(一葉片舟), Artist: 피여나\n"
     ]
    },
    {
     "name": "stderr",
     "output_type": "stream",
     "text": []
    },
    {
     "name": "stdout",
     "output_type": "stream",
     "text": [
      "Expand button not found or not clickable.\n",
      "Lyrics element not found.\n",
      "Title: 사랑이 별건가요, Artist: 김성봉\n"
     ]
    },
    {
     "name": "stderr",
     "output_type": "stream",
     "text": []
    },
    {
     "name": "stdout",
     "output_type": "stream",
     "text": [
      "Expand button not found or not clickable.\n",
      "Title: 겨울의 길목에서, Artist: SunO\n"
     ]
    },
    {
     "name": "stderr",
     "output_type": "stream",
     "text": []
    },
    {
     "name": "stdout",
     "output_type": "stream",
     "text": [
      "Expand button not found or not clickable.\n",
      "Title: 오시리, Artist: 김나율\n"
     ]
    },
    {
     "name": "stderr",
     "output_type": "stream",
     "text": []
    },
    {
     "name": "stdout",
     "output_type": "stream",
     "text": [
      "Expand button not found or not clickable.\n",
      "Title: 비야비야, Artist: 서예덕\n"
     ]
    },
    {
     "name": "stderr",
     "output_type": "stream",
     "text": []
    },
    {
     "name": "stdout",
     "output_type": "stream",
     "text": [
      "Expand button not found or not clickable.\n",
      "Title: 너를 사랑 하겠어, Artist: 성진\n"
     ]
    },
    {
     "name": "stderr",
     "output_type": "stream",
     "text": []
    },
    {
     "name": "stdout",
     "output_type": "stream",
     "text": [
      "Expand button not found or not clickable.\n",
      "Title: 정체를 밝혀라, Artist: 지영옥\n"
     ]
    },
    {
     "name": "stderr",
     "output_type": "stream",
     "text": []
    },
    {
     "name": "stdout",
     "output_type": "stream",
     "text": [
      "Expand button not found or not clickable.\n",
      "Title: 집으로, Artist: 박채연\n"
     ]
    },
    {
     "name": "stderr",
     "output_type": "stream",
     "text": []
    },
    {
     "name": "stdout",
     "output_type": "stream",
     "text": [
      "Expand button not found or not clickable.\n",
      "Title: 님과 함께, Artist: 환희\n"
     ]
    },
    {
     "name": "stderr",
     "output_type": "stream",
     "text": []
    },
    {
     "name": "stdout",
     "output_type": "stream",
     "text": [
      "Expand button not found or not clickable.\n",
      "Title: 이별 예찬, Artist: 도광배\n"
     ]
    },
    {
     "name": "stderr",
     "output_type": "stream",
     "text": []
    },
    {
     "name": "stdout",
     "output_type": "stream",
     "text": [
      "Expand button not found or not clickable.\n",
      "Title: 내 인생 찾아, Artist: 임영옥\n"
     ]
    },
    {
     "name": "stderr",
     "output_type": "stream",
     "text": []
    },
    {
     "name": "stdout",
     "output_type": "stream",
     "text": [
      "Expand button not found or not clickable.\n",
      "Title: 떠나는 내가 더 아프다 (Vocal. AI 진우), Artist: 이천우\n"
     ]
    },
    {
     "name": "stderr",
     "output_type": "stream",
     "text": []
    },
    {
     "name": "stdout",
     "output_type": "stream",
     "text": [
      "Expand button not found or not clickable.\n",
      "Lyrics element not found.\n",
      "Title: 보고싶다 ( Cover Ver.), Artist: 함준영\n"
     ]
    },
    {
     "name": "stderr",
     "output_type": "stream",
     "text": []
    },
    {
     "name": "stdout",
     "output_type": "stream",
     "text": [
      "Expand button not found or not clickable.\n",
      "Title: 흙수저 (Cover Ver.), Artist: 이은주\n"
     ]
    },
    {
     "name": "stderr",
     "output_type": "stream",
     "text": []
    },
    {
     "name": "stdout",
     "output_type": "stream",
     "text": [
      "Expand button not found or not clickable.\n",
      "Lyrics element not found.\n",
      "Title: 칠갑산 다듬이 소리, Artist: 윤서원\n"
     ]
    },
    {
     "name": "stderr",
     "output_type": "stream",
     "text": []
    },
    {
     "name": "stdout",
     "output_type": "stream",
     "text": [
      "Expand button not found or not clickable.\n",
      "Lyrics element not found.\n",
      "Title: 인생여행, Artist: 정금례\n"
     ]
    },
    {
     "name": "stderr",
     "output_type": "stream",
     "text": []
    },
    {
     "name": "stdout",
     "output_type": "stream",
     "text": [
      "Expand button not found or not clickable.\n",
      "Title: 인생 백년길, Artist: 초희\n"
     ]
    },
    {
     "name": "stderr",
     "output_type": "stream",
     "text": [
      "페이지 진행 상황:   5%|▌         | 5/100 [1:00:51<19:13:52, 728.77s/it]"
     ]
    },
    {
     "name": "stdout",
     "output_type": "stream",
     "text": [
      "Expand button not found or not clickable.\n",
      "Title: 사월의 연가, Artist: 한미나\n"
     ]
    },
    {
     "name": "stderr",
     "output_type": "stream",
     "text": []
    },
    {
     "name": "stdout",
     "output_type": "stream",
     "text": [
      "Expand button not found or not clickable.\n",
      "Lyrics element not found.\n",
      "Title: 비의 향기를, Artist: 써니\n"
     ]
    },
    {
     "name": "stderr",
     "output_type": "stream",
     "text": []
    },
    {
     "name": "stdout",
     "output_type": "stream",
     "text": [
      "Expand button not found or not clickable.\n",
      "Title: 엄마의 꽃, Artist: 김예화\n"
     ]
    },
    {
     "name": "stderr",
     "output_type": "stream",
     "text": []
    },
    {
     "name": "stdout",
     "output_type": "stream",
     "text": [
      "Expand button not found or not clickable.\n",
      "Title: 재회, Artist: 이진화\n"
     ]
    },
    {
     "name": "stderr",
     "output_type": "stream",
     "text": []
    },
    {
     "name": "stdout",
     "output_type": "stream",
     "text": [
      "Expand button not found or not clickable.\n",
      "Title: 지심도, Artist: SunO\n"
     ]
    },
    {
     "name": "stderr",
     "output_type": "stream",
     "text": []
    },
    {
     "name": "stdout",
     "output_type": "stream",
     "text": [
      "Expand button not found or not clickable.\n",
      "Title: 청춘 열차, Artist: 김성봉\n"
     ]
    },
    {
     "name": "stderr",
     "output_type": "stream",
     "text": []
    },
    {
     "name": "stdout",
     "output_type": "stream",
     "text": [
      "Expand button not found or not clickable.\n",
      "Title: 올인(new version), Artist: 김아린\n"
     ]
    },
    {
     "name": "stderr",
     "output_type": "stream",
     "text": []
    },
    {
     "name": "stdout",
     "output_type": "stream",
     "text": [
      "Expand button not found or not clickable.\n",
      "Title: 잘 좀 살다가야 하지 않겠소, Artist: 안재동\n"
     ]
    },
    {
     "name": "stderr",
     "output_type": "stream",
     "text": []
    },
    {
     "name": "stdout",
     "output_type": "stream",
     "text": [
      "Expand button not found or not clickable.\n",
      "Title: 오늘, Artist: 안재동\n"
     ]
    },
    {
     "name": "stderr",
     "output_type": "stream",
     "text": []
    },
    {
     "name": "stdout",
     "output_type": "stream",
     "text": [
      "Expand button not found or not clickable.\n",
      "Title: 내 인생의 골든버저, Artist: 김진하\n"
     ]
    },
    {
     "name": "stderr",
     "output_type": "stream",
     "text": []
    },
    {
     "name": "stdout",
     "output_type": "stream",
     "text": [
      "Expand button not found or not clickable.\n",
      "Title: 거기서 거기, Artist: 김단오\n"
     ]
    },
    {
     "name": "stderr",
     "output_type": "stream",
     "text": []
    },
    {
     "name": "stdout",
     "output_type": "stream",
     "text": [
      "Expand button not found or not clickable.\n",
      "Title: 인생열차, Artist: 김용택\n"
     ]
    },
    {
     "name": "stderr",
     "output_type": "stream",
     "text": []
    },
    {
     "name": "stdout",
     "output_type": "stream",
     "text": [
      "Expand button not found or not clickable.\n",
      "Lyrics element not found.\n",
      "Title: 행복의 비결, Artist: 써니\n"
     ]
    },
    {
     "name": "stderr",
     "output_type": "stream",
     "text": []
    },
    {
     "name": "stdout",
     "output_type": "stream",
     "text": [
      "Expand button not found or not clickable.\n",
      "Title: 꽃 진 자리, Artist: SunO\n"
     ]
    },
    {
     "name": "stderr",
     "output_type": "stream",
     "text": []
    },
    {
     "name": "stdout",
     "output_type": "stream",
     "text": [
      "Expand button not found or not clickable.\n",
      "Title: 못된사랑, Artist: 조항조\n"
     ]
    },
    {
     "name": "stderr",
     "output_type": "stream",
     "text": []
    },
    {
     "name": "stdout",
     "output_type": "stream",
     "text": [
      "Expand button not found or not clickable.\n",
      "Title: 공지천에서, Artist: 김성봉\n"
     ]
    },
    {
     "name": "stderr",
     "output_type": "stream",
     "text": []
    },
    {
     "name": "stdout",
     "output_type": "stream",
     "text": [
      "Expand button not found or not clickable.\n",
      "Title: 내 사랑 청도, Artist: 김동현\n"
     ]
    },
    {
     "name": "stderr",
     "output_type": "stream",
     "text": []
    },
    {
     "name": "stdout",
     "output_type": "stream",
     "text": [
      "Expand button not found or not clickable.\n",
      "Title: 소양강아 말해다오, Artist: 오신화\n"
     ]
    },
    {
     "name": "stderr",
     "output_type": "stream",
     "text": []
    },
    {
     "name": "stdout",
     "output_type": "stream",
     "text": [
      "Expand button not found or not clickable.\n",
      "Title: 사랑했어요, Artist: 강철민\n"
     ]
    },
    {
     "name": "stderr",
     "output_type": "stream",
     "text": []
    },
    {
     "name": "stdout",
     "output_type": "stream",
     "text": [
      "Expand button not found or not clickable.\n",
      "Lyrics element not found.\n",
      "Title: 군산항이별, Artist: 최재성\n"
     ]
    },
    {
     "name": "stderr",
     "output_type": "stream",
     "text": []
    },
    {
     "name": "stdout",
     "output_type": "stream",
     "text": [
      "Expand button not found or not clickable.\n",
      "Lyrics element not found.\n",
      "Title: 인천역, Artist: 박현우\n"
     ]
    },
    {
     "name": "stderr",
     "output_type": "stream",
     "text": []
    },
    {
     "name": "stdout",
     "output_type": "stream",
     "text": [
      "Expand button not found or not clickable.\n",
      "Lyrics element not found.\n",
      "Title: 검정고무신 (Cover Ver.), Artist: 강덕인\n"
     ]
    },
    {
     "name": "stderr",
     "output_type": "stream",
     "text": []
    },
    {
     "name": "stdout",
     "output_type": "stream",
     "text": [
      "Expand button not found or not clickable.\n",
      "Title: 가자 가자 태백산으로, Artist: 추숙희\n"
     ]
    },
    {
     "name": "stderr",
     "output_type": "stream",
     "text": []
    },
    {
     "name": "stdout",
     "output_type": "stream",
     "text": [
      "Expand button not found or not clickable.\n",
      "Title: 약속했잖아, Artist: 고나은\n"
     ]
    },
    {
     "name": "stderr",
     "output_type": "stream",
     "text": []
    },
    {
     "name": "stdout",
     "output_type": "stream",
     "text": [
      "Expand button not found or not clickable.\n",
      "Lyrics element not found.\n",
      "Title: 너의 곁에 있고 싶어, Artist: 써니\n"
     ]
    },
    {
     "name": "stderr",
     "output_type": "stream",
     "text": []
    },
    {
     "name": "stdout",
     "output_type": "stream",
     "text": [
      "Expand button not found or not clickable.\n",
      "Title: 텔레파시, Artist: 정성제\n"
     ]
    },
    {
     "name": "stderr",
     "output_type": "stream",
     "text": []
    },
    {
     "name": "stdout",
     "output_type": "stream",
     "text": [
      "Expand button not found or not clickable.\n",
      "Title: 동년동월(同年同月), Artist: 이예지\n"
     ]
    },
    {
     "name": "stderr",
     "output_type": "stream",
     "text": []
    },
    {
     "name": "stdout",
     "output_type": "stream",
     "text": [
      "Expand button not found or not clickable.\n",
      "Title: 리허설사랑, Artist: 박제니\n"
     ]
    },
    {
     "name": "stderr",
     "output_type": "stream",
     "text": []
    },
    {
     "name": "stdout",
     "output_type": "stream",
     "text": [
      "Expand button not found or not clickable.\n",
      "Lyrics element not found.\n",
      "Title: 여주여강, Artist: 김애란\n"
     ]
    },
    {
     "name": "stderr",
     "output_type": "stream",
     "text": []
    },
    {
     "name": "stdout",
     "output_type": "stream",
     "text": [
      "Expand button not found or not clickable.\n",
      "Title: 당신의 눈물, Artist: 진왕수\n"
     ]
    },
    {
     "name": "stderr",
     "output_type": "stream",
     "text": []
    },
    {
     "name": "stdout",
     "output_type": "stream",
     "text": [
      "Expand button not found or not clickable.\n",
      "Title: 부초같은 사랑, Artist: 김순희\n"
     ]
    },
    {
     "name": "stderr",
     "output_type": "stream",
     "text": []
    },
    {
     "name": "stdout",
     "output_type": "stream",
     "text": [
      "Expand button not found or not clickable.\n",
      "Title: 웰컴투경주, Artist: 나경주\n"
     ]
    },
    {
     "name": "stderr",
     "output_type": "stream",
     "text": []
    },
    {
     "name": "stdout",
     "output_type": "stream",
     "text": [
      "Expand button not found or not clickable.\n",
      "Title: 난 당신의 무엇이 될까, Artist: SunO\n"
     ]
    },
    {
     "name": "stderr",
     "output_type": "stream",
     "text": []
    },
    {
     "name": "stdout",
     "output_type": "stream",
     "text": [
      "Expand button not found or not clickable.\n",
      "Lyrics element not found.\n",
      "Title: 나 그대에게모두드리리 (Cover Ver.), Artist: 문병초\n"
     ]
    },
    {
     "name": "stderr",
     "output_type": "stream",
     "text": []
    },
    {
     "name": "stdout",
     "output_type": "stream",
     "text": [
      "Expand button not found or not clickable.\n",
      "Title: 보고싶어 어떡하라고, Artist: 김대영\n"
     ]
    },
    {
     "name": "stderr",
     "output_type": "stream",
     "text": []
    },
    {
     "name": "stdout",
     "output_type": "stream",
     "text": [
      "Expand button not found or not clickable.\n",
      "Title: 그대 무엇을 동경하는가, Artist: 김요섭\n"
     ]
    },
    {
     "name": "stderr",
     "output_type": "stream",
     "text": []
    },
    {
     "name": "stdout",
     "output_type": "stream",
     "text": [
      "Expand button not found or not clickable.\n",
      "Title: 어디에 있어요, Artist: 에이미\n"
     ]
    },
    {
     "name": "stderr",
     "output_type": "stream",
     "text": []
    },
    {
     "name": "stdout",
     "output_type": "stream",
     "text": [
      "Expand button not found or not clickable.\n",
      "Title: 사람아 나의 사랑아, Artist: 임지안\n"
     ]
    },
    {
     "name": "stderr",
     "output_type": "stream",
     "text": []
    },
    {
     "name": "stdout",
     "output_type": "stream",
     "text": [
      "Expand button not found or not clickable.\n",
      "Title: 샤랄랄라, Artist: 김성곤\n"
     ]
    },
    {
     "name": "stderr",
     "output_type": "stream",
     "text": []
    },
    {
     "name": "stdout",
     "output_type": "stream",
     "text": [
      "Expand button not found or not clickable.\n",
      "Title: 철 지난 바닷가, Artist: 안정구\n"
     ]
    },
    {
     "name": "stderr",
     "output_type": "stream",
     "text": []
    },
    {
     "name": "stdout",
     "output_type": "stream",
     "text": [
      "Expand button not found or not clickable.\n",
      "Title: 님의 등불, Artist: 천록담\n"
     ]
    },
    {
     "name": "stderr",
     "output_type": "stream",
     "text": []
    },
    {
     "name": "stdout",
     "output_type": "stream",
     "text": [
      "Expand button not found or not clickable.\n",
      "Title: 마량에가고싶다 (Cover Ver.), Artist: 리븐\n"
     ]
    },
    {
     "name": "stderr",
     "output_type": "stream",
     "text": []
    },
    {
     "name": "stdout",
     "output_type": "stream",
     "text": [
      "Expand button not found or not clickable.\n",
      "Lyrics element not found.\n",
      "Title: 한강 (Cover Ver.), Artist: 설화\n"
     ]
    },
    {
     "name": "stderr",
     "output_type": "stream",
     "text": []
    },
    {
     "name": "stdout",
     "output_type": "stream",
     "text": [
      "Expand button not found or not clickable.\n",
      "Title: 하루살이, Artist: SunO\n"
     ]
    },
    {
     "name": "stderr",
     "output_type": "stream",
     "text": []
    },
    {
     "name": "stdout",
     "output_type": "stream",
     "text": [
      "Expand button not found or not clickable.\n",
      "Title: 내가 사준 스카프, Artist: 황진영\n"
     ]
    },
    {
     "name": "stderr",
     "output_type": "stream",
     "text": []
    },
    {
     "name": "stdout",
     "output_type": "stream",
     "text": [
      "Expand button not found or not clickable.\n",
      "Lyrics element not found.\n",
      "Title: 귀거래사 (Cover Ver.), Artist: 함준영\n"
     ]
    },
    {
     "name": "stderr",
     "output_type": "stream",
     "text": []
    },
    {
     "name": "stdout",
     "output_type": "stream",
     "text": [
      "Expand button not found or not clickable.\n",
      "Title: 봉화찬가, Artist: 김미경\n"
     ]
    },
    {
     "name": "stderr",
     "output_type": "stream",
     "text": []
    },
    {
     "name": "stdout",
     "output_type": "stream",
     "text": [
      "Expand button not found or not clickable.\n",
      "Title: 상사화, Artist: 김동현\n"
     ]
    },
    {
     "name": "stderr",
     "output_type": "stream",
     "text": []
    },
    {
     "name": "stdout",
     "output_type": "stream",
     "text": [
      "Expand button not found or not clickable.\n",
      "Title: 가슴에 묻은 세월, Artist: 박진박\n"
     ]
    },
    {
     "name": "stderr",
     "output_type": "stream",
     "text": []
    },
    {
     "name": "stdout",
     "output_type": "stream",
     "text": [
      "Expand button not found or not clickable.\n",
      "Title: 사랑이 비를 뿌린다, Artist: 조예빈\n"
     ]
    },
    {
     "name": "stderr",
     "output_type": "stream",
     "text": [
      "페이지 진행 상황:   6%|▌         | 6/100 [1:13:11<19:07:49, 732.65s/it]"
     ]
    },
    {
     "name": "stdout",
     "output_type": "stream",
     "text": [
      "Expand button not found or not clickable.\n",
      "Title: 꿈에 본 내고향, Artist: 레오\n"
     ]
    },
    {
     "name": "stderr",
     "output_type": "stream",
     "text": []
    },
    {
     "name": "stdout",
     "output_type": "stream",
     "text": [
      "Expand button not found or not clickable.\n",
      "Title: 광덕산 (vocal 쟈니정), Artist: 엄태용\n"
     ]
    },
    {
     "name": "stderr",
     "output_type": "stream",
     "text": []
    },
    {
     "name": "stdout",
     "output_type": "stream",
     "text": [
      "Expand button not found or not clickable.\n",
      "Title: 나에겐 당신밖에, Artist: 정서주\n"
     ]
    },
    {
     "name": "stderr",
     "output_type": "stream",
     "text": []
    },
    {
     "name": "stdout",
     "output_type": "stream",
     "text": [
      "Expand button not found or not clickable.\n",
      "Title: 님이여, Artist: 신유\n"
     ]
    },
    {
     "name": "stderr",
     "output_type": "stream",
     "text": []
    },
    {
     "name": "stdout",
     "output_type": "stream",
     "text": [
      "Expand button not found or not clickable.\n",
      "Title: 천운 (DJ BUDDY REMIX), Artist: 권노해만\n"
     ]
    },
    {
     "name": "stderr",
     "output_type": "stream",
     "text": []
    },
    {
     "name": "stdout",
     "output_type": "stream",
     "text": [
      "Expand button not found or not clickable.\n",
      "Title: 플러팅, Artist: 홍진영\n"
     ]
    },
    {
     "name": "stderr",
     "output_type": "stream",
     "text": []
    },
    {
     "name": "stdout",
     "output_type": "stream",
     "text": [
      "Expand button not found or not clickable.\n",
      "Title: 게섯거라, Artist: 정다한\n"
     ]
    },
    {
     "name": "stderr",
     "output_type": "stream",
     "text": []
    },
    {
     "name": "stdout",
     "output_type": "stream",
     "text": [
      "Expand button not found or not clickable.\n",
      "Title: 아 이뻐라, Artist: 요요미\n"
     ]
    },
    {
     "name": "stderr",
     "output_type": "stream",
     "text": []
    },
    {
     "name": "stdout",
     "output_type": "stream",
     "text": [
      "Expand button not found or not clickable.\n",
      "Title: 거짓사랑, Artist: 니은\n"
     ]
    },
    {
     "name": "stderr",
     "output_type": "stream",
     "text": []
    },
    {
     "name": "stdout",
     "output_type": "stream",
     "text": [
      "Expand button not found or not clickable.\n",
      "Title: 내 가슴을 뻥 (Piercing my heart), Artist: 마수리(MASURI)\n"
     ]
    },
    {
     "name": "stderr",
     "output_type": "stream",
     "text": []
    },
    {
     "name": "stdout",
     "output_type": "stream",
     "text": [
      "Expand button not found or not clickable.\n",
      "Title: 석양, Artist: 김다애\n"
     ]
    },
    {
     "name": "stderr",
     "output_type": "stream",
     "text": []
    },
    {
     "name": "stdout",
     "output_type": "stream",
     "text": [
      "Expand button not found or not clickable.\n",
      "Lyrics element not found.\n",
      "Title: 나는몰랐다, Artist: 화랑\n"
     ]
    },
    {
     "name": "stderr",
     "output_type": "stream",
     "text": []
    },
    {
     "name": "stdout",
     "output_type": "stream",
     "text": [
      "Expand button not found or not clickable.\n",
      "Lyrics element not found.\n",
      "Title: 길을비켜라, Artist: 양해남\n"
     ]
    },
    {
     "name": "stderr",
     "output_type": "stream",
     "text": []
    },
    {
     "name": "stdout",
     "output_type": "stream",
     "text": [
      "Expand button not found or not clickable.\n",
      "Title: 허공 (Coevr Ver.), Artist: 토불\n"
     ]
    },
    {
     "name": "stderr",
     "output_type": "stream",
     "text": []
    },
    {
     "name": "stdout",
     "output_type": "stream",
     "text": [
      "Expand button not found or not clickable.\n",
      "Title: 설원의 도화지에, Artist: SunO\n"
     ]
    },
    {
     "name": "stderr",
     "output_type": "stream",
     "text": []
    },
    {
     "name": "stdout",
     "output_type": "stream",
     "text": [
      "Expand button not found or not clickable.\n",
      "Title: 첫사랑, Artist: 성유희\n"
     ]
    },
    {
     "name": "stderr",
     "output_type": "stream",
     "text": []
    },
    {
     "name": "stdout",
     "output_type": "stream",
     "text": [
      "Expand button not found or not clickable.\n",
      "Title: 발티 연가, Artist: 김예주\n"
     ]
    },
    {
     "name": "stderr",
     "output_type": "stream",
     "text": []
    },
    {
     "name": "stdout",
     "output_type": "stream",
     "text": [
      "Expand button not found or not clickable.\n",
      "Title: 어쩌다 사랑(feat.문턱), Artist: 김영\n"
     ]
    },
    {
     "name": "stderr",
     "output_type": "stream",
     "text": []
    },
    {
     "name": "stdout",
     "output_type": "stream",
     "text": [
      "Expand button not found or not clickable.\n",
      "Title: 여기까지만 따라와요, Artist: 서기혁\n"
     ]
    },
    {
     "name": "stderr",
     "output_type": "stream",
     "text": []
    },
    {
     "name": "stdout",
     "output_type": "stream",
     "text": [
      "Expand button not found or not clickable.\n",
      "Title: 12월, Artist: 안재동\n"
     ]
    },
    {
     "name": "stderr",
     "output_type": "stream",
     "text": []
    },
    {
     "name": "stdout",
     "output_type": "stream",
     "text": [
      "Expand button not found or not clickable.\n",
      "Title: 함박눈, Artist: 안재동\n"
     ]
    },
    {
     "name": "stderr",
     "output_type": "stream",
     "text": []
    },
    {
     "name": "stdout",
     "output_type": "stream",
     "text": [
      "Expand button not found or not clickable.\n",
      "Title: 보름아, Artist: 박민수\n"
     ]
    },
    {
     "name": "stderr",
     "output_type": "stream",
     "text": []
    },
    {
     "name": "stdout",
     "output_type": "stream",
     "text": [
      "Expand button not found or not clickable.\n",
      "Title: 망모, Artist: 손빈아\n"
     ]
    },
    {
     "name": "stderr",
     "output_type": "stream",
     "text": []
    },
    {
     "name": "stdout",
     "output_type": "stream",
     "text": [
      "Expand button not found or not clickable.\n",
      "Title: 간결하고 품격있는 민요 (feat. 상민), Artist: 안현민\n"
     ]
    },
    {
     "name": "stderr",
     "output_type": "stream",
     "text": []
    },
    {
     "name": "stdout",
     "output_type": "stream",
     "text": [
      "Expand button not found or not clickable.\n",
      "Title: 재회 (무지개빛 연인의 사랑), Artist: 오선장\n"
     ]
    },
    {
     "name": "stderr",
     "output_type": "stream",
     "text": []
    },
    {
     "name": "stdout",
     "output_type": "stream",
     "text": [
      "Expand button not found or not clickable.\n",
      "Lyrics element not found.\n",
      "Title: 부평역에서, Artist: 송유찬\n"
     ]
    },
    {
     "name": "stderr",
     "output_type": "stream",
     "text": []
    },
    {
     "name": "stdout",
     "output_type": "stream",
     "text": [
      "Expand button not found or not clickable.\n",
      "Title: 그사람, Artist: 태용\n"
     ]
    },
    {
     "name": "stderr",
     "output_type": "stream",
     "text": []
    },
    {
     "name": "stdout",
     "output_type": "stream",
     "text": [
      "Expand button not found or not clickable.\n",
      "Title: 대박이 왔어요, Artist: 소현아씨\n"
     ]
    },
    {
     "name": "stderr",
     "output_type": "stream",
     "text": []
    },
    {
     "name": "stdout",
     "output_type": "stream",
     "text": [
      "Expand button not found or not clickable.\n",
      "Title: 항구의 남자, Artist: 태령\n"
     ]
    },
    {
     "name": "stderr",
     "output_type": "stream",
     "text": []
    },
    {
     "name": "stdout",
     "output_type": "stream",
     "text": [
      "Expand button not found or not clickable.\n",
      "Title: 추억의 서울역, Artist: 대사냥\n"
     ]
    },
    {
     "name": "stderr",
     "output_type": "stream",
     "text": []
    },
    {
     "name": "stdout",
     "output_type": "stream",
     "text": [
      "Expand button not found or not clickable.\n",
      "Title: 웃어봅시다, Artist: 박태하\n"
     ]
    },
    {
     "name": "stderr",
     "output_type": "stream",
     "text": []
    },
    {
     "name": "stdout",
     "output_type": "stream",
     "text": [
      "Expand button not found or not clickable.\n",
      "Title: 뜬다뜬다 (Cover Ver.), Artist: 대사냥\n"
     ]
    },
    {
     "name": "stderr",
     "output_type": "stream",
     "text": []
    },
    {
     "name": "stdout",
     "output_type": "stream",
     "text": [
      "Expand button not found or not clickable.\n",
      "Title: 야생화의 눈물, Artist: 장채원\n"
     ]
    },
    {
     "name": "stderr",
     "output_type": "stream",
     "text": []
    },
    {
     "name": "stdout",
     "output_type": "stream",
     "text": [
      "Expand button not found or not clickable.\n",
      "Lyrics element not found.\n",
      "Title: 추억속의 여정, Artist: 강재분\n"
     ]
    },
    {
     "name": "stderr",
     "output_type": "stream",
     "text": []
    },
    {
     "name": "stdout",
     "output_type": "stream",
     "text": [
      "Expand button not found or not clickable.\n",
      "Title: 가시어멍, Artist: 양정원\n"
     ]
    },
    {
     "name": "stderr",
     "output_type": "stream",
     "text": []
    },
    {
     "name": "stdout",
     "output_type": "stream",
     "text": [
      "Expand button not found or not clickable.\n",
      "Lyrics element not found.\n",
      "Title: 행복합시다, Artist: 이규성\n"
     ]
    },
    {
     "name": "stderr",
     "output_type": "stream",
     "text": []
    },
    {
     "name": "stdout",
     "output_type": "stream",
     "text": [
      "Expand button not found or not clickable.\n",
      "Lyrics element not found.\n",
      "Title: 만고강산, Artist: 장고\n"
     ]
    },
    {
     "name": "stderr",
     "output_type": "stream",
     "text": []
    },
    {
     "name": "stdout",
     "output_type": "stream",
     "text": [
      "Expand button not found or not clickable.\n",
      "Title: 인천공항, Artist: 이무영\n"
     ]
    },
    {
     "name": "stderr",
     "output_type": "stream",
     "text": []
    },
    {
     "name": "stdout",
     "output_type": "stream",
     "text": [
      "Expand button not found or not clickable.\n",
      "Title: 고맙소, Artist: 찬울\n"
     ]
    },
    {
     "name": "stderr",
     "output_type": "stream",
     "text": []
    },
    {
     "name": "stdout",
     "output_type": "stream",
     "text": [
      "Expand button not found or not clickable.\n",
      "Lyrics element not found.\n",
      "Title: Faded Memories, Artist: 하니비\n"
     ]
    },
    {
     "name": "stderr",
     "output_type": "stream",
     "text": []
    },
    {
     "name": "stdout",
     "output_type": "stream",
     "text": [
      "Expand button not found or not clickable.\n",
      "Title: 사랑이비를맞아요 (Cover Ver.), Artist: 대사냥\n"
     ]
    },
    {
     "name": "stderr",
     "output_type": "stream",
     "text": []
    },
    {
     "name": "stdout",
     "output_type": "stream",
     "text": [
      "Expand button not found or not clickable.\n",
      "Title: 소서노(2025 Remastered Ver.) (feat. 희연, Narr. 하롱), Artist: 안현민\n"
     ]
    },
    {
     "name": "stderr",
     "output_type": "stream",
     "text": []
    },
    {
     "name": "stdout",
     "output_type": "stream",
     "text": [
      "Expand button not found or not clickable.\n",
      "Lyrics element not found.\n",
      "Title: 나야나 (Cover Ver.), Artist: 서동명\n"
     ]
    },
    {
     "name": "stderr",
     "output_type": "stream",
     "text": []
    },
    {
     "name": "stdout",
     "output_type": "stream",
     "text": [
      "Expand button not found or not clickable.\n",
      "Lyrics element not found.\n",
      "Title: 너와 나의 사랑이, Artist: 김진수\n"
     ]
    },
    {
     "name": "stderr",
     "output_type": "stream",
     "text": []
    },
    {
     "name": "stdout",
     "output_type": "stream",
     "text": [
      "Expand button not found or not clickable.\n",
      "Title: 거제도 해금강, Artist: 손설송\n"
     ]
    },
    {
     "name": "stderr",
     "output_type": "stream",
     "text": []
    },
    {
     "name": "stdout",
     "output_type": "stream",
     "text": [
      "Expand button not found or not clickable.\n",
      "Title: 연안부두 (Cover Ver.), Artist: 파스텔걸스(Pastel Girls)\n"
     ]
    },
    {
     "name": "stderr",
     "output_type": "stream",
     "text": []
    },
    {
     "name": "stdout",
     "output_type": "stream",
     "text": [
      "Expand button not found or not clickable.\n",
      "Title: 막차, Artist: 소원이\n"
     ]
    },
    {
     "name": "stderr",
     "output_type": "stream",
     "text": []
    },
    {
     "name": "stdout",
     "output_type": "stream",
     "text": [
      "Expand button not found or not clickable.\n",
      "Title: 최애는 복숭아, Artist: 나원혜\n"
     ]
    },
    {
     "name": "stderr",
     "output_type": "stream",
     "text": []
    },
    {
     "name": "stdout",
     "output_type": "stream",
     "text": [
      "Expand button not found or not clickable.\n",
      "Lyrics element not found.\n",
      "Title: 나의 태양, Artist: 하니비\n"
     ]
    },
    {
     "name": "stderr",
     "output_type": "stream",
     "text": []
    },
    {
     "name": "stdout",
     "output_type": "stream",
     "text": [
      "Expand button not found or not clickable.\n",
      "Lyrics element not found.\n",
      "Title: 맞장, Artist: 서울박\n"
     ]
    },
    {
     "name": "stderr",
     "output_type": "stream",
     "text": [
      "페이지 진행 상황:   7%|▋         | 7/100 [1:25:42<19:04:39, 738.49s/it]"
     ]
    },
    {
     "name": "stdout",
     "output_type": "stream",
     "text": [
      "Expand button not found or not clickable.\n",
      "Lyrics element not found.\n",
      "Title: 기다리는 마음, Artist: 나광호\n"
     ]
    },
    {
     "name": "stderr",
     "output_type": "stream",
     "text": []
    },
    {
     "name": "stdout",
     "output_type": "stream",
     "text": [
      "Expand button not found or not clickable.\n",
      "Lyrics element not found.\n",
      "Title: 애뜨락, Artist: 구순자\n"
     ]
    },
    {
     "name": "stderr",
     "output_type": "stream",
     "text": []
    },
    {
     "name": "stdout",
     "output_type": "stream",
     "text": [
      "Expand button not found or not clickable.\n",
      "Lyrics element not found.\n",
      "Title: 비설거지, Artist: 심의섭\n"
     ]
    },
    {
     "name": "stderr",
     "output_type": "stream",
     "text": []
    },
    {
     "name": "stdout",
     "output_type": "stream",
     "text": [
      "Expand button not found or not clickable.\n",
      "Title: 눈물의 저녁노을, Artist: 공 주 혜\n"
     ]
    },
    {
     "name": "stderr",
     "output_type": "stream",
     "text": []
    },
    {
     "name": "stdout",
     "output_type": "stream",
     "text": [
      "Expand button not found or not clickable.\n",
      "Title: 눈물이 난다, Artist: 송가인\n"
     ]
    },
    {
     "name": "stderr",
     "output_type": "stream",
     "text": []
    },
    {
     "name": "stdout",
     "output_type": "stream",
     "text": [
      "Expand button not found or not clickable.\n",
      "Title: 실비 오는 소리에, Artist: 신승태\n"
     ]
    },
    {
     "name": "stderr",
     "output_type": "stream",
     "text": []
    },
    {
     "name": "stdout",
     "output_type": "stream",
     "text": [
      "Expand button not found or not clickable.\n",
      "Title: 가을 기도, Artist: 하지연\n"
     ]
    },
    {
     "name": "stderr",
     "output_type": "stream",
     "text": []
    },
    {
     "name": "stdout",
     "output_type": "stream",
     "text": [
      "Expand button not found or not clickable.\n",
      "Lyrics element not found.\n",
      "Title: 태백산의 주목나무, Artist: 추숙희\n"
     ]
    },
    {
     "name": "stderr",
     "output_type": "stream",
     "text": []
    },
    {
     "name": "stdout",
     "output_type": "stream",
     "text": [
      "Expand button not found or not clickable.\n",
      "Title: 순천만의 추억, Artist: 박현정\n"
     ]
    },
    {
     "name": "stderr",
     "output_type": "stream",
     "text": []
    },
    {
     "name": "stdout",
     "output_type": "stream",
     "text": [
      "Expand button not found or not clickable.\n",
      "Lyrics element not found.\n",
      "Title: 가는세월 (Cover Ver.), Artist: 광표\n"
     ]
    },
    {
     "name": "stderr",
     "output_type": "stream",
     "text": []
    },
    {
     "name": "stdout",
     "output_type": "stream",
     "text": [
      "Expand button not found or not clickable.\n",
      "Title: 꼬투리, Artist: 배연주\n"
     ]
    },
    {
     "name": "stderr",
     "output_type": "stream",
     "text": []
    },
    {
     "name": "stdout",
     "output_type": "stream",
     "text": [
      "Expand button not found or not clickable.\n",
      "Title: 인생아 청춘아, Artist: 정운집(鄭雲集)\n"
     ]
    },
    {
     "name": "stderr",
     "output_type": "stream",
     "text": []
    },
    {
     "name": "stdout",
     "output_type": "stream",
     "text": [
      "Expand button not found or not clickable.\n",
      "Title: HOME(홈) (Cover Ver.), Artist: 초아강\n"
     ]
    },
    {
     "name": "stderr",
     "output_type": "stream",
     "text": []
    },
    {
     "name": "stdout",
     "output_type": "stream",
     "text": [
      "Expand button not found or not clickable.\n",
      "Title: 러브레터(Love Letter) (Cover Ver.), Artist: 권도운(Gwon Dowoon)\n"
     ]
    },
    {
     "name": "stderr",
     "output_type": "stream",
     "text": []
    },
    {
     "name": "stdout",
     "output_type": "stream",
     "text": [
      "Expand button not found or not clickable.\n",
      "Lyrics element not found.\n",
      "Title: 문자라도 하지 그랬소 (Cover Ver.), Artist: 윤서현\n"
     ]
    },
    {
     "name": "stderr",
     "output_type": "stream",
     "text": []
    },
    {
     "name": "stdout",
     "output_type": "stream",
     "text": [
      "Expand button not found or not clickable.\n",
      "Title: 아파트 (Cover Ver.), Artist: 파스텔걸스(Pastel Girls)\n"
     ]
    },
    {
     "name": "stderr",
     "output_type": "stream",
     "text": []
    },
    {
     "name": "stdout",
     "output_type": "stream",
     "text": [
      "Expand button not found or not clickable.\n",
      "Title: 그 집앞 (Cover Ver.), Artist: 파스텔걸스(Pastel Girls)\n"
     ]
    },
    {
     "name": "stderr",
     "output_type": "stream",
     "text": []
    },
    {
     "name": "stdout",
     "output_type": "stream",
     "text": [
      "Expand button not found or not clickable.\n",
      "Title: 사랑이 샤르르, Artist: 장미소\n"
     ]
    },
    {
     "name": "stderr",
     "output_type": "stream",
     "text": []
    },
    {
     "name": "stdout",
     "output_type": "stream",
     "text": [
      "Expand button not found or not clickable.\n",
      "Title: 언제나 청춘, Artist: 윤도경\n"
     ]
    },
    {
     "name": "stderr",
     "output_type": "stream",
     "text": []
    },
    {
     "name": "stdout",
     "output_type": "stream",
     "text": [
      "Expand button not found or not clickable.\n",
      "Title: 물레방아 인생, Artist: 풍오섭\n"
     ]
    },
    {
     "name": "stderr",
     "output_type": "stream",
     "text": []
    },
    {
     "name": "stdout",
     "output_type": "stream",
     "text": [
      "Expand button not found or not clickable.\n",
      "Lyrics element not found.\n",
      "Title: 가을에는, Artist: Uni\n"
     ]
    },
    {
     "name": "stderr",
     "output_type": "stream",
     "text": []
    },
    {
     "name": "stdout",
     "output_type": "stream",
     "text": [
      "Expand button not found or not clickable.\n",
      "Title: My love Philippines, Artist: 김큰산\n"
     ]
    },
    {
     "name": "stderr",
     "output_type": "stream",
     "text": []
    },
    {
     "name": "stdout",
     "output_type": "stream",
     "text": [
      "Expand button not found or not clickable.\n",
      "Title: 100 Years Of Life, Artist: 이해진\n"
     ]
    },
    {
     "name": "stderr",
     "output_type": "stream",
     "text": []
    },
    {
     "name": "stdout",
     "output_type": "stream",
     "text": [
      "Expand button not found or not clickable.\n",
      "Lyrics element not found.\n",
      "Title: 짝사랑 (Cover Ver.), Artist: 이원조\n"
     ]
    },
    {
     "name": "stderr",
     "output_type": "stream",
     "text": []
    },
    {
     "name": "stdout",
     "output_type": "stream",
     "text": [
      "Expand button not found or not clickable.\n",
      "Title: 돈 때문에, Artist: 현덕수\n"
     ]
    },
    {
     "name": "stderr",
     "output_type": "stream",
     "text": []
    },
    {
     "name": "stdout",
     "output_type": "stream",
     "text": [
      "Expand button not found or not clickable.\n",
      "Title: 즐겨라 (Cover Ver.), Artist: 초아강\n"
     ]
    },
    {
     "name": "stderr",
     "output_type": "stream",
     "text": []
    },
    {
     "name": "stdout",
     "output_type": "stream",
     "text": [
      "Expand button not found or not clickable.\n",
      "Title: 한박자 쉬고 살아가요, Artist: 명수현\n"
     ]
    },
    {
     "name": "stderr",
     "output_type": "stream",
     "text": []
    },
    {
     "name": "stdout",
     "output_type": "stream",
     "text": [
      "Expand button not found or not clickable.\n",
      "Title: 한순간, Artist: 예지\n"
     ]
    },
    {
     "name": "stderr",
     "output_type": "stream",
     "text": []
    },
    {
     "name": "stdout",
     "output_type": "stream",
     "text": [
      "Expand button not found or not clickable.\n",
      "Title: 인생의 보약, Artist: 박소연\n"
     ]
    },
    {
     "name": "stderr",
     "output_type": "stream",
     "text": []
    },
    {
     "name": "stdout",
     "output_type": "stream",
     "text": [
      "Expand button not found or not clickable.\n",
      "Title: 님따라가는 칠백리, Artist: 박소연\n"
     ]
    },
    {
     "name": "stderr",
     "output_type": "stream",
     "text": []
    },
    {
     "name": "stdout",
     "output_type": "stream",
     "text": [
      "Expand button not found or not clickable.\n",
      "Title: 인사동 밤이여, Artist: 박소연\n"
     ]
    },
    {
     "name": "stderr",
     "output_type": "stream",
     "text": []
    },
    {
     "name": "stdout",
     "output_type": "stream",
     "text": [
      "Expand button not found or not clickable.\n",
      "Title: 굴비, Artist: 신재동\n"
     ]
    },
    {
     "name": "stderr",
     "output_type": "stream",
     "text": []
    },
    {
     "name": "stdout",
     "output_type": "stream",
     "text": [
      "Expand button not found or not clickable.\n",
      "Title: 아름다운 동행 (Cover Ver.), Artist: 현미나\n"
     ]
    },
    {
     "name": "stderr",
     "output_type": "stream",
     "text": []
    },
    {
     "name": "stdout",
     "output_type": "stream",
     "text": [
      "Expand button not found or not clickable.\n",
      "Title: 사랑해야 사니까, Artist: 최영철\n"
     ]
    },
    {
     "name": "stderr",
     "output_type": "stream",
     "text": []
    },
    {
     "name": "stdout",
     "output_type": "stream",
     "text": [
      "Expand button not found or not clickable.\n",
      "Title: 사랑아, Artist: 도연\n"
     ]
    },
    {
     "name": "stderr",
     "output_type": "stream",
     "text": []
    },
    {
     "name": "stdout",
     "output_type": "stream",
     "text": [
      "Expand button not found or not clickable.\n",
      "Title: 애달픈당신, Artist: 정성제\n"
     ]
    },
    {
     "name": "stderr",
     "output_type": "stream",
     "text": []
    },
    {
     "name": "stdout",
     "output_type": "stream",
     "text": [
      "Expand button not found or not clickable.\n",
      "Title: 두여인 (Cover Ver.), Artist: 이재웅\n"
     ]
    },
    {
     "name": "stderr",
     "output_type": "stream",
     "text": []
    },
    {
     "name": "stdout",
     "output_type": "stream",
     "text": [
      "Expand button not found or not clickable.\n",
      "Lyrics element not found.\n",
      "Title: 너의 소리, Artist: 유니\n"
     ]
    },
    {
     "name": "stderr",
     "output_type": "stream",
     "text": []
    },
    {
     "name": "stdout",
     "output_type": "stream",
     "text": [
      "Expand button not found or not clickable.\n",
      "Title: 당신의 그림자, Artist: 진아\n"
     ]
    },
    {
     "name": "stderr",
     "output_type": "stream",
     "text": []
    },
    {
     "name": "stdout",
     "output_type": "stream",
     "text": [
      "Expand button not found or not clickable.\n",
      "Title: 우리 아버지, Artist: 장우조\n"
     ]
    },
    {
     "name": "stderr",
     "output_type": "stream",
     "text": []
    },
    {
     "name": "stdout",
     "output_type": "stream",
     "text": [
      "Expand button not found or not clickable.\n",
      "Title: 꿈을 향하여, Artist: 정의송\n"
     ]
    },
    {
     "name": "stderr",
     "output_type": "stream",
     "text": []
    },
    {
     "name": "stdout",
     "output_type": "stream",
     "text": [
      "Expand button not found or not clickable.\n",
      "Title: 화촉동방(華燭洞房), Artist: 초아강\n"
     ]
    },
    {
     "name": "stderr",
     "output_type": "stream",
     "text": []
    },
    {
     "name": "stdout",
     "output_type": "stream",
     "text": [
      "Expand button not found or not clickable.\n",
      "Title: 술, Artist: 조형근\n"
     ]
    },
    {
     "name": "stderr",
     "output_type": "stream",
     "text": []
    },
    {
     "name": "stdout",
     "output_type": "stream",
     "text": [
      "Expand button not found or not clickable.\n",
      "Lyrics element not found.\n",
      "Title: 좋은인연 (Duet Ver.), Artist: 영미강\n"
     ]
    },
    {
     "name": "stderr",
     "output_type": "stream",
     "text": []
    },
    {
     "name": "stdout",
     "output_type": "stream",
     "text": [
      "Expand button not found or not clickable.\n",
      "Lyrics element not found.\n",
      "Title: 좋은인연 (Cover Ver.), Artist: 광표\n"
     ]
    },
    {
     "name": "stderr",
     "output_type": "stream",
     "text": []
    },
    {
     "name": "stdout",
     "output_type": "stream",
     "text": [
      "Expand button not found or not clickable.\n",
      "Lyrics element not found.\n",
      "Title: 부초같은 인생 (Cover Ver.), Artist: 우경진\n"
     ]
    },
    {
     "name": "stderr",
     "output_type": "stream",
     "text": []
    },
    {
     "name": "stdout",
     "output_type": "stream",
     "text": [
      "Expand button not found or not clickable.\n",
      "Title: 차한잔, Artist: 황희\n"
     ]
    },
    {
     "name": "stderr",
     "output_type": "stream",
     "text": []
    },
    {
     "name": "stdout",
     "output_type": "stream",
     "text": [
      "Expand button not found or not clickable.\n",
      "Lyrics element not found.\n",
      "Title: 그대를 시라 부르오, Artist: 전미정\n"
     ]
    },
    {
     "name": "stderr",
     "output_type": "stream",
     "text": []
    },
    {
     "name": "stdout",
     "output_type": "stream",
     "text": [
      "Expand button not found or not clickable.\n",
      "Lyrics element not found.\n",
      "Title: 첫술에 배가 부르나요, Artist: 전산우\n"
     ]
    },
    {
     "name": "stderr",
     "output_type": "stream",
     "text": []
    },
    {
     "name": "stdout",
     "output_type": "stream",
     "text": [
      "Expand button not found or not clickable.\n",
      "Lyrics element not found.\n",
      "Title: 감자꽃 향기, Artist: 최원현\n"
     ]
    },
    {
     "name": "stderr",
     "output_type": "stream",
     "text": [
      "페이지 진행 상황:   8%|▊         | 8/100 [1:38:56<19:19:21, 756.10s/it]"
     ]
    },
    {
     "name": "stdout",
     "output_type": "stream",
     "text": [
      "Expand button not found or not clickable.\n",
      "Lyrics element not found.\n",
      "Title: 감자꽃 향기, Artist: 최원현\n"
     ]
    },
    {
     "name": "stderr",
     "output_type": "stream",
     "text": []
    },
    {
     "name": "stdout",
     "output_type": "stream",
     "text": [
      "Expand button not found or not clickable.\n",
      "Title: 눈비, Artist: 에이미\n"
     ]
    },
    {
     "name": "stderr",
     "output_type": "stream",
     "text": []
    },
    {
     "name": "stdout",
     "output_type": "stream",
     "text": [
      "Expand button not found or not clickable.\n",
      "Title: 울돌목에서, Artist: 차오름\n"
     ]
    },
    {
     "name": "stderr",
     "output_type": "stream",
     "text": []
    },
    {
     "name": "stdout",
     "output_type": "stream",
     "text": [
      "Expand button not found or not clickable.\n",
      "Title: 그 사람, Artist: 박갑\n"
     ]
    },
    {
     "name": "stderr",
     "output_type": "stream",
     "text": []
    },
    {
     "name": "stdout",
     "output_type": "stream",
     "text": [
      "Expand button not found or not clickable.\n",
      "Title: 다시, 봄, Artist: 홍진영\n"
     ]
    },
    {
     "name": "stderr",
     "output_type": "stream",
     "text": []
    },
    {
     "name": "stdout",
     "output_type": "stream",
     "text": [
      "Expand button not found or not clickable.\n",
      "Title: 배 띄어라, Artist: 최재명\n"
     ]
    },
    {
     "name": "stderr",
     "output_type": "stream",
     "text": []
    },
    {
     "name": "stdout",
     "output_type": "stream",
     "text": [
      "Expand button not found or not clickable.\n",
      "Title: 참숯꼬치 희망상회로 오세요, Artist: 이계덕\n"
     ]
    },
    {
     "name": "stderr",
     "output_type": "stream",
     "text": []
    },
    {
     "name": "stdout",
     "output_type": "stream",
     "text": [
      "Expand button not found or not clickable.\n",
      "Title: 계덕님 수레를 끄신다, Artist: 이계덕\n"
     ]
    },
    {
     "name": "stderr",
     "output_type": "stream",
     "text": []
    },
    {
     "name": "stdout",
     "output_type": "stream",
     "text": [
      "Expand button not found or not clickable.\n",
      "Title: 진주의 아름다운 아가씨, Artist: 김창현\n"
     ]
    },
    {
     "name": "stderr",
     "output_type": "stream",
     "text": []
    },
    {
     "name": "stdout",
     "output_type": "stream",
     "text": [
      "Expand button not found or not clickable.\n",
      "Title: 그대를 위한 연가, Artist: 안재동\n"
     ]
    },
    {
     "name": "stderr",
     "output_type": "stream",
     "text": []
    },
    {
     "name": "stdout",
     "output_type": "stream",
     "text": [
      "Expand button not found or not clickable.\n",
      "Title: 꿈속의 사랑, Artist: 손빈아\n"
     ]
    },
    {
     "name": "stderr",
     "output_type": "stream",
     "text": []
    },
    {
     "name": "stdout",
     "output_type": "stream",
     "text": [
      "Expand button not found or not clickable.\n",
      "Lyrics element not found.\n",
      "Title: 힘을내세요 (Cover Ver.), Artist: 우경진\n"
     ]
    },
    {
     "name": "stderr",
     "output_type": "stream",
     "text": []
    },
    {
     "name": "stdout",
     "output_type": "stream",
     "text": [
      "Expand button not found or not clickable.\n",
      "Title: 방랑시인 김삿갓, Artist: 홍중표\n"
     ]
    },
    {
     "name": "stderr",
     "output_type": "stream",
     "text": []
    },
    {
     "name": "stdout",
     "output_type": "stream",
     "text": [
      "Expand button not found or not clickable.\n",
      "Title: 고향 생각, Artist: 최병구\n"
     ]
    },
    {
     "name": "stderr",
     "output_type": "stream",
     "text": []
    },
    {
     "name": "stdout",
     "output_type": "stream",
     "text": [
      "Expand button not found or not clickable.\n",
      "Title: 처음처럼 사랑해 그대만을, Artist: 해븐(HEAVEN)\n"
     ]
    },
    {
     "name": "stderr",
     "output_type": "stream",
     "text": []
    },
    {
     "name": "stdout",
     "output_type": "stream",
     "text": [
      "Expand button not found or not clickable.\n",
      "Title: 오매좋은거 (Cover Ver.), Artist: 지애\n"
     ]
    },
    {
     "name": "stderr",
     "output_type": "stream",
     "text": []
    },
    {
     "name": "stdout",
     "output_type": "stream",
     "text": [
      "Expand button not found or not clickable.\n",
      "Lyrics element not found.\n",
      "Title: 사랑꽃, Artist: 고운님\n"
     ]
    },
    {
     "name": "stderr",
     "output_type": "stream",
     "text": []
    },
    {
     "name": "stdout",
     "output_type": "stream",
     "text": [
      "Expand button not found or not clickable.\n",
      "Title: 있잖아, Artist: 김주철\n"
     ]
    },
    {
     "name": "stderr",
     "output_type": "stream",
     "text": []
    },
    {
     "name": "stdout",
     "output_type": "stream",
     "text": [
      "Expand button not found or not clickable.\n",
      "Title: 인생은 새옹지마, Artist: 초아강\n"
     ]
    },
    {
     "name": "stderr",
     "output_type": "stream",
     "text": []
    },
    {
     "name": "stdout",
     "output_type": "stream",
     "text": [
      "Expand button not found or not clickable.\n",
      "Title: 멋진당신, Artist: 김미남\n"
     ]
    },
    {
     "name": "stderr",
     "output_type": "stream",
     "text": []
    },
    {
     "name": "stdout",
     "output_type": "stream",
     "text": [
      "Expand button not found or not clickable.\n",
      "Title: 간절곶 사랑, Artist: 제후나\n"
     ]
    },
    {
     "name": "stderr",
     "output_type": "stream",
     "text": []
    },
    {
     "name": "stdout",
     "output_type": "stream",
     "text": [
      "Expand button not found or not clickable.\n",
      "Lyrics element not found.\n",
      "Title: 백년이라하는데, Artist: 수향\n"
     ]
    },
    {
     "name": "stderr",
     "output_type": "stream",
     "text": []
    },
    {
     "name": "stdout",
     "output_type": "stream",
     "text": [
      "Expand button not found or not clickable.\n",
      "Title: 리필, Artist: 김양\n"
     ]
    },
    {
     "name": "stderr",
     "output_type": "stream",
     "text": []
    },
    {
     "name": "stdout",
     "output_type": "stream",
     "text": [
      "Expand button not found or not clickable.\n",
      "Lyrics element not found.\n",
      "Title: 똑똑한 여자 (Disco) (Cover Ver.), Artist: 동방석\n"
     ]
    },
    {
     "name": "stderr",
     "output_type": "stream",
     "text": []
    },
    {
     "name": "stdout",
     "output_type": "stream",
     "text": [
      "Expand button not found or not clickable.\n",
      "Lyrics element not found.\n",
      "Title: 돌아오지 않는 사랑 (Cover Ver.), Artist: 고광채\n"
     ]
    },
    {
     "name": "stderr",
     "output_type": "stream",
     "text": []
    },
    {
     "name": "stdout",
     "output_type": "stream",
     "text": [
      "Expand button not found or not clickable.\n",
      "Title: 보고 싶어요, Artist: 조애란\n"
     ]
    },
    {
     "name": "stderr",
     "output_type": "stream",
     "text": []
    },
    {
     "name": "stdout",
     "output_type": "stream",
     "text": [
      "Expand button not found or not clickable.\n",
      "Title: 딱 내 노래야, Artist: 손진숙(손채연)\n"
     ]
    },
    {
     "name": "stderr",
     "output_type": "stream",
     "text": []
    },
    {
     "name": "stdout",
     "output_type": "stream",
     "text": [
      "Expand button not found or not clickable.\n",
      "Title: 인생은 딱이야!, Artist: 유시애\n"
     ]
    },
    {
     "name": "stderr",
     "output_type": "stream",
     "text": []
    },
    {
     "name": "stdout",
     "output_type": "stream",
     "text": [
      "Expand button not found or not clickable.\n",
      "Lyrics element not found.\n",
      "Title: 함께해요 (Cover Ver.), Artist: 단하나\n"
     ]
    },
    {
     "name": "stderr",
     "output_type": "stream",
     "text": []
    },
    {
     "name": "stdout",
     "output_type": "stream",
     "text": [
      "Expand button not found or not clickable.\n",
      "Lyrics element not found.\n",
      "Title: 바람의 연가 (Cover Ver.), Artist: 김윤호\n"
     ]
    },
    {
     "name": "stderr",
     "output_type": "stream",
     "text": []
    },
    {
     "name": "stdout",
     "output_type": "stream",
     "text": [
      "Expand button not found or not clickable.\n",
      "Lyrics element not found.\n",
      "Title: 좋은인연 (Cover Ver.), Artist: 권정화\n"
     ]
    },
    {
     "name": "stderr",
     "output_type": "stream",
     "text": []
    },
    {
     "name": "stdout",
     "output_type": "stream",
     "text": [
      "Expand button not found or not clickable.\n",
      "Title: 내사랑 껌딱지, Artist: 그린\n"
     ]
    },
    {
     "name": "stderr",
     "output_type": "stream",
     "text": []
    },
    {
     "name": "stdout",
     "output_type": "stream",
     "text": [
      "Expand button not found or not clickable.\n",
      "Lyrics element not found.\n",
      "Title: 사랑의 봄비, Artist: 홍보영\n"
     ]
    },
    {
     "name": "stderr",
     "output_type": "stream",
     "text": []
    },
    {
     "name": "stdout",
     "output_type": "stream",
     "text": [
      "Expand button not found or not clickable.\n",
      "Lyrics element not found.\n",
      "Title: 인생2막 (Cover Ver.), Artist: 손창식\n"
     ]
    },
    {
     "name": "stderr",
     "output_type": "stream",
     "text": []
    },
    {
     "name": "stdout",
     "output_type": "stream",
     "text": [
      "Expand button not found or not clickable.\n",
      "Title: 봄날의 춘향이, Artist: 김 소피아\n"
     ]
    },
    {
     "name": "stderr",
     "output_type": "stream",
     "text": []
    },
    {
     "name": "stdout",
     "output_type": "stream",
     "text": [
      "Expand button not found or not clickable.\n",
      "Title: 괜찮아, Artist: 김민주\n"
     ]
    },
    {
     "name": "stderr",
     "output_type": "stream",
     "text": []
    },
    {
     "name": "stdout",
     "output_type": "stream",
     "text": [
      "Expand button not found or not clickable.\n",
      "Title: 자네, Artist: 조재권\n"
     ]
    },
    {
     "name": "stderr",
     "output_type": "stream",
     "text": []
    },
    {
     "name": "stdout",
     "output_type": "stream",
     "text": [
      "Expand button not found or not clickable.\n",
      "Title: 소중한사람, Artist: 최야나\n"
     ]
    },
    {
     "name": "stderr",
     "output_type": "stream",
     "text": [
      "페이지 진행 상황:   8%|▊         | 8/100 [1:50:58<21:16:09, 832.27s/it]\n"
     ]
    },
    {
     "ename": "ReadTimeoutError",
     "evalue": "HTTPConnectionPool(host='localhost', port=55285): Read timed out. (read timeout=120)",
     "output_type": "error",
     "traceback": [
      "\u001b[1;31m---------------------------------------------------------------------------\u001b[0m",
      "\u001b[1;31mTimeoutError\u001b[0m                              Traceback (most recent call last)",
      "File \u001b[1;32mc:\\Users\\user\\miniconda3\\envs\\DL311\\Lib\\site-packages\\urllib3\\connectionpool.py:534\u001b[0m, in \u001b[0;36mHTTPConnectionPool._make_request\u001b[1;34m(self, conn, method, url, body, headers, retries, timeout, chunked, response_conn, preload_content, decode_content, enforce_content_length)\u001b[0m\n\u001b[0;32m    533\u001b[0m \u001b[38;5;28;01mtry\u001b[39;00m:\n\u001b[1;32m--> 534\u001b[0m     response \u001b[38;5;241m=\u001b[39m \u001b[43mconn\u001b[49m\u001b[38;5;241;43m.\u001b[39;49m\u001b[43mgetresponse\u001b[49m\u001b[43m(\u001b[49m\u001b[43m)\u001b[49m\n\u001b[0;32m    535\u001b[0m \u001b[38;5;28;01mexcept\u001b[39;00m (BaseSSLError, \u001b[38;5;167;01mOSError\u001b[39;00m) \u001b[38;5;28;01mas\u001b[39;00m e:\n",
      "File \u001b[1;32mc:\\Users\\user\\miniconda3\\envs\\DL311\\Lib\\site-packages\\urllib3\\connection.py:516\u001b[0m, in \u001b[0;36mHTTPConnection.getresponse\u001b[1;34m(self)\u001b[0m\n\u001b[0;32m    515\u001b[0m \u001b[38;5;66;03m# Get the response from http.client.HTTPConnection\u001b[39;00m\n\u001b[1;32m--> 516\u001b[0m httplib_response \u001b[38;5;241m=\u001b[39m \u001b[38;5;28;43msuper\u001b[39;49m\u001b[43m(\u001b[49m\u001b[43m)\u001b[49m\u001b[38;5;241;43m.\u001b[39;49m\u001b[43mgetresponse\u001b[49m\u001b[43m(\u001b[49m\u001b[43m)\u001b[49m\n\u001b[0;32m    518\u001b[0m \u001b[38;5;28;01mtry\u001b[39;00m:\n",
      "File \u001b[1;32mc:\\Users\\user\\miniconda3\\envs\\DL311\\Lib\\http\\client.py:1395\u001b[0m, in \u001b[0;36mHTTPConnection.getresponse\u001b[1;34m(self)\u001b[0m\n\u001b[0;32m   1394\u001b[0m \u001b[38;5;28;01mtry\u001b[39;00m:\n\u001b[1;32m-> 1395\u001b[0m     \u001b[43mresponse\u001b[49m\u001b[38;5;241;43m.\u001b[39;49m\u001b[43mbegin\u001b[49m\u001b[43m(\u001b[49m\u001b[43m)\u001b[49m\n\u001b[0;32m   1396\u001b[0m \u001b[38;5;28;01mexcept\u001b[39;00m \u001b[38;5;167;01mConnectionError\u001b[39;00m:\n",
      "File \u001b[1;32mc:\\Users\\user\\miniconda3\\envs\\DL311\\Lib\\http\\client.py:325\u001b[0m, in \u001b[0;36mHTTPResponse.begin\u001b[1;34m(self)\u001b[0m\n\u001b[0;32m    324\u001b[0m \u001b[38;5;28;01mwhile\u001b[39;00m \u001b[38;5;28;01mTrue\u001b[39;00m:\n\u001b[1;32m--> 325\u001b[0m     version, status, reason \u001b[38;5;241m=\u001b[39m \u001b[38;5;28;43mself\u001b[39;49m\u001b[38;5;241;43m.\u001b[39;49m\u001b[43m_read_status\u001b[49m\u001b[43m(\u001b[49m\u001b[43m)\u001b[49m\n\u001b[0;32m    326\u001b[0m     \u001b[38;5;28;01mif\u001b[39;00m status \u001b[38;5;241m!=\u001b[39m CONTINUE:\n",
      "File \u001b[1;32mc:\\Users\\user\\miniconda3\\envs\\DL311\\Lib\\http\\client.py:286\u001b[0m, in \u001b[0;36mHTTPResponse._read_status\u001b[1;34m(self)\u001b[0m\n\u001b[0;32m    285\u001b[0m \u001b[38;5;28;01mdef\u001b[39;00m\u001b[38;5;250m \u001b[39m\u001b[38;5;21m_read_status\u001b[39m(\u001b[38;5;28mself\u001b[39m):\n\u001b[1;32m--> 286\u001b[0m     line \u001b[38;5;241m=\u001b[39m \u001b[38;5;28mstr\u001b[39m(\u001b[38;5;28mself\u001b[39m\u001b[38;5;241m.\u001b[39mfp\u001b[38;5;241m.\u001b[39mreadline(_MAXLINE \u001b[38;5;241m+\u001b[39m \u001b[38;5;241m1\u001b[39m), \u001b[38;5;124m\"\u001b[39m\u001b[38;5;124miso-8859-1\u001b[39m\u001b[38;5;124m\"\u001b[39m)\n\u001b[0;32m    287\u001b[0m     \u001b[38;5;28;01mif\u001b[39;00m \u001b[38;5;28mlen\u001b[39m(line) \u001b[38;5;241m>\u001b[39m _MAXLINE:\n",
      "File \u001b[1;32mc:\\Users\\user\\miniconda3\\envs\\DL311\\Lib\\socket.py:718\u001b[0m, in \u001b[0;36mSocketIO.readinto\u001b[1;34m(self, b)\u001b[0m\n\u001b[0;32m    717\u001b[0m \u001b[38;5;28;01mtry\u001b[39;00m:\n\u001b[1;32m--> 718\u001b[0m     \u001b[38;5;28;01mreturn\u001b[39;00m \u001b[38;5;28;43mself\u001b[39;49m\u001b[38;5;241;43m.\u001b[39;49m\u001b[43m_sock\u001b[49m\u001b[38;5;241;43m.\u001b[39;49m\u001b[43mrecv_into\u001b[49m\u001b[43m(\u001b[49m\u001b[43mb\u001b[49m\u001b[43m)\u001b[49m\n\u001b[0;32m    719\u001b[0m \u001b[38;5;28;01mexcept\u001b[39;00m timeout:\n",
      "\u001b[1;31mTimeoutError\u001b[0m: timed out",
      "\nThe above exception was the direct cause of the following exception:\n",
      "\u001b[1;31mReadTimeoutError\u001b[0m                          Traceback (most recent call last)",
      "Cell \u001b[1;32mIn[4], line 35\u001b[0m\n\u001b[0;32m     32\u001b[0m song_elements[song_index]\u001b[38;5;241m.\u001b[39mclick()\n\u001b[0;32m     34\u001b[0m \u001b[38;5;66;03m# 노래 정보 추출\u001b[39;00m\n\u001b[1;32m---> 35\u001b[0m title \u001b[38;5;241m=\u001b[39m \u001b[43mWebDriverWait\u001b[49m\u001b[43m(\u001b[49m\u001b[43mdriver\u001b[49m\u001b[43m,\u001b[49m\u001b[43m \u001b[49m\u001b[38;5;241;43m10\u001b[39;49m\u001b[43m)\u001b[49m\u001b[38;5;241;43m.\u001b[39;49m\u001b[43muntil\u001b[49m\u001b[43m(\u001b[49m\n\u001b[0;32m     36\u001b[0m \u001b[43m    \u001b[49m\u001b[43mEC\u001b[49m\u001b[38;5;241;43m.\u001b[39;49m\u001b[43mpresence_of_element_located\u001b[49m\u001b[43m(\u001b[49m\u001b[43m(\u001b[49m\u001b[43mBy\u001b[49m\u001b[38;5;241;43m.\u001b[39;49m\u001b[43mXPATH\u001b[49m\u001b[43m,\u001b[49m\u001b[43m \u001b[49m\u001b[38;5;124;43m\"\u001b[39;49m\u001b[38;5;124;43m//div[@class=\u001b[39;49m\u001b[38;5;124;43m'\u001b[39;49m\u001b[38;5;124;43msong_name\u001b[39;49m\u001b[38;5;124;43m'\u001b[39;49m\u001b[38;5;124;43m]\u001b[39;49m\u001b[38;5;124;43m\"\u001b[39;49m\u001b[43m)\u001b[49m\u001b[43m)\u001b[49m\n\u001b[0;32m     37\u001b[0m \u001b[43m\u001b[49m\u001b[43m)\u001b[49m\u001b[38;5;241m.\u001b[39mtext\n\u001b[0;32m     38\u001b[0m singer \u001b[38;5;241m=\u001b[39m driver\u001b[38;5;241m.\u001b[39mfind_element(By\u001b[38;5;241m.\u001b[39mXPATH, \u001b[38;5;124m\"\u001b[39m\u001b[38;5;124m//a[@class=\u001b[39m\u001b[38;5;124m'\u001b[39m\u001b[38;5;124martist_name\u001b[39m\u001b[38;5;124m'\u001b[39m\u001b[38;5;124m]\u001b[39m\u001b[38;5;124m\"\u001b[39m)\u001b[38;5;241m.\u001b[39mtext\n\u001b[0;32m     39\u001b[0m \u001b[38;5;66;03m#likes = driver.find_element(By.XPATH, \"//span[@id='d_like_count']\").text\u001b[39;00m\n\u001b[0;32m     40\u001b[0m \n\u001b[0;32m     41\u001b[0m \u001b[38;5;66;03m# \"펼치기\" 버튼 클릭 시도\u001b[39;00m\n",
      "File \u001b[1;32mc:\\Users\\user\\miniconda3\\envs\\DL311\\Lib\\site-packages\\selenium\\webdriver\\support\\wait.py:137\u001b[0m, in \u001b[0;36mWebDriverWait.until\u001b[1;34m(self, method, message)\u001b[0m\n\u001b[0;32m    135\u001b[0m \u001b[38;5;28;01mwhile\u001b[39;00m \u001b[38;5;28;01mTrue\u001b[39;00m:\n\u001b[0;32m    136\u001b[0m     \u001b[38;5;28;01mtry\u001b[39;00m:\n\u001b[1;32m--> 137\u001b[0m         value \u001b[38;5;241m=\u001b[39m \u001b[43mmethod\u001b[49m\u001b[43m(\u001b[49m\u001b[38;5;28;43mself\u001b[39;49m\u001b[38;5;241;43m.\u001b[39;49m\u001b[43m_driver\u001b[49m\u001b[43m)\u001b[49m\n\u001b[0;32m    138\u001b[0m         \u001b[38;5;28;01mif\u001b[39;00m value:\n\u001b[0;32m    139\u001b[0m             \u001b[38;5;28;01mreturn\u001b[39;00m value\n",
      "File \u001b[1;32mc:\\Users\\user\\miniconda3\\envs\\DL311\\Lib\\site-packages\\selenium\\webdriver\\support\\expected_conditions.py:110\u001b[0m, in \u001b[0;36mpresence_of_element_located.<locals>._predicate\u001b[1;34m(driver)\u001b[0m\n\u001b[0;32m    109\u001b[0m \u001b[38;5;28;01mdef\u001b[39;00m\u001b[38;5;250m \u001b[39m\u001b[38;5;21m_predicate\u001b[39m(driver: WebDriverOrWebElement):\n\u001b[1;32m--> 110\u001b[0m     \u001b[38;5;28;01mreturn\u001b[39;00m \u001b[43mdriver\u001b[49m\u001b[38;5;241;43m.\u001b[39;49m\u001b[43mfind_element\u001b[49m\u001b[43m(\u001b[49m\u001b[38;5;241;43m*\u001b[39;49m\u001b[43mlocator\u001b[49m\u001b[43m)\u001b[49m\n",
      "File \u001b[1;32mc:\\Users\\user\\miniconda3\\envs\\DL311\\Lib\\site-packages\\selenium\\webdriver\\remote\\webdriver.py:898\u001b[0m, in \u001b[0;36mWebDriver.find_element\u001b[1;34m(self, by, value)\u001b[0m\n\u001b[0;32m    895\u001b[0m         \u001b[38;5;28;01mraise\u001b[39;00m NoSuchElementException(\u001b[38;5;124mf\u001b[39m\u001b[38;5;124m\"\u001b[39m\u001b[38;5;124mCannot locate relative element with: \u001b[39m\u001b[38;5;132;01m{\u001b[39;00mby\u001b[38;5;241m.\u001b[39mroot\u001b[38;5;132;01m}\u001b[39;00m\u001b[38;5;124m\"\u001b[39m)\n\u001b[0;32m    896\u001b[0m     \u001b[38;5;28;01mreturn\u001b[39;00m elements[\u001b[38;5;241m0\u001b[39m]\n\u001b[1;32m--> 898\u001b[0m \u001b[38;5;28;01mreturn\u001b[39;00m \u001b[38;5;28;43mself\u001b[39;49m\u001b[38;5;241;43m.\u001b[39;49m\u001b[43mexecute\u001b[49m\u001b[43m(\u001b[49m\u001b[43mCommand\u001b[49m\u001b[38;5;241;43m.\u001b[39;49m\u001b[43mFIND_ELEMENT\u001b[49m\u001b[43m,\u001b[49m\u001b[43m \u001b[49m\u001b[43m{\u001b[49m\u001b[38;5;124;43m\"\u001b[39;49m\u001b[38;5;124;43musing\u001b[39;49m\u001b[38;5;124;43m\"\u001b[39;49m\u001b[43m:\u001b[49m\u001b[43m \u001b[49m\u001b[43mby\u001b[49m\u001b[43m,\u001b[49m\u001b[43m \u001b[49m\u001b[38;5;124;43m\"\u001b[39;49m\u001b[38;5;124;43mvalue\u001b[39;49m\u001b[38;5;124;43m\"\u001b[39;49m\u001b[43m:\u001b[49m\u001b[43m \u001b[49m\u001b[43mvalue\u001b[49m\u001b[43m}\u001b[49m\u001b[43m)\u001b[49m[\u001b[38;5;124m\"\u001b[39m\u001b[38;5;124mvalue\u001b[39m\u001b[38;5;124m\"\u001b[39m]\n",
      "File \u001b[1;32mc:\\Users\\user\\miniconda3\\envs\\DL311\\Lib\\site-packages\\selenium\\webdriver\\remote\\webdriver.py:427\u001b[0m, in \u001b[0;36mWebDriver.execute\u001b[1;34m(self, driver_command, params)\u001b[0m\n\u001b[0;32m    424\u001b[0m     \u001b[38;5;28;01melif\u001b[39;00m \u001b[38;5;124m\"\u001b[39m\u001b[38;5;124msessionId\u001b[39m\u001b[38;5;124m\"\u001b[39m \u001b[38;5;129;01mnot\u001b[39;00m \u001b[38;5;129;01min\u001b[39;00m params:\n\u001b[0;32m    425\u001b[0m         params[\u001b[38;5;124m\"\u001b[39m\u001b[38;5;124msessionId\u001b[39m\u001b[38;5;124m\"\u001b[39m] \u001b[38;5;241m=\u001b[39m \u001b[38;5;28mself\u001b[39m\u001b[38;5;241m.\u001b[39msession_id\n\u001b[1;32m--> 427\u001b[0m response \u001b[38;5;241m=\u001b[39m \u001b[38;5;28;43mself\u001b[39;49m\u001b[38;5;241;43m.\u001b[39;49m\u001b[43mcommand_executor\u001b[49m\u001b[38;5;241;43m.\u001b[39;49m\u001b[43mexecute\u001b[49m\u001b[43m(\u001b[49m\u001b[43mdriver_command\u001b[49m\u001b[43m,\u001b[49m\u001b[43m \u001b[49m\u001b[43mparams\u001b[49m\u001b[43m)\u001b[49m\n\u001b[0;32m    428\u001b[0m \u001b[38;5;28;01mif\u001b[39;00m response:\n\u001b[0;32m    429\u001b[0m     \u001b[38;5;28mself\u001b[39m\u001b[38;5;241m.\u001b[39merror_handler\u001b[38;5;241m.\u001b[39mcheck_response(response)\n",
      "File \u001b[1;32mc:\\Users\\user\\miniconda3\\envs\\DL311\\Lib\\site-packages\\selenium\\webdriver\\remote\\remote_connection.py:404\u001b[0m, in \u001b[0;36mRemoteConnection.execute\u001b[1;34m(self, command, params)\u001b[0m\n\u001b[0;32m    402\u001b[0m trimmed \u001b[38;5;241m=\u001b[39m \u001b[38;5;28mself\u001b[39m\u001b[38;5;241m.\u001b[39m_trim_large_entries(params)\n\u001b[0;32m    403\u001b[0m LOGGER\u001b[38;5;241m.\u001b[39mdebug(\u001b[38;5;124m\"\u001b[39m\u001b[38;5;132;01m%s\u001b[39;00m\u001b[38;5;124m \u001b[39m\u001b[38;5;132;01m%s\u001b[39;00m\u001b[38;5;124m \u001b[39m\u001b[38;5;132;01m%s\u001b[39;00m\u001b[38;5;124m\"\u001b[39m, command_info[\u001b[38;5;241m0\u001b[39m], url, \u001b[38;5;28mstr\u001b[39m(trimmed))\n\u001b[1;32m--> 404\u001b[0m \u001b[38;5;28;01mreturn\u001b[39;00m \u001b[38;5;28;43mself\u001b[39;49m\u001b[38;5;241;43m.\u001b[39;49m\u001b[43m_request\u001b[49m\u001b[43m(\u001b[49m\u001b[43mcommand_info\u001b[49m\u001b[43m[\u001b[49m\u001b[38;5;241;43m0\u001b[39;49m\u001b[43m]\u001b[49m\u001b[43m,\u001b[49m\u001b[43m \u001b[49m\u001b[43murl\u001b[49m\u001b[43m,\u001b[49m\u001b[43m \u001b[49m\u001b[43mbody\u001b[49m\u001b[38;5;241;43m=\u001b[39;49m\u001b[43mdata\u001b[49m\u001b[43m)\u001b[49m\n",
      "File \u001b[1;32mc:\\Users\\user\\miniconda3\\envs\\DL311\\Lib\\site-packages\\selenium\\webdriver\\remote\\remote_connection.py:428\u001b[0m, in \u001b[0;36mRemoteConnection._request\u001b[1;34m(self, method, url, body)\u001b[0m\n\u001b[0;32m    425\u001b[0m     body \u001b[38;5;241m=\u001b[39m \u001b[38;5;28;01mNone\u001b[39;00m\n\u001b[0;32m    427\u001b[0m \u001b[38;5;28;01mif\u001b[39;00m \u001b[38;5;28mself\u001b[39m\u001b[38;5;241m.\u001b[39m_client_config\u001b[38;5;241m.\u001b[39mkeep_alive:\n\u001b[1;32m--> 428\u001b[0m     response \u001b[38;5;241m=\u001b[39m \u001b[38;5;28;43mself\u001b[39;49m\u001b[38;5;241;43m.\u001b[39;49m\u001b[43m_conn\u001b[49m\u001b[38;5;241;43m.\u001b[39;49m\u001b[43mrequest\u001b[49m\u001b[43m(\u001b[49m\u001b[43mmethod\u001b[49m\u001b[43m,\u001b[49m\u001b[43m \u001b[49m\u001b[43murl\u001b[49m\u001b[43m,\u001b[49m\u001b[43m \u001b[49m\u001b[43mbody\u001b[49m\u001b[38;5;241;43m=\u001b[39;49m\u001b[43mbody\u001b[49m\u001b[43m,\u001b[49m\u001b[43m \u001b[49m\u001b[43mheaders\u001b[49m\u001b[38;5;241;43m=\u001b[39;49m\u001b[43mheaders\u001b[49m\u001b[43m,\u001b[49m\u001b[43m \u001b[49m\u001b[43mtimeout\u001b[49m\u001b[38;5;241;43m=\u001b[39;49m\u001b[38;5;28;43mself\u001b[39;49m\u001b[38;5;241;43m.\u001b[39;49m\u001b[43m_client_config\u001b[49m\u001b[38;5;241;43m.\u001b[39;49m\u001b[43mtimeout\u001b[49m\u001b[43m)\u001b[49m\n\u001b[0;32m    429\u001b[0m     statuscode \u001b[38;5;241m=\u001b[39m response\u001b[38;5;241m.\u001b[39mstatus\n\u001b[0;32m    430\u001b[0m \u001b[38;5;28;01melse\u001b[39;00m:\n",
      "File \u001b[1;32mc:\\Users\\user\\miniconda3\\envs\\DL311\\Lib\\site-packages\\urllib3\\_request_methods.py:143\u001b[0m, in \u001b[0;36mRequestMethods.request\u001b[1;34m(self, method, url, body, fields, headers, json, **urlopen_kw)\u001b[0m\n\u001b[0;32m    135\u001b[0m     \u001b[38;5;28;01mreturn\u001b[39;00m \u001b[38;5;28mself\u001b[39m\u001b[38;5;241m.\u001b[39mrequest_encode_url(\n\u001b[0;32m    136\u001b[0m         method,\n\u001b[0;32m    137\u001b[0m         url,\n\u001b[1;32m   (...)\u001b[0m\n\u001b[0;32m    140\u001b[0m         \u001b[38;5;241m*\u001b[39m\u001b[38;5;241m*\u001b[39murlopen_kw,\n\u001b[0;32m    141\u001b[0m     )\n\u001b[0;32m    142\u001b[0m \u001b[38;5;28;01melse\u001b[39;00m:\n\u001b[1;32m--> 143\u001b[0m     \u001b[38;5;28;01mreturn\u001b[39;00m \u001b[38;5;28;43mself\u001b[39;49m\u001b[38;5;241;43m.\u001b[39;49m\u001b[43mrequest_encode_body\u001b[49m\u001b[43m(\u001b[49m\n\u001b[0;32m    144\u001b[0m \u001b[43m        \u001b[49m\u001b[43mmethod\u001b[49m\u001b[43m,\u001b[49m\u001b[43m \u001b[49m\u001b[43murl\u001b[49m\u001b[43m,\u001b[49m\u001b[43m \u001b[49m\u001b[43mfields\u001b[49m\u001b[38;5;241;43m=\u001b[39;49m\u001b[43mfields\u001b[49m\u001b[43m,\u001b[49m\u001b[43m \u001b[49m\u001b[43mheaders\u001b[49m\u001b[38;5;241;43m=\u001b[39;49m\u001b[43mheaders\u001b[49m\u001b[43m,\u001b[49m\u001b[43m \u001b[49m\u001b[38;5;241;43m*\u001b[39;49m\u001b[38;5;241;43m*\u001b[39;49m\u001b[43murlopen_kw\u001b[49m\n\u001b[0;32m    145\u001b[0m \u001b[43m    \u001b[49m\u001b[43m)\u001b[49m\n",
      "File \u001b[1;32mc:\\Users\\user\\miniconda3\\envs\\DL311\\Lib\\site-packages\\urllib3\\_request_methods.py:278\u001b[0m, in \u001b[0;36mRequestMethods.request_encode_body\u001b[1;34m(self, method, url, fields, headers, encode_multipart, multipart_boundary, **urlopen_kw)\u001b[0m\n\u001b[0;32m    274\u001b[0m     extra_kw[\u001b[38;5;124m\"\u001b[39m\u001b[38;5;124mheaders\u001b[39m\u001b[38;5;124m\"\u001b[39m]\u001b[38;5;241m.\u001b[39msetdefault(\u001b[38;5;124m\"\u001b[39m\u001b[38;5;124mContent-Type\u001b[39m\u001b[38;5;124m\"\u001b[39m, content_type)\n\u001b[0;32m    276\u001b[0m extra_kw\u001b[38;5;241m.\u001b[39mupdate(urlopen_kw)\n\u001b[1;32m--> 278\u001b[0m \u001b[38;5;28;01mreturn\u001b[39;00m \u001b[38;5;28;43mself\u001b[39;49m\u001b[38;5;241;43m.\u001b[39;49m\u001b[43murlopen\u001b[49m\u001b[43m(\u001b[49m\u001b[43mmethod\u001b[49m\u001b[43m,\u001b[49m\u001b[43m \u001b[49m\u001b[43murl\u001b[49m\u001b[43m,\u001b[49m\u001b[43m \u001b[49m\u001b[38;5;241;43m*\u001b[39;49m\u001b[38;5;241;43m*\u001b[39;49m\u001b[43mextra_kw\u001b[49m\u001b[43m)\u001b[49m\n",
      "File \u001b[1;32mc:\\Users\\user\\miniconda3\\envs\\DL311\\Lib\\site-packages\\urllib3\\poolmanager.py:443\u001b[0m, in \u001b[0;36mPoolManager.urlopen\u001b[1;34m(self, method, url, redirect, **kw)\u001b[0m\n\u001b[0;32m    441\u001b[0m     response \u001b[38;5;241m=\u001b[39m conn\u001b[38;5;241m.\u001b[39murlopen(method, url, \u001b[38;5;241m*\u001b[39m\u001b[38;5;241m*\u001b[39mkw)\n\u001b[0;32m    442\u001b[0m \u001b[38;5;28;01melse\u001b[39;00m:\n\u001b[1;32m--> 443\u001b[0m     response \u001b[38;5;241m=\u001b[39m \u001b[43mconn\u001b[49m\u001b[38;5;241;43m.\u001b[39;49m\u001b[43murlopen\u001b[49m\u001b[43m(\u001b[49m\u001b[43mmethod\u001b[49m\u001b[43m,\u001b[49m\u001b[43m \u001b[49m\u001b[43mu\u001b[49m\u001b[38;5;241;43m.\u001b[39;49m\u001b[43mrequest_uri\u001b[49m\u001b[43m,\u001b[49m\u001b[43m \u001b[49m\u001b[38;5;241;43m*\u001b[39;49m\u001b[38;5;241;43m*\u001b[39;49m\u001b[43mkw\u001b[49m\u001b[43m)\u001b[49m\n\u001b[0;32m    445\u001b[0m redirect_location \u001b[38;5;241m=\u001b[39m redirect \u001b[38;5;129;01mand\u001b[39;00m response\u001b[38;5;241m.\u001b[39mget_redirect_location()\n\u001b[0;32m    446\u001b[0m \u001b[38;5;28;01mif\u001b[39;00m \u001b[38;5;129;01mnot\u001b[39;00m redirect_location:\n",
      "File \u001b[1;32mc:\\Users\\user\\miniconda3\\envs\\DL311\\Lib\\site-packages\\urllib3\\connectionpool.py:841\u001b[0m, in \u001b[0;36mHTTPConnectionPool.urlopen\u001b[1;34m(self, method, url, body, headers, retries, redirect, assert_same_host, timeout, pool_timeout, release_conn, chunked, body_pos, preload_content, decode_content, **response_kw)\u001b[0m\n\u001b[0;32m    838\u001b[0m \u001b[38;5;28;01melif\u001b[39;00m \u001b[38;5;28misinstance\u001b[39m(new_e, (\u001b[38;5;167;01mOSError\u001b[39;00m, HTTPException)):\n\u001b[0;32m    839\u001b[0m     new_e \u001b[38;5;241m=\u001b[39m ProtocolError(\u001b[38;5;124m\"\u001b[39m\u001b[38;5;124mConnection aborted.\u001b[39m\u001b[38;5;124m\"\u001b[39m, new_e)\n\u001b[1;32m--> 841\u001b[0m retries \u001b[38;5;241m=\u001b[39m \u001b[43mretries\u001b[49m\u001b[38;5;241;43m.\u001b[39;49m\u001b[43mincrement\u001b[49m\u001b[43m(\u001b[49m\n\u001b[0;32m    842\u001b[0m \u001b[43m    \u001b[49m\u001b[43mmethod\u001b[49m\u001b[43m,\u001b[49m\u001b[43m \u001b[49m\u001b[43murl\u001b[49m\u001b[43m,\u001b[49m\u001b[43m \u001b[49m\u001b[43merror\u001b[49m\u001b[38;5;241;43m=\u001b[39;49m\u001b[43mnew_e\u001b[49m\u001b[43m,\u001b[49m\u001b[43m \u001b[49m\u001b[43m_pool\u001b[49m\u001b[38;5;241;43m=\u001b[39;49m\u001b[38;5;28;43mself\u001b[39;49m\u001b[43m,\u001b[49m\u001b[43m \u001b[49m\u001b[43m_stacktrace\u001b[49m\u001b[38;5;241;43m=\u001b[39;49m\u001b[43msys\u001b[49m\u001b[38;5;241;43m.\u001b[39;49m\u001b[43mexc_info\u001b[49m\u001b[43m(\u001b[49m\u001b[43m)\u001b[49m\u001b[43m[\u001b[49m\u001b[38;5;241;43m2\u001b[39;49m\u001b[43m]\u001b[49m\n\u001b[0;32m    843\u001b[0m \u001b[43m\u001b[49m\u001b[43m)\u001b[49m\n\u001b[0;32m    844\u001b[0m retries\u001b[38;5;241m.\u001b[39msleep()\n\u001b[0;32m    846\u001b[0m \u001b[38;5;66;03m# Keep track of the error for the retry warning.\u001b[39;00m\n",
      "File \u001b[1;32mc:\\Users\\user\\miniconda3\\envs\\DL311\\Lib\\site-packages\\urllib3\\util\\retry.py:474\u001b[0m, in \u001b[0;36mRetry.increment\u001b[1;34m(self, method, url, response, error, _pool, _stacktrace)\u001b[0m\n\u001b[0;32m    471\u001b[0m \u001b[38;5;28;01melif\u001b[39;00m error \u001b[38;5;129;01mand\u001b[39;00m \u001b[38;5;28mself\u001b[39m\u001b[38;5;241m.\u001b[39m_is_read_error(error):\n\u001b[0;32m    472\u001b[0m     \u001b[38;5;66;03m# Read retry?\u001b[39;00m\n\u001b[0;32m    473\u001b[0m     \u001b[38;5;28;01mif\u001b[39;00m read \u001b[38;5;129;01mis\u001b[39;00m \u001b[38;5;28;01mFalse\u001b[39;00m \u001b[38;5;129;01mor\u001b[39;00m method \u001b[38;5;129;01mis\u001b[39;00m \u001b[38;5;28;01mNone\u001b[39;00m \u001b[38;5;129;01mor\u001b[39;00m \u001b[38;5;129;01mnot\u001b[39;00m \u001b[38;5;28mself\u001b[39m\u001b[38;5;241m.\u001b[39m_is_method_retryable(method):\n\u001b[1;32m--> 474\u001b[0m         \u001b[38;5;28;01mraise\u001b[39;00m \u001b[43mreraise\u001b[49m\u001b[43m(\u001b[49m\u001b[38;5;28;43mtype\u001b[39;49m\u001b[43m(\u001b[49m\u001b[43merror\u001b[49m\u001b[43m)\u001b[49m\u001b[43m,\u001b[49m\u001b[43m \u001b[49m\u001b[43merror\u001b[49m\u001b[43m,\u001b[49m\u001b[43m \u001b[49m\u001b[43m_stacktrace\u001b[49m\u001b[43m)\u001b[49m\n\u001b[0;32m    475\u001b[0m     \u001b[38;5;28;01melif\u001b[39;00m read \u001b[38;5;129;01mis\u001b[39;00m \u001b[38;5;129;01mnot\u001b[39;00m \u001b[38;5;28;01mNone\u001b[39;00m:\n\u001b[0;32m    476\u001b[0m         read \u001b[38;5;241m-\u001b[39m\u001b[38;5;241m=\u001b[39m \u001b[38;5;241m1\u001b[39m\n",
      "File \u001b[1;32mc:\\Users\\user\\miniconda3\\envs\\DL311\\Lib\\site-packages\\urllib3\\util\\util.py:39\u001b[0m, in \u001b[0;36mreraise\u001b[1;34m(tp, value, tb)\u001b[0m\n\u001b[0;32m     37\u001b[0m     \u001b[38;5;28;01mif\u001b[39;00m value\u001b[38;5;241m.\u001b[39m__traceback__ \u001b[38;5;129;01mis\u001b[39;00m \u001b[38;5;129;01mnot\u001b[39;00m tb:\n\u001b[0;32m     38\u001b[0m         \u001b[38;5;28;01mraise\u001b[39;00m value\u001b[38;5;241m.\u001b[39mwith_traceback(tb)\n\u001b[1;32m---> 39\u001b[0m     \u001b[38;5;28;01mraise\u001b[39;00m value\n\u001b[0;32m     40\u001b[0m \u001b[38;5;28;01mfinally\u001b[39;00m:\n\u001b[0;32m     41\u001b[0m     value \u001b[38;5;241m=\u001b[39m \u001b[38;5;28;01mNone\u001b[39;00m  \u001b[38;5;66;03m# type: ignore[assignment]\u001b[39;00m\n",
      "File \u001b[1;32mc:\\Users\\user\\miniconda3\\envs\\DL311\\Lib\\site-packages\\urllib3\\connectionpool.py:787\u001b[0m, in \u001b[0;36mHTTPConnectionPool.urlopen\u001b[1;34m(self, method, url, body, headers, retries, redirect, assert_same_host, timeout, pool_timeout, release_conn, chunked, body_pos, preload_content, decode_content, **response_kw)\u001b[0m\n\u001b[0;32m    784\u001b[0m response_conn \u001b[38;5;241m=\u001b[39m conn \u001b[38;5;28;01mif\u001b[39;00m \u001b[38;5;129;01mnot\u001b[39;00m release_conn \u001b[38;5;28;01melse\u001b[39;00m \u001b[38;5;28;01mNone\u001b[39;00m\n\u001b[0;32m    786\u001b[0m \u001b[38;5;66;03m# Make the request on the HTTPConnection object\u001b[39;00m\n\u001b[1;32m--> 787\u001b[0m response \u001b[38;5;241m=\u001b[39m \u001b[38;5;28;43mself\u001b[39;49m\u001b[38;5;241;43m.\u001b[39;49m\u001b[43m_make_request\u001b[49m\u001b[43m(\u001b[49m\n\u001b[0;32m    788\u001b[0m \u001b[43m    \u001b[49m\u001b[43mconn\u001b[49m\u001b[43m,\u001b[49m\n\u001b[0;32m    789\u001b[0m \u001b[43m    \u001b[49m\u001b[43mmethod\u001b[49m\u001b[43m,\u001b[49m\n\u001b[0;32m    790\u001b[0m \u001b[43m    \u001b[49m\u001b[43murl\u001b[49m\u001b[43m,\u001b[49m\n\u001b[0;32m    791\u001b[0m \u001b[43m    \u001b[49m\u001b[43mtimeout\u001b[49m\u001b[38;5;241;43m=\u001b[39;49m\u001b[43mtimeout_obj\u001b[49m\u001b[43m,\u001b[49m\n\u001b[0;32m    792\u001b[0m \u001b[43m    \u001b[49m\u001b[43mbody\u001b[49m\u001b[38;5;241;43m=\u001b[39;49m\u001b[43mbody\u001b[49m\u001b[43m,\u001b[49m\n\u001b[0;32m    793\u001b[0m \u001b[43m    \u001b[49m\u001b[43mheaders\u001b[49m\u001b[38;5;241;43m=\u001b[39;49m\u001b[43mheaders\u001b[49m\u001b[43m,\u001b[49m\n\u001b[0;32m    794\u001b[0m \u001b[43m    \u001b[49m\u001b[43mchunked\u001b[49m\u001b[38;5;241;43m=\u001b[39;49m\u001b[43mchunked\u001b[49m\u001b[43m,\u001b[49m\n\u001b[0;32m    795\u001b[0m \u001b[43m    \u001b[49m\u001b[43mretries\u001b[49m\u001b[38;5;241;43m=\u001b[39;49m\u001b[43mretries\u001b[49m\u001b[43m,\u001b[49m\n\u001b[0;32m    796\u001b[0m \u001b[43m    \u001b[49m\u001b[43mresponse_conn\u001b[49m\u001b[38;5;241;43m=\u001b[39;49m\u001b[43mresponse_conn\u001b[49m\u001b[43m,\u001b[49m\n\u001b[0;32m    797\u001b[0m \u001b[43m    \u001b[49m\u001b[43mpreload_content\u001b[49m\u001b[38;5;241;43m=\u001b[39;49m\u001b[43mpreload_content\u001b[49m\u001b[43m,\u001b[49m\n\u001b[0;32m    798\u001b[0m \u001b[43m    \u001b[49m\u001b[43mdecode_content\u001b[49m\u001b[38;5;241;43m=\u001b[39;49m\u001b[43mdecode_content\u001b[49m\u001b[43m,\u001b[49m\n\u001b[0;32m    799\u001b[0m \u001b[43m    \u001b[49m\u001b[38;5;241;43m*\u001b[39;49m\u001b[38;5;241;43m*\u001b[39;49m\u001b[43mresponse_kw\u001b[49m\u001b[43m,\u001b[49m\n\u001b[0;32m    800\u001b[0m \u001b[43m\u001b[49m\u001b[43m)\u001b[49m\n\u001b[0;32m    802\u001b[0m \u001b[38;5;66;03m# Everything went great!\u001b[39;00m\n\u001b[0;32m    803\u001b[0m clean_exit \u001b[38;5;241m=\u001b[39m \u001b[38;5;28;01mTrue\u001b[39;00m\n",
      "File \u001b[1;32mc:\\Users\\user\\miniconda3\\envs\\DL311\\Lib\\site-packages\\urllib3\\connectionpool.py:536\u001b[0m, in \u001b[0;36mHTTPConnectionPool._make_request\u001b[1;34m(self, conn, method, url, body, headers, retries, timeout, chunked, response_conn, preload_content, decode_content, enforce_content_length)\u001b[0m\n\u001b[0;32m    534\u001b[0m     response \u001b[38;5;241m=\u001b[39m conn\u001b[38;5;241m.\u001b[39mgetresponse()\n\u001b[0;32m    535\u001b[0m \u001b[38;5;28;01mexcept\u001b[39;00m (BaseSSLError, \u001b[38;5;167;01mOSError\u001b[39;00m) \u001b[38;5;28;01mas\u001b[39;00m e:\n\u001b[1;32m--> 536\u001b[0m     \u001b[38;5;28;43mself\u001b[39;49m\u001b[38;5;241;43m.\u001b[39;49m\u001b[43m_raise_timeout\u001b[49m\u001b[43m(\u001b[49m\u001b[43merr\u001b[49m\u001b[38;5;241;43m=\u001b[39;49m\u001b[43me\u001b[49m\u001b[43m,\u001b[49m\u001b[43m \u001b[49m\u001b[43murl\u001b[49m\u001b[38;5;241;43m=\u001b[39;49m\u001b[43murl\u001b[49m\u001b[43m,\u001b[49m\u001b[43m \u001b[49m\u001b[43mtimeout_value\u001b[49m\u001b[38;5;241;43m=\u001b[39;49m\u001b[43mread_timeout\u001b[49m\u001b[43m)\u001b[49m\n\u001b[0;32m    537\u001b[0m     \u001b[38;5;28;01mraise\u001b[39;00m\n\u001b[0;32m    539\u001b[0m \u001b[38;5;66;03m# Set properties that are used by the pooling layer.\u001b[39;00m\n",
      "File \u001b[1;32mc:\\Users\\user\\miniconda3\\envs\\DL311\\Lib\\site-packages\\urllib3\\connectionpool.py:367\u001b[0m, in \u001b[0;36mHTTPConnectionPool._raise_timeout\u001b[1;34m(self, err, url, timeout_value)\u001b[0m\n\u001b[0;32m    364\u001b[0m \u001b[38;5;250m\u001b[39m\u001b[38;5;124;03m\"\"\"Is the error actually a timeout? Will raise a ReadTimeout or pass\"\"\"\u001b[39;00m\n\u001b[0;32m    366\u001b[0m \u001b[38;5;28;01mif\u001b[39;00m \u001b[38;5;28misinstance\u001b[39m(err, SocketTimeout):\n\u001b[1;32m--> 367\u001b[0m     \u001b[38;5;28;01mraise\u001b[39;00m ReadTimeoutError(\n\u001b[0;32m    368\u001b[0m         \u001b[38;5;28mself\u001b[39m, url, \u001b[38;5;124mf\u001b[39m\u001b[38;5;124m\"\u001b[39m\u001b[38;5;124mRead timed out. (read timeout=\u001b[39m\u001b[38;5;132;01m{\u001b[39;00mtimeout_value\u001b[38;5;132;01m}\u001b[39;00m\u001b[38;5;124m)\u001b[39m\u001b[38;5;124m\"\u001b[39m\n\u001b[0;32m    369\u001b[0m     ) \u001b[38;5;28;01mfrom\u001b[39;00m\u001b[38;5;250m \u001b[39m\u001b[38;5;21;01merr\u001b[39;00m\n\u001b[0;32m    371\u001b[0m \u001b[38;5;66;03m# See the above comment about EAGAIN in Python 3.\u001b[39;00m\n\u001b[0;32m    372\u001b[0m \u001b[38;5;28;01mif\u001b[39;00m \u001b[38;5;28mhasattr\u001b[39m(err, \u001b[38;5;124m\"\u001b[39m\u001b[38;5;124merrno\u001b[39m\u001b[38;5;124m\"\u001b[39m) \u001b[38;5;129;01mand\u001b[39;00m err\u001b[38;5;241m.\u001b[39merrno \u001b[38;5;129;01min\u001b[39;00m _blocking_errnos:\n",
      "\u001b[1;31mReadTimeoutError\u001b[0m: HTTPConnectionPool(host='localhost', port=55285): Read timed out. (read timeout=120)"
     ]
    }
   ],
   "source": [
    "# Headless 모드 설정\n",
    "chrome_options = Options()\n",
    "chrome_options.add_argument(\"--headless\")\n",
    "chrome_options.add_argument(\"--disable-gpu\")\n",
    "\n",
    "# 웹 드라이버 설정\n",
    "driver = webdriver.Chrome(options=chrome_options)\n",
    "\n",
    "# CSV 파일 열기\n",
    "with open('trot_data.csv', 'w', newline='', encoding='utf-8') as file:\n",
    "    writer = csv.writer(file)\n",
    "    # 헤더 작성\n",
    "    writer.writerow([\"title\", \"artist\", \"lyrics\"])\n",
    "\n",
    "    # 총 100페이지를 반복합니다.\n",
    "    for page in tqdm(range(100), desc=\"페이지 진행 상황\", leave=True):  # leave=True로 설정\n",
    "        start_index = page * 50 + 1\n",
    "        url = f\"http://www.melon.com/genre/song_list.htm?gnrCode=GN0700#params%5BgnrCode%5D=GN0700&params%5BdtlGnrCode%5D=&params%5BorderBy%5D=NEW&po=pageObj&startIndex={start_index}\"\n",
    "        driver.get(url)\n",
    "\n",
    "        try:\n",
    "            song_elements = WebDriverWait(driver, 10).until(\n",
    "                EC.presence_of_all_elements_located((By.XPATH, \"//a[@class='btn button_icons type03 song_info']\"))\n",
    "            )\n",
    "        except TimeoutException:\n",
    "            print(\"Song elements loading timed out.\")\n",
    "            continue\n",
    "\n",
    "        for song_index in tqdm(range(len(song_elements)), desc=\"노래 진행 상황\", leave=False):  # leave=False로 설정\n",
    "            try:\n",
    "                # 노래 정보 클릭\n",
    "                song_elements[song_index].click()\n",
    "\n",
    "                # 노래 정보 추출\n",
    "                title = WebDriverWait(driver, 10).until(\n",
    "                    EC.presence_of_element_located((By.XPATH, \"//div[@class='song_name']\"))\n",
    "                ).text\n",
    "                singer = driver.find_element(By.XPATH, \"//a[@class='artist_name']\").text\n",
    "                #likes = driver.find_element(By.XPATH, \"//span[@id='d_like_count']\").text\n",
    "\n",
    "                # \"펼치기\" 버튼 클릭 시도\n",
    "                try:\n",
    "                    expand_button = WebDriverWait(driver, 10).until(\n",
    "                        EC.element_to_be_clickable((By.XPATH, \"//button[@class='button_more arrow_d' and @data-expose-target='#d_video_summary']\"))\n",
    "                    )\n",
    "                    expand_button.click()\n",
    "                    \n",
    "                    # 가사 영역이 확장되었는지 확인\n",
    "                    WebDriverWait(driver, 10).until(\n",
    "                        EC.presence_of_element_located((By.XPATH, \"//div[@id='d_video_summary'][contains(@style, 'height: auto')]\"))\n",
    "                    )\n",
    "                except TimeoutException:\n",
    "                    print(\"Expand button not found or not clickable.\")\n",
    "                    pass\n",
    "\n",
    "                # 가사 텍스트 추출\n",
    "                try:\n",
    "                    lyrics_element = WebDriverWait(driver, 10).until(\n",
    "                        EC.presence_of_element_located((By.XPATH, \"//div[@id='d_video_summary']\"))\n",
    "                    )\n",
    "                    lyrics = lyrics_element.text\n",
    "                except TimeoutException:\n",
    "                    print(\"Lyrics element not found.\")\n",
    "                    lyrics = \"Lyrics not available\"\n",
    "\n",
    "                #date = driver.find_element(By.XPATH, \"//dt[text()='발매일']/following-sibling::dd\").text\n",
    "\n",
    "                # 데이터 저장\n",
    "                writer.writerow([title, singer, lyrics])\n",
    "\n",
    "                print(f\"Title: {title}, Artist: {singer}\")\n",
    "\n",
    "                driver.back()\n",
    "                time.sleep(2)  # 페이지 로딩을 위해 잠시 대기\n",
    "            except (NoSuchElementException, TimeoutException, StaleElementReferenceException) as e:\n",
    "                print(f\"Error: {e}\")\n",
    "                driver.back()\n",
    "                time.sleep(2)  # 페이지 로딩을 위해 잠시 대기\n",
    "\n",
    "# 드라이버 종료\n",
    "driver.quit()"
   ]
  },
  {
   "cell_type": "code",
   "execution_count": 9,
   "metadata": {},
   "outputs": [],
   "source": [
    "import pandas as pd\n",
    "import re\n",
    "\n",
    "# 1. CSV 읽어오기\n",
    "df = pd.read_csv('trot_data.csv')  # 파일 경로에 맞게 수정\n",
    "\n",
    "# 2. 정제 함수 정의\n",
    "def clean_text(text):\n",
    "    # (1) 불필요한 특수문자 제거: 한글, 영문, 숫자, 공백을 제외한 모든 문자 제거\n",
    "    text = re.sub(r'[^가-힣a-zA-Z0-9\\s]', ' ', str(text))\n",
    "    \n",
    "    # (2) 여러 공백을 하나로 치환\n",
    "    text = re.sub(r'\\s+', ' ', text)\n",
    "    \n",
    "    # (3) 앞뒤 공백 제거\n",
    "    text = text.strip()\n",
    "    \n",
    "    # (4) 필요 시 소문자 변환 (주로 영문 텍스트에만 해당)\n",
    "    text = text.lower()\n",
    "    \n",
    "    return text\n",
    "\n",
    "# 3. 'lyrics' 컬럼에 정제 함수를 적용하여 새로운 컬럼에 저장\n",
    "df['cleaned_lyrics'] = df['lyrics'].apply(clean_text)\n",
    "\n",
    "# 4. 정제된 텍스트를 확인\n",
    "#df[['lyrics', 'cleaned_lyrics']].head()\n",
    "\n",
    "df.to_csv(\"new_trot.csv\",index=False)\n",
    "\n",
    "df1 = df[['title', 'artist', 'cleaned_lyrics']]\n",
    "df1.to_csv(\"new_trot_clean.csv\",index=False)\n"
   ]
  },
  {
   "cell_type": "code",
   "execution_count": 10,
   "metadata": {},
   "outputs": [
    {
     "data": {
      "text/html": [
       "<div>\n",
       "<style scoped>\n",
       "    .dataframe tbody tr th:only-of-type {\n",
       "        vertical-align: middle;\n",
       "    }\n",
       "\n",
       "    .dataframe tbody tr th {\n",
       "        vertical-align: top;\n",
       "    }\n",
       "\n",
       "    .dataframe thead th {\n",
       "        text-align: right;\n",
       "    }\n",
       "</style>\n",
       "<table border=\"1\" class=\"dataframe\">\n",
       "  <thead>\n",
       "    <tr style=\"text-align: right;\">\n",
       "      <th></th>\n",
       "      <th>title</th>\n",
       "      <th>artist</th>\n",
       "      <th>cleaned_lyrics</th>\n",
       "    </tr>\n",
       "  </thead>\n",
       "  <tbody>\n",
       "    <tr>\n",
       "      <th>0</th>\n",
       "      <td>진정인가요</td>\n",
       "      <td>정서주</td>\n",
       "      <td>미련없다 그 말이 진정인가요 냉정했던 그 마음이 진정인가요 바닷가를 거닐며 수놓았던...</td>\n",
       "    </tr>\n",
       "    <tr>\n",
       "      <th>1</th>\n",
       "      <td>멘토링 (Feat. 곽범)</td>\n",
       "      <td>이지요</td>\n",
       "      <td>그댄 나의 멘토야 나는 당신의 에너지 즐거운 하루되세요 행복한 기분 너무 좋아요 그...</td>\n",
       "    </tr>\n",
       "    <tr>\n",
       "      <th>2</th>\n",
       "      <td>사랑의삼매경</td>\n",
       "      <td>누나둘 (Nunadool)</td>\n",
       "      <td>삼매경에 빠져요 사랑에빠져요 삼매경에 빠져요 사랑의삼매경에 빠져요 흠뻑 빠져버린 내...</td>\n",
       "    </tr>\n",
       "    <tr>\n",
       "      <th>3</th>\n",
       "      <td>거문고야 (Cover Ver.)</td>\n",
       "      <td>나두리</td>\n",
       "      <td>lyrics not available</td>\n",
       "    </tr>\n",
       "    <tr>\n",
       "      <th>4</th>\n",
       "      <td>유리꽃 (Cover Ver.)</td>\n",
       "      <td>김준영</td>\n",
       "      <td>유리꽃처럼 입술만 훔치고 가버린 그날 그 카페에 지울 수 없는 너의 향기가 연기처럼...</td>\n",
       "    </tr>\n",
       "    <tr>\n",
       "      <th>...</th>\n",
       "      <td>...</td>\n",
       "      <td>...</td>\n",
       "      <td>...</td>\n",
       "    </tr>\n",
       "    <tr>\n",
       "      <th>433</th>\n",
       "      <td>인생2막 (Cover Ver.)</td>\n",
       "      <td>손창식</td>\n",
       "      <td>lyrics not available</td>\n",
       "    </tr>\n",
       "    <tr>\n",
       "      <th>434</th>\n",
       "      <td>봄날의 춘향이</td>\n",
       "      <td>김 소피아</td>\n",
       "      <td>따스한 봄바람 불어오네 춘향이는 꽃길을 걸어 그녀의 웃음 봄햇살 같아 모두의 시선 ...</td>\n",
       "    </tr>\n",
       "    <tr>\n",
       "      <th>435</th>\n",
       "      <td>괜찮아</td>\n",
       "      <td>김민주</td>\n",
       "      <td>바람도 잠이 들고 달빛마저 숨어 버린 밤 무엇을 찾으려고 나 여기 어둠에 서있나 귓...</td>\n",
       "    </tr>\n",
       "    <tr>\n",
       "      <th>436</th>\n",
       "      <td>자네</td>\n",
       "      <td>조재권</td>\n",
       "      <td>정신없이 달려왔는데 앞만보고 뛰어왔는데 하나둘씩 떠나고 나홀로 덩그러니 남아 있구나...</td>\n",
       "    </tr>\n",
       "    <tr>\n",
       "      <th>437</th>\n",
       "      <td>소중한사람</td>\n",
       "      <td>최야나</td>\n",
       "      <td>언제나 함께하면 행복한 사람 내게 가장 소중한 사람 내게 가장 미더운 사람 나에게 ...</td>\n",
       "    </tr>\n",
       "  </tbody>\n",
       "</table>\n",
       "<p>438 rows × 3 columns</p>\n",
       "</div>"
      ],
      "text/plain": [
       "                 title          artist  \\\n",
       "0                진정인가요             정서주   \n",
       "1       멘토링 (Feat. 곽범)             이지요   \n",
       "2               사랑의삼매경  누나둘 (Nunadool)   \n",
       "3    거문고야 (Cover Ver.)             나두리   \n",
       "4     유리꽃 (Cover Ver.)             김준영   \n",
       "..                 ...             ...   \n",
       "433  인생2막 (Cover Ver.)             손창식   \n",
       "434            봄날의 춘향이           김 소피아   \n",
       "435                괜찮아             김민주   \n",
       "436                 자네             조재권   \n",
       "437              소중한사람             최야나   \n",
       "\n",
       "                                        cleaned_lyrics  \n",
       "0    미련없다 그 말이 진정인가요 냉정했던 그 마음이 진정인가요 바닷가를 거닐며 수놓았던...  \n",
       "1    그댄 나의 멘토야 나는 당신의 에너지 즐거운 하루되세요 행복한 기분 너무 좋아요 그...  \n",
       "2    삼매경에 빠져요 사랑에빠져요 삼매경에 빠져요 사랑의삼매경에 빠져요 흠뻑 빠져버린 내...  \n",
       "3                                 lyrics not available  \n",
       "4    유리꽃처럼 입술만 훔치고 가버린 그날 그 카페에 지울 수 없는 너의 향기가 연기처럼...  \n",
       "..                                                 ...  \n",
       "433                               lyrics not available  \n",
       "434  따스한 봄바람 불어오네 춘향이는 꽃길을 걸어 그녀의 웃음 봄햇살 같아 모두의 시선 ...  \n",
       "435  바람도 잠이 들고 달빛마저 숨어 버린 밤 무엇을 찾으려고 나 여기 어둠에 서있나 귓...  \n",
       "436  정신없이 달려왔는데 앞만보고 뛰어왔는데 하나둘씩 떠나고 나홀로 덩그러니 남아 있구나...  \n",
       "437  언제나 함께하면 행복한 사람 내게 가장 소중한 사람 내게 가장 미더운 사람 나에게 ...  \n",
       "\n",
       "[438 rows x 3 columns]"
      ]
     },
     "execution_count": 10,
     "metadata": {},
     "output_type": "execute_result"
    }
   ],
   "source": [
    "data = pd.read_csv(\"new_trot_clean.csv\")\n",
    "data"
   ]
  },
  {
   "cell_type": "code",
   "execution_count": 16,
   "metadata": {},
   "outputs": [],
   "source": [
    "# \"lyrics not available\"이 들어 있는 행만 찾아 제거\n",
    "# 대소문자 구분을 피하려면 case=False 를 사용\n",
    "data = data[~data['cleaned_lyrics'].str.contains(\"lyrics not available\", case=False)]\n",
    "data.to_csv(\"new_trot_clean.csv\",index=False)"
   ]
  }
 ],
 "metadata": {
  "kernelspec": {
   "display_name": "DL311",
   "language": "python",
   "name": "python3"
  },
  "language_info": {
   "codemirror_mode": {
    "name": "ipython",
    "version": 3
   },
   "file_extension": ".py",
   "mimetype": "text/x-python",
   "name": "python",
   "nbconvert_exporter": "python",
   "pygments_lexer": "ipython3",
   "version": "3.11.11"
  }
 },
 "nbformat": 4,
 "nbformat_minor": 2
}
