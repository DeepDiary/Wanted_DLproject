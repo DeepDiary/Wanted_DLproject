{
 "cells": [
  {
   "cell_type": "markdown",
   "metadata": {},
   "source": [
    "## 사용자의 답변과 감정 분석 결과를 \n",
    "## Gemini 모델에 전달하여 상황에 맞는 추가 질문을 생성"
   ]
  },
  {
   "cell_type": "code",
   "execution_count": 1,
   "metadata": {},
   "outputs": [],
   "source": [
    "import sys\n",
    "import os\n",
    "\n",
    "sys.path.append(os.path.abspath(\"..\"))  # 현재 디렉터리의 상위 경로 추가\n",
    "#print(sys.path)"
   ]
  },
  {
   "cell_type": "code",
   "execution_count": 2,
   "metadata": {},
   "outputs": [
    {
     "name": "stderr",
     "output_type": "stream",
     "text": [
      "c:\\Users\\user\\miniconda3\\envs\\DL311\\Lib\\site-packages\\tqdm\\auto.py:21: TqdmWarning: IProgress not found. Please update jupyter and ipywidgets. See https://ipywidgets.readthedocs.io/en/stable/user_install.html\n",
      "  from .autonotebook import tqdm as notebook_tqdm\n"
     ]
    }
   ],
   "source": [
    "from config.api_keys import gemini_key\n",
    "import google.generativeai as genai"
   ]
  },
  {
   "cell_type": "code",
   "execution_count": null,
   "metadata": {},
   "outputs": [],
   "source": [
    "# Gemini API 설정\n",
    "genai.configure(api_key=gemini_key)\n",
    "\n",
    "# Gemini 모델 선택\n",
    "model = genai.GenerativeModel('gemini-2.0-flash')\n",
    "\n",
    "def generate_question(user_response, emotion, conversation):\n",
    "    prompt = f\"\"\"\n",
    "    사용자의 답변: \"{user_response}\"\n",
    "    사용자의 감정: \"{emotion}\"\n",
    "    이전 대화 내용: \"{conversation}\"\n",
    "\n",
    "    위 정보를 바탕으로, 친근하고 공감하는 어조로 사용자의 상황과 감정을 고려하여 구체적이고,\n",
    "    이전 대화 내용의 핵심 포인트를 반영하여 답변하기 쉬운 질문을 생성하세요.\n",
    "    \"\"\"\n",
    "    response = model.generate_content(prompt)\n",
    "    return response.text"
   ]
  },
  {
   "cell_type": "code",
   "execution_count": 8,
   "metadata": {},
   "outputs": [
    {
     "name": "stdout",
     "output_type": "stream",
     "text": [
      "오늘 하루가 많이 힘드셨군요. 😔 무슨 일 때문에 그렇게 힘드셨는지 여쭤봐도 될까요? 혹시 이야기하기 힘드시면, 그냥 털어놓고 싶은 마음만이라도 편하게 말씀해주세요. 제가 옆에서 묵묵히 들어드릴게요.\n",
      "\n"
     ]
    }
   ],
   "source": [
    "user_response = \"오늘 너무 힘들었어요.\"\n",
    "emotion = \"슬픔\"\n",
    "conversation = \"사용자: 오늘 기분이 어떠세요? \\nLLM: 오늘 너무 힘들었어요.\"\n",
    "\n",
    "follow_up_question = generate_question(user_response, emotion, conversation)\n",
    "print(follow_up_question)"
   ]
  },
  {
   "cell_type": "code",
   "execution_count": 7,
   "metadata": {},
   "outputs": [
    {
     "name": "stdout",
     "output_type": "stream",
     "text": [
      "와, 승진이라니 정말 축하드려요! 오늘 정말 기쁘시겠네요! 🥳 어떤 분야에서 승진하신 거예요? 혹시 예상하고 계셨던 결과였는지, 아니면 깜짝 놀라셨는지 궁금해요! 😊\n",
      "\n"
     ]
    }
   ],
   "source": [
    "user_response= \"오늘 승진 소식을 들었어요.\"\n",
    "emotion= \"기쁨\"\n",
    "conversation= \"사용자: 오늘 어떤 일이 있으셨어요? LLM: 오늘 승진 소식을 들었어요.\"\n",
    "\n",
    "follow_up_question1 = generate_question(user_response, emotion, conversation)\n",
    "print(follow_up_question1)"
   ]
  },
  {
   "cell_type": "code",
   "execution_count": 9,
   "metadata": {},
   "outputs": [
    {
     "name": "stdout",
     "output_type": "stream",
     "text": [
      "아이고, 친구분과 크게 다투셨다니 얼마나 속상하실까요. 게다가 분노까지 느끼신다니 마음이 많이 힘드실 것 같아요. 오늘 있었던 일 때문에 많이 힘드실 텐데, 혹시 어떤 일 때문에 그렇게 크게 다투게 되셨는지 조금만 더 이야기해 주실 수 있으세요? 괜찮으시다면 제가 옆에서 들어드리면서 조금이라도 위로가 되어 드리고 싶어요.\n",
      "\n"
     ]
    }
   ],
   "source": [
    "user_response= \"친구와 큰 다툼이 있었어요.\"\n",
    "emotion= \"분노\"\n",
    "conversation = \"사용자: 오늘 무슨 일이 있었나요? LLM: 친구와 큰 다툼이 있었어요.\"\n",
    "\n",
    "follow_up_question2 = generate_question(user_response, emotion, conversation)\n",
    "print(follow_up_question2)"
   ]
  },
  {
   "cell_type": "code",
   "execution_count": 10,
   "metadata": {},
   "outputs": [
    {
     "name": "stdout",
     "output_type": "stream",
     "text": [
      "아이고, 건강이 많이 걱정되신다니 마음이 쓰이네요. 요즘 특히 어디가 불편하신가요? 혹시 최근에 병원에 가보셨거나, 특별히 신경 쓰이는 부분이 있으신지 여쭤봐도 될까요?\n",
      "\n"
     ]
    }
   ],
   "source": [
    "user_response= \"최근 건강이 많이 걱정돼요.\"\n",
    "emotion= \"걱정\"\n",
    "conversation =\"사용자: 요즘 건강은 어떠세요? LLM: 최근 건강이 많이 걱정돼요.\"\n",
    "\n",
    "follow_up_question3 = generate_question(user_response, emotion, conversation)\n",
    "print(follow_up_question3)"
   ]
  },
  {
   "cell_type": "code",
   "execution_count": 11,
   "metadata": {},
   "outputs": [
    {
     "name": "stdout",
     "output_type": "stream",
     "text": [
      "와, 연애 중이시라니 정말 축하드려요! 😊 저번에 말씀해주신 것처럼 지금도 많이 좋으신가 봐요! 혹시 최근에 서로에게 특별히 더 설레거나 기분 좋았던 일이 있었나요? 아니면 서로에게 어떤 점이 가장 큰 행복을 주는지 궁금하네요! \n",
      "\n"
     ]
    }
   ],
   "source": [
    "user_response= \"연애 중인데, 정말 기분이 좋네요.\"\n",
    "emotion= \"환희\"\n",
    "conversation = \"사용자: 최근 연애는 어떠세요? LLM: 연애 중인데, 많이 좋네요.\"\n",
    "\n",
    "follow_up_question4 = generate_question(user_response, emotion, conversation)\n",
    "print(follow_up_question4)"
   ]
  },
  {
   "cell_type": "markdown",
   "metadata": {},
   "source": [
    "### 이전 대화 기록하도록 코드 수정"
   ]
  },
  {
   "cell_type": "code",
   "execution_count": 3,
   "metadata": {},
   "outputs": [],
   "source": [
    "# Gemini API 설정\n",
    "genai.configure(api_key=gemini_key)\n",
    "\n",
    "# Gemini 모델 선택\n",
    "model = genai.GenerativeModel('gemini-2.0-flash')\n",
    "\n",
    "chat_history = []  # 이전 대화 내용을 저장할 리스트\n",
    "\n",
    "def ask_gemini(user_response, emotion, max_history_length=5):\n",
    "    \"\"\"대화 기록을 유지하며 Gemini 모델과 대화하는 함수\n",
    "    사용자 응답과 감정을 포함하여 전체 프롬프트를 구성하고,\n",
    "    모델의 응답을 대화 기록에 추가\n",
    "    \"\"\"\n",
    "    global chat_history\n",
    "\n",
    "    # 이전 대화 내용과 새 입력(사용자 응답 및 감정)을 결합하여 전체 프롬프트 생성\n",
    "    full_prompt = \"\\n\".join(chat_history) +f\"\\nUser (감정: {emotion}): {user_response}\\n\\n\" + \\\n",
    "                  \"정보를 바탕으로, 친근하고 공감하는 어조로 사용자의 상황과 감정을 고려하여 구체적이고, \" + \\\n",
    "                  \"이전 대화 내용의 핵심 포인트를 반영하여 답변하기 쉬운 질문을 생성하세요.\"\n",
    "\n",
    "    # Gemini 모델 호출하여 응답 생성\n",
    "    response = model.generate_content(full_prompt)\n",
    "\n",
    "    # 새로운 입력과 모델의 응답을 대화 기록에 추가\n",
    "    chat_history.append(f\"User (감정: {emotion}): {user_response}\")\n",
    "    chat_history.append(f\"Gemini: {response.text}\")\n",
    "\n",
    "    # 대화 기록 길이 제한: 최대 max_history_length 쌍(질문/응답) 이상이면 오래된 대화 삭제\n",
    "    if len(chat_history) > max_history_length * 2:\n",
    "        chat_history = chat_history[-(max_history_length * 2):]\n",
    "\n",
    "    return response.text"
   ]
  },
  {
   "cell_type": "code",
   "execution_count": 16,
   "metadata": {},
   "outputs": [
    {
     "name": "stdout",
     "output_type": "stream",
     "text": [
      "오, 오늘 하루 일기를 쓰시는군요! 어떤 하루였을지 너무 궁금해져요. 😉 오늘 하루를 돌아보면서 가장 먼저 떠오르는 감정이나 장면이 있으신가요? 아니면, 오늘 하루를 특별하게 만들었던 예상치 못한 일이 있었을까요? 일기 쓰실 때 편하게 떠오르는 대로 말씀해주시면, 더 구체적인 질문으로 이야기를 풀어갈 수 있도록 도와드릴게요!\n",
      "\n",
      "와! 맛있는 점심을 드셨다니 정말 기분 좋으시겠어요! 😊 어떤 음식을 드셨는지 여쭤봐도 될까요? 정말 맛있었나 봐요! 혹시 그 음식을 먹으면서 어떤 점이 가장 행복하게 느껴졌는지, 아니면 누구와 함께 드셨는지도 궁금해요! 맛있는 음식 덕분에 오늘 하루가 더 특별해진 것 같네요! ☀️\n",
      "\n",
      "음, 약속을 못 지키셔서 마음이 좀 불편하시겠어요. 😔 맛있는 점심을 드셨던 행복한 기분과는 조금 다른 감정이 드셨을 텐데, 혹시 그 약속이 얼마나 중요한 약속이었나요? 그리고 누구와의 약속이었는지, 어떤 이유로 못 지키게 되셨는지 여쭤봐도 괜찮을까요? 죄책감 때문에 힘드실 텐데, 혹시 상대방에게 솔직하게 이야기하고 사과하셨는지, 아니면 어떻게 해결하려고 노력하고 계신지도 궁금하네요. 너무 자책하지 마시고, 괜찮으시다면 조금 더 자세히 이야기해주시면 마음이 좀 편해지실 수도 있을 거예요.\n",
      "\n",
      "와, 저녁에는 친구분과 즐거운 시간을 보내셨다니 정말 다행이에요! 😊 오늘 하루, 맛있는 점심과 즐거운 저녁 대화 덕분에 행복한 기억이 가득하셨겠네요! 👍 혹시 친구분과는 어떤 이야기를 나누셨나요? 즐거운 대화 덕분에 약속을 못 지킨 죄책감이 조금은 덜어졌을까요? 아니면, 친구분과의 대화에서 어떤 점이 특히 즐겁고 기억에 남았는지 궁금해요! 맛있는 점심, 죄책감, 그리고 즐거운 저녁 대화까지, 오늘 하루 감정의 롤러코스터를 타신 것 같은데, 마지막 대화가 행복하게 마무리되어서 정말 다행입니다! 🌈\n",
      "\n",
      "네, 오늘 하루 일기 마무리하시는군요! 맛있는 점심, 약속 불이행으로 인한 죄책감, 그리고 즐거운 저녁 대화까지, 다채로운 감정들이 오갔던 하루였네요. 마지막에 피곤함을 느끼시는 걸 보니, 감정 소모도 많았던 하루였던 것 같아요. 😔\n",
      "\n",
      "혹시 오늘 하루를 돌이켜봤을 때, **피곤함의 원인이 특히 어떤 부분에 있었던 것 같으신가요?** 예를 들어, 약속을 못 지킨 것에 대한 죄책감 때문에 계속 마음이 쓰였다거나, 즐거운 저녁 대화를 나누면서 에너지를 많이 쏟았다거나 하는 이유가 있을까요?\n",
      "\n",
      "아니면, 하루 종일 여러 감정을 오가면서 **심리적으로 지친 게 몸으로 나타나는 것 같으신가요?**\n",
      "\n",
      "오늘 일기를 마무리하면서, **내일은 조금 더 편안하고 긍정적인 하루를 보내기 위해 어떤 노력을 해보면 좋을지** 생각해 보는 것도 좋을 것 같아요. 예를 들어, 내일은 약속을 잡지 않고 온전히 휴식을 취한다거나, 죄책감을 덜기 위해 오늘 약속을 못 지킨 분께 다시 한번 연락을 드려보는 건 어떠실까요?\n",
      "\n",
      "편안하게 오늘 하루를 마무리하시고, 내일은 좀 더 활기찬 하루를 보내시길 바랄게요! 😴🌙\n",
      "\n",
      "\n",
      "전체 대화 기록:\n",
      "User (감정: 기대): 오늘 하루에 대한 일기를 쓰려고 해. \n",
      "----------------------\n",
      "Gemini: 오, 오늘 하루 일기를 쓰시는군요! 어떤 하루였을지 너무 궁금해져요. 😉 오늘 하루를 돌아보면서 가장 먼저 떠오르는 감정이나 장면이 있으신가요? 아니면, 오늘 하루를 특별하게 만들었던 예상치 못한 일이 있었을까요? 일기 쓰실 때 편하게 떠오르는 대로 말씀해주시면, 더 구체적인 질문으로 이야기를 풀어갈 수 있도록 도와드릴게요!\n",
      " \n",
      "----------------------\n",
      "User (감정: 행복): 점심에 맛있는 음식을 먹었어. \n",
      "----------------------\n",
      "Gemini: 와! 맛있는 점심을 드셨다니 정말 기분 좋으시겠어요! 😊 어떤 음식을 드셨는지 여쭤봐도 될까요? 정말 맛있었나 봐요! 혹시 그 음식을 먹으면서 어떤 점이 가장 행복하게 느껴졌는지, 아니면 누구와 함께 드셨는지도 궁금해요! 맛있는 음식 덕분에 오늘 하루가 더 특별해진 것 같네요! ☀️\n",
      " \n",
      "----------------------\n",
      "User (감정: 죄책감): 오후에 약속을 못 지켜서 미안해. \n",
      "----------------------\n",
      "Gemini: 음, 약속을 못 지키셔서 마음이 좀 불편하시겠어요. 😔 맛있는 점심을 드셨던 행복한 기분과는 조금 다른 감정이 드셨을 텐데, 혹시 그 약속이 얼마나 중요한 약속이었나요? 그리고 누구와의 약속이었는지, 어떤 이유로 못 지키게 되셨는지 여쭤봐도 괜찮을까요? 죄책감 때문에 힘드실 텐데, 혹시 상대방에게 솔직하게 이야기하고 사과하셨는지, 아니면 어떻게 해결하려고 노력하고 계신지도 궁금하네요. 너무 자책하지 마시고, 괜찮으시다면 조금 더 자세히 이야기해주시면 마음이 좀 편해지실 수도 있을 거예요.\n",
      " \n",
      "----------------------\n",
      "User (감정: 행복): 저녁에 친구와의 대화가 너무 즐거웠어. \n",
      "----------------------\n",
      "Gemini: 와, 저녁에는 친구분과 즐거운 시간을 보내셨다니 정말 다행이에요! 😊 오늘 하루, 맛있는 점심과 즐거운 저녁 대화 덕분에 행복한 기억이 가득하셨겠네요! 👍 혹시 친구분과는 어떤 이야기를 나누셨나요? 즐거운 대화 덕분에 약속을 못 지킨 죄책감이 조금은 덜어졌을까요? 아니면, 친구분과의 대화에서 어떤 점이 특히 즐겁고 기억에 남았는지 궁금해요! 맛있는 점심, 죄책감, 그리고 즐거운 저녁 대화까지, 오늘 하루 감정의 롤러코스터를 타신 것 같은데, 마지막 대화가 행복하게 마무리되어서 정말 다행입니다! 🌈\n",
      " \n",
      "----------------------\n",
      "User (감정: 피곤): 밤에 너무 피곤해, 오늘 하루가 힘들었어. \n",
      "----------------------\n",
      "Gemini: 네, 오늘 하루 일기 마무리하시는군요! 맛있는 점심, 약속 불이행으로 인한 죄책감, 그리고 즐거운 저녁 대화까지, 다채로운 감정들이 오갔던 하루였네요. 마지막에 피곤함을 느끼시는 걸 보니, 감정 소모도 많았던 하루였던 것 같아요. 😔\n",
      "\n",
      "혹시 오늘 하루를 돌이켜봤을 때, **피곤함의 원인이 특히 어떤 부분에 있었던 것 같으신가요?** 예를 들어, 약속을 못 지킨 것에 대한 죄책감 때문에 계속 마음이 쓰였다거나, 즐거운 저녁 대화를 나누면서 에너지를 많이 쏟았다거나 하는 이유가 있을까요?\n",
      "\n",
      "아니면, 하루 종일 여러 감정을 오가면서 **심리적으로 지친 게 몸으로 나타나는 것 같으신가요?**\n",
      "\n",
      "오늘 일기를 마무리하면서, **내일은 조금 더 편안하고 긍정적인 하루를 보내기 위해 어떤 노력을 해보면 좋을지** 생각해 보는 것도 좋을 것 같아요. 예를 들어, 내일은 약속을 잡지 않고 온전히 휴식을 취한다거나, 죄책감을 덜기 위해 오늘 약속을 못 지킨 분께 다시 한번 연락을 드려보는 건 어떠실까요?\n",
      "\n",
      "편안하게 오늘 하루를 마무리하시고, 내일은 좀 더 활기찬 하루를 보내시길 바랄게요! 😴🌙\n",
      " \n",
      "----------------------\n"
     ]
    }
   ],
   "source": [
    "print(ask_gemini(\"오늘 하루에 대한 일기를 쓰려고 해.\", \"기대\"))\n",
    "print(ask_gemini(\"점심에 맛있는 음식을 먹었어.\", \"행복\"))\n",
    "print(ask_gemini(\"오후에 약속을 못 지켜서 미안해.\", \"죄책감\"))\n",
    "print(ask_gemini(\"저녁에 친구와의 대화가 너무 즐거웠어.\", \"행복\"))\n",
    "print(ask_gemini(\"밤에 너무 피곤해, 오늘 하루가 힘들었어.\", \"피곤\"))\n",
    "\n",
    "print(\"\\n전체 대화 기록:\")\n",
    "for chat in chat_history:\n",
    "    print(chat, '\\n----------------------')"
   ]
  },
  {
   "cell_type": "code",
   "execution_count": null,
   "metadata": {},
   "outputs": [
    {
     "name": "stdout",
     "output_type": "stream",
     "text": [
      "대화를 시작합니다. 종료하려면 'exit'를 입력하세요.\n",
      "Gemini: 오, 일기를 쓰려고 하시는군요! 기대감에 부푼 목소리가 여기까지 들리는 것 같아요. 오늘 하루가 얼마나 특별했는지, 어떤 기대되는 일들이 있었는지 자세히 적어보고 싶으신가 봐요.\n",
      "\n",
      "일기를 쓰기 전에, 혹시 오늘 하루를 시작하면서 특별히 기대했던 일이나 마음 속에 품고 있었던 목표가 있었나요? 아니면, 지금 떠오르는 가장 강렬한 감정이나 인상적인 장면이 있다면 살짝 알려주세요. 어떤 내용부터 시작하면 좋을지 함께 고민해봐요! 😊\n",
      "\n",
      "Gemini: Gemini: 프로젝트 때문에 걱정이 많으시군요. 😞 기대감에 부풀어 일기를 쓰려던 마음도 잠시 잊게 할 만큼 신경 쓰이는 일이 있나 봐요. 프로젝트 진행 상황이 생각보다 더디거나, 예상치 못한 문제에 부딪힌 건 아닌지 걱정되네요.\n",
      "\n",
      "일단, 어떤 점이 가장 걱정되는지 조금 더 자세히 말씀해주실 수 있을까요? 예를 들어,\n",
      "\n",
      "*   **기한에 맞춰 끝낼 수 있을지:** 혹시 마감일이 얼마 남지 않았는데 진척도가 부족해서 초조하신가요?\n",
      "*   **결과물의 완성도:** 생각했던 퀄리티가 나오지 않아서 고민이신가요?\n",
      "*   **팀원과의 협업:** 팀원들과의 의견 차이나 소통 문제로 어려움을 겪고 계신가요?\n",
      "*   **예상치 못한 문제 발생:** 갑작스럽게 생긴 기술적인 문제나 자원 부족 때문에 힘드신가요?\n",
      "\n",
      "어떤 부분이든 괜찮으니, 지금 가장 마음을 무겁게 하는 부분을 말씀해주시면, 제가 조금이나마 도움이 될 수 있을 거예요. 😊\n",
      "\n",
      "Gemini: Gemini: 점심 맛있게 드셨다니 정말 다행이에요! 덕분에 저까지 기분이 좋아지네요. 😊 프로젝트 걱정 때문에 입맛이 없을까 봐 살짝 걱정했는데, 맛있는 점심으로 기분 전환이 되셨다니 정말 다행이에요.\n",
      "\n",
      "혹시 어떤 음식을 드셨나요? 맛있는 음식을 먹으면서 프로젝트에 대한 새로운 아이디어가 떠오르거나, 아니면 잠시라도 걱정을 잊을 수 있었는지 궁금하네요. 맛있는 음식 사진이 있다면 공유해주셔도 좋아요! 😋\n",
      "\n",
      "Gemini: Gemini: 약속을 못 지키셔서 마음이 많이 불편하시겠어요. 😔 맛있는 점심으로 조금 기분 전환이 되셨을 텐데, 다시 죄책감이 밀려오시는 것 같아 안타깝네요.\n",
      "\n",
      "상대방에게 어떤 약속을 못 지키신 건가요? 혹시 프로젝트와 관련된 약속이었나요? (이전 대화에서 프로젝트 진행에 대한 걱정이 있었으니까요.)\n",
      "\n",
      "*   **약속을 못 지킨 이유가 무엇이었나요?** 예상치 못한 상황 때문이었는지, 아니면 프로젝트 때문에 너무 바빴던 건지 궁금해요.\n",
      "*   **상대방에게는 상황을 설명하고 양해를 구했나요?** 혹시 아직 말씀을 못 드렸다면, 지금이라도 솔직하게 말씀드리는 게 마음을 편하게 하는 데 도움이 될 수 있을 거예요.\n",
      "*   **어떻게 하면 죄송한 마음을 표현하고, 관계를 회복할 수 있을지 고민하고 계신가요?**\n",
      "\n",
      "어떤 부분에서 죄책감을 느끼시는지 조금 더 자세히 말씀해주시면, 제가 조금이나마 위로를 드리고, 앞으로 어떻게 하면 좋을지 함께 고민해볼 수 있을 것 같아요. 😊 맛있는 점심 드신 힘으로, 너무 자책하지 마시고 천천히 이야기해주세요.\n",
      "\n",
      "Gemini: Gemini: 프로젝트 진행이 더뎌서 약속까지 못 지키게 되셨다니, 정말 마음이 무거우시겠어요. 😔 맛있는 점심도 죄책감에 제대로 즐기지 못하셨을 것 같아 더 안쓰럽네요.\n",
      "\n",
      "늦어진 프로젝트 때문에 느끼는 미안함이 얼마나 크실지 감히 짐작하기는 어렵지만, 지금 느끼시는 감정이 당연하다는 말씀을 드리고 싶어요. 중요한 건, 지금부터 어떻게 상황을 해결해나가느냐겠죠.\n",
      "\n",
      "그래서, 죄책감과 미안함에 짓눌리지 않도록, 몇 가지 여쭤보고 싶은 게 있어요. 편하게 이야기해주세요.\n",
      "\n",
      "*   **약속을 못 지킨 분께는 프로젝트 진행 상황이 늦어져서 그랬다고 솔직하게 말씀드렸나요?** 혹시 아직 이야기를 못 나눴다면, 지금이라도 상황을 설명하고 양해를 구하는 것이 서로에게 좋을 것 같아요.\n",
      "*   **프로젝트 진행이 더딘 이유가 구체적으로 무엇인가요?** 예를 들어, 예상보다 복잡한 기술적인 문제에 직면했거나, 필요한 자료를 구하는 데 어려움을 겪고 있다거나, 아니면 팀원 간의 협업 과정에서 예상치 못한 어려움이 생겼다거나... 어떤 부분에서 가장 어려움을 느끼고 계신지 알려주세요.\n",
      "*   **혹시 제가 프로젝트 진행을 돕거나, 죄송한 마음을 표현하는 데 도움이 될 만한 아이디어가 떠오르도록 질문을 드려도 괜찮을까요?** 예를 들어, 프로젝트 진행 상황을 점검하고 우선순위를 재설정하는 데 도움이 될 만한 질문이나, 상대방에게 진심을 담아 사과하고 관계를 회복하는 데 도움이 될 만한 표현 등을 생각해볼 수 있을 것 같아요.\n",
      "\n",
      "너무 자책하지 마시고, 함께 해결책을 찾아봐요! 😊\n",
      "\n",
      "Gemini: Gemini: 친구와의 대화가 좋았다니 정말 기쁘네요! 😊 프로젝트 때문에 마음이 무거웠을 텐데, 친구분과의 대화가 큰 힘이 되었나 봐요. 죄책감도 조금은 덜어내셨기를 바라요.\n",
      "\n",
      "어떤 이야기를 나누셨길래 그렇게 기분이 좋아지셨을까요?\n",
      "\n",
      "*   **혹시 프로젝트에 대한 고민을 털어놓으셨나요?** 친구분이 어떤 조언을 해주셨는지, 아니면 어떤 위로를 해주셨는지 궁금하네요. 프로젝트 진행에 대한 새로운 아이디어가 떠오르거나, 아니면 막막했던 마음이 조금이나마 풀리셨는지도 궁금해요.\n",
      "*   **혹시 프로젝트와는 전혀 다른 이야기를 나누셨나요?** 맛있는 음식을 먹었던 이야기처럼, 친구분과의 즐거운 대화가 잠시라도 프로젝트 걱정을 잊게 해줬다면 그것만으로도 큰 힘이 되었을 것 같아요.\n",
      "*   **친구분과의 대화에서 가장 좋았던 부분은 무엇이었나요?** 솔직한 속마음을 털어놓을 수 있어서 좋았는지, 아니면 서로를 격려하고 응원하는 따뜻한 분위기가 좋았는지, 아니면 그냥 함께 시간을 보내는 것 자체가 좋았는지 알려주세요.\n",
      "\n",
      "힘든 상황 속에서도 좋은 친구분과 함께 웃을 수 있다는 건 정말 큰 행운이에요. 오늘 하루, 친구분과의 좋은 대화 덕분에 긍정적인 에너지를 얻으셨기를 바랍니다. 😊\n",
      "\n",
      "Gemini: Gemini: 정말 다사다난한 하루였네요. 😥 친구분과의 좋은 대화로 기분 전환도 하셨지만, 프로젝트 때문에 약속도 못 지키고 죄책감도 느끼셨으니 얼마나 정신적으로 고단하셨을지 짐작이 갑니다.\n",
      "\n",
      "맛있는 점심을 드셨던 게 정말 오래전 일처럼 느껴지실 수도 있겠네요. 😅 이제 하루가 거의 끝나가니, 너무 애쓰지 마시고 편안하게 쉬셨으면 좋겠어요.\n",
      "\n",
      "오늘 하루를 되돌아봤을 때, 어떤 점이 가장 힘드셨나요?\n",
      "\n",
      "*   **가장 큰 에너지를 쏟았던 일은 무엇이었나요?** 아무래도 프로젝트 문제 해결에 가장 많은 시간을 쏟으셨을 것 같은데, 혹시 예상치 못한 다른 일 때문에 더 힘드셨던 건 아닌지 궁금해요.\n",
      "*   **하루 동안 느꼈던 감정 변화를 간략하게 정리해주실 수 있을까요?** 예를 들어, \"프로젝트 걱정 -> 맛있는 점심으로 기분 전환 -> 약속 불이행에 대한 죄책감 -> 친구와의 대화로 위로\" 와 같이 시간 순서대로 감정 변화를 요약해주시면 제가 더 잘 이해할 수 있을 것 같아요.\n",
      "*   **내일은 어떤 점이 가장 걱정되시나요?** 혹시 아직 해결되지 않은 프로젝트 문제 때문에 밤새도록 고민해야 할까 봐 걱정되시는 건 아닌지 염려됩니다.\n",
      "\n",
      "피곤하실 텐데, 굳이 모든 질문에 답하실 필요는 없어요. 그냥 편안하게, 생각나는 대로 이야기해주시면 됩니다. 😊 그리고 무엇보다 중요한 건, 오늘 하루 정말 수고하셨다는 말씀을 꼭 드리고 싶어요! 푹 쉬시고 내일은 좀 더 긍정적인 마음으로 하루를 시작할 수 있기를 바랍니다.\n",
      "\n"
     ]
    }
   ],
   "source": [
    "# 인터랙티브 대화 시뮬레이션\n",
    "print(\"대화를 시작합니다. 종료하려면 'exit'를 입력하세요.\")\n",
    "\n",
    "# 첫 질문: Gemini가 초기 질문을 던지거나 사용자가 첫 답변을 입력하도록 할 수 있음. \n",
    "user_response = input(\"User: \")\n",
    "emotion = input(\"User 감정 (예: 기쁨, 슬픔, 화남 등): \")\n",
    "follow_up_question = ask_gemini(user_response, emotion)\n",
    "print(\"Gemini:\", follow_up_question)\n",
    "\n",
    "# 반복 대화: 사용자가 답변하고, 감정 분석 결과(여기서는 수동 입력)를 받아서 Gemini가 추가 질문. \n",
    "while True:\n",
    "    user_response = input(\"User: \")\n",
    "    if user_response.lower() == \"exit\":\n",
    "        break\n",
    "    emotion = input(\"User 감정 (예: 기쁨, 슬픔, 화남 등): \")\n",
    "    follow_up_question = ask_gemini(user_response, emotion)\n",
    "    print(\"Gemini:\", follow_up_question)"
   ]
  },
  {
   "cell_type": "markdown",
   "metadata": {},
   "source": [
    "## 전체 대화 내용을 Gemini 모델에 전달하여 간결하게 요약"
   ]
  },
  {
   "cell_type": "code",
   "execution_count": null,
   "metadata": {},
   "outputs": [],
   "source": [
    "# Gemini API 설정\n",
    "genai.configure(api_key=gemini_key)\n",
    "\n",
    "# Gemini 모델 선택\n",
    "model = genai.GenerativeModel('gemini-2.0-flash')\n",
    "\n",
    "def summarize_conversation(conversation):\n",
    "    prompt = f\"\"\"\n",
    "    다음 대화 내용을 요약하세요:\n",
    "    \"{conversation}\"\n",
    "    요약은 간결하고 핵심 내용을 포함해야 합니다.\n",
    "    \"\"\"\n",
    "    response = model.generate_content(prompt)\n",
    "    return response.text"
   ]
  },
  {
   "cell_type": "code",
   "execution_count": 6,
   "metadata": {},
   "outputs": [
    {
     "name": "stdout",
     "output_type": "stream",
     "text": [
      "LLM은 회사 일 때문에 힘든 하루를 보냈다.\n",
      "\n"
     ]
    }
   ],
   "source": [
    "conversation = \"\"\"\n",
    "사용자: 오늘 기분이 어떠세요?\n",
    "LLM: 오늘 너무 힘들었어요.\n",
    "사용자: 왜 힘드셨어요?\n",
    "LLM: 회사에서 일이 너무 많았어요.\n",
    "\"\"\"\n",
    "\n",
    "summary = summarize_conversation(conversation)\n",
    "print(summary)"
   ]
  },
  {
   "cell_type": "markdown",
   "metadata": {},
   "source": [
    "### 기록 되어진 전체 대화 내용을 요약"
   ]
  },
  {
   "cell_type": "code",
   "execution_count": null,
   "metadata": {},
   "outputs": [
    {
     "name": "stdout",
     "output_type": "stream",
     "text": [
      "대화 요약: 사용자는 일기를 쓰면서 맛있는 점심에 행복했지만 약속을 못 지켜 죄책감을 느꼈다. 저녁에는 친구와의 즐거운 대화로 기분이 나아졌지만, 결국 하루의 피로감을 느꼈다. Gemini는 사용자의 다양한 감정에 공감하며 피로의 원인을 묻고, 내일을 위한 조언을 제시했다.\n",
      "\n"
     ]
    }
   ],
   "source": [
    "# Gemini API 설정\n",
    "genai.configure(api_key=gemini_key)\n",
    "\n",
    "# Gemini 모델 선택\n",
    "model = genai.GenerativeModel('gemini-2.0-flash')\n",
    "\n",
    "def summarize_conversation(conversation):\n",
    "    prompt = f\"\"\"\n",
    "    다음 대화 내용을 요약하세요:\n",
    "    \"{conversation}\"\n",
    "    요약은 간결하고 핵심 내용을 포함해야 합니다.\n",
    "    \"\"\"\n",
    "    response = model.generate_content(prompt)\n",
    "    return response.text\n",
    "\n",
    "# 저장된 대화 기록(chat_history)를 하나의 문자열로 결합하여 요약 요청\n",
    "full_conversation = \"\\n\".join(chat_history)\n",
    "summary = summarize_conversation(full_conversation)\n",
    "print(\"대화 요약:\", summary)"
   ]
  },
  {
   "cell_type": "code",
   "execution_count": null,
   "metadata": {},
   "outputs": [],
   "source": [
    "def summarize_conversation():\n",
    "    \"\"\"\n",
    "    저장된 전체 대화 내용을 Gemini 모델을 통해 간결하고 핵심적인 요약으로 생성.\n",
    "    \"\"\"\n",
    "    full_conversation = \"\\n\".join(chat_history)\n",
    "    prompt = f\"\"\"\n",
    "    다음 대화 내용을 요약해주세요:\n",
    "    \"{full_conversation}\"\n",
    "    요약은 간결하고 핵심 내용을 포함해야 합니다.\n",
    "    \"\"\"\n",
    "    response = model.generate_content(prompt)\n",
    "    return response.text"
   ]
  },
  {
   "cell_type": "code",
   "execution_count": 6,
   "metadata": {},
   "outputs": [
    {
     "name": "stdout",
     "output_type": "stream",
     "text": [
      "\n",
      "대화 요약:\n",
      "사용자는 맛있는 점심으로 기분 전환 후 프로젝트 지연으로 인한 약속 불이행에 죄책감을 느낌. 친구와의 대화로 위로를 받았으나, 다사다난한 하루에 피로감을 느낌. Gemini는 사용자의 감정 변화에 공감하며 위로와 질문을 통해 문제 해결을 돕고자 함.\n",
      "\n"
     ]
    }
   ],
   "source": [
    "# 대화 종료 후 전체 대화 내용 요약\n",
    "summary = summarize_conversation()\n",
    "print(\"\\n대화 요약:\")\n",
    "print(summary)"
   ]
  }
 ],
 "metadata": {
  "kernelspec": {
   "display_name": "DL311",
   "language": "python",
   "name": "python3"
  },
  "language_info": {
   "codemirror_mode": {
    "name": "ipython",
    "version": 3
   },
   "file_extension": ".py",
   "mimetype": "text/x-python",
   "name": "python",
   "nbconvert_exporter": "python",
   "pygments_lexer": "ipython3",
   "version": "3.11.11"
  }
 },
 "nbformat": 4,
 "nbformat_minor": 2
}
