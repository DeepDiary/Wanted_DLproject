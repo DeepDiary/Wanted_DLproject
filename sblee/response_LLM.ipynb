{
 "cells": [
  {
   "cell_type": "markdown",
   "metadata": {},
   "source": [
    "## 사용자의 답변과 감정 분석 결과를 \n",
    "## Gemini 모델에 전달하여 상황에 맞는 추가 질문을 생성"
   ]
  },
  {
   "cell_type": "code",
   "execution_count": 1,
   "metadata": {},
   "outputs": [],
   "source": [
    "import sys\n",
    "import os\n",
    "\n",
    "sys.path.append(os.path.abspath(\"..\"))  # 현재 디렉터리의 상위 경로 추가\n",
    "#print(sys.path)"
   ]
  },
  {
   "cell_type": "code",
   "execution_count": 2,
   "metadata": {},
   "outputs": [
    {
     "name": "stderr",
     "output_type": "stream",
     "text": [
      "c:\\Users\\user\\miniconda3\\envs\\DL311\\Lib\\site-packages\\tqdm\\auto.py:21: TqdmWarning: IProgress not found. Please update jupyter and ipywidgets. See https://ipywidgets.readthedocs.io/en/stable/user_install.html\n",
      "  from .autonotebook import tqdm as notebook_tqdm\n"
     ]
    }
   ],
   "source": [
    "from config.api_keys import gemini_key\n",
    "import google.generativeai as genai"
   ]
  },
  {
   "cell_type": "code",
   "execution_count": 3,
   "metadata": {},
   "outputs": [],
   "source": [
    "# Gemini API 설정\n",
    "genai.configure(api_key=gemini_key)\n",
    "\n",
    "# Gemini Pro 모델 선택\n",
    "model = genai.GenerativeModel('gemini-2.0-flash')\n",
    "\n",
    "def generate_question(user_response, emotion, conversation):\n",
    "    prompt = f\"\"\"\n",
    "    사용자의 답변: \"{user_response}\"\n",
    "    사용자의 감정: \"{emotion}\"\n",
    "    이전 대화 내용: \"{conversation}\"\n",
    "\n",
    "    위 정보를 바탕으로 사용자의 상황과 감정을 고려하여 다음 질문을 생성하세요.\n",
    "    질문은 구체적이고 답변하기 쉬워야 합니다.\n",
    "    \"\"\"\n",
    "    response = model.generate_content(prompt)\n",
    "    return response.text"
   ]
  },
  {
   "cell_type": "code",
   "execution_count": 4,
   "metadata": {},
   "outputs": [
    {
     "name": "stdout",
     "output_type": "stream",
     "text": [
      "오늘 어떤 일 때문에 그렇게 힘드셨나요? 혹시 구체적으로 말씀해주실 수 있을까요? (예: 업무, 인간관계, 건강 등)\n",
      "\n"
     ]
    }
   ],
   "source": [
    "user_response = \"오늘 너무 힘들었어요.\"\n",
    "emotion = \"슬픔\"\n",
    "conversation = \"사용자: 오늘 기분이 어떠세요? \\nLLM: 오늘 너무 힘들었어요.\"\n",
    "\n",
    "follow_up_question = generate_question(user_response, emotion, conversation)\n",
    "print(follow_up_question)"
   ]
  },
  {
   "cell_type": "markdown",
   "metadata": {},
   "source": [
    "## 전체 대화 내용을 Gemini 모델에 전달하여 간결하게 요약"
   ]
  },
  {
   "cell_type": "code",
   "execution_count": null,
   "metadata": {},
   "outputs": [],
   "source": [
    "# Gemini API 설정\n",
    "genai.configure(api_key=gemini_key)\n",
    "\n",
    "# Gemini Pro 모델 선택\n",
    "model = genai.GenerativeModel('gemini-2.0-flash')\n",
    "\n",
    "def summarize_conversation(conversation):\n",
    "    prompt = f\"\"\"\n",
    "    다음 대화 내용을 요약하세요:\n",
    "    \"{conversation}\"\n",
    "    요약은 간결하고 핵심 내용을 포함해야 합니다.\n",
    "    \"\"\"\n",
    "    response = model.generate_content(prompt)\n",
    "    return response.text"
   ]
  },
  {
   "cell_type": "code",
   "execution_count": 6,
   "metadata": {},
   "outputs": [
    {
     "name": "stdout",
     "output_type": "stream",
     "text": [
      "LLM은 회사 일 때문에 힘든 하루를 보냈다.\n",
      "\n"
     ]
    }
   ],
   "source": [
    "conversation = \"\"\"\n",
    "사용자: 오늘 기분이 어떠세요?\n",
    "LLM: 오늘 너무 힘들었어요.\n",
    "사용자: 왜 힘드셨어요?\n",
    "LLM: 회사에서 일이 너무 많았어요.\n",
    "\"\"\"\n",
    "\n",
    "summary = summarize_conversation(conversation)\n",
    "print(summary)"
   ]
  }
 ],
 "metadata": {
  "kernelspec": {
   "display_name": "DL311",
   "language": "python",
   "name": "python3"
  },
  "language_info": {
   "codemirror_mode": {
    "name": "ipython",
    "version": 3
   },
   "file_extension": ".py",
   "mimetype": "text/x-python",
   "name": "python",
   "nbconvert_exporter": "python",
   "pygments_lexer": "ipython3",
   "version": "3.11.11"
  }
 },
 "nbformat": 4,
 "nbformat_minor": 2
}
